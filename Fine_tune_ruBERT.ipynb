{
  "nbformat": 4,
  "nbformat_minor": 0,
  "metadata": {
    "colab": {
      "provenance": []
    },
    "kernelspec": {
      "name": "python3",
      "display_name": "Python 3"
    },
    "language_info": {
      "name": "python"
    },
    "widgets": {
      "application/vnd.jupyter.widget-state+json": {
        "8fecefdfbe7b4384b783c1e82f9e7b24": {
          "model_module": "@jupyter-widgets/controls",
          "model_name": "HBoxModel",
          "model_module_version": "1.5.0",
          "state": {
            "_dom_classes": [],
            "_model_module": "@jupyter-widgets/controls",
            "_model_module_version": "1.5.0",
            "_model_name": "HBoxModel",
            "_view_count": null,
            "_view_module": "@jupyter-widgets/controls",
            "_view_module_version": "1.5.0",
            "_view_name": "HBoxView",
            "box_style": "",
            "children": [
              "IPY_MODEL_793e4e9b150040a09143d710f30111c8",
              "IPY_MODEL_57b6795dbcfd45a4b13082cbc36da0e7",
              "IPY_MODEL_f615a1f037e04b4589af5cc36b84e94b"
            ],
            "layout": "IPY_MODEL_a543bc8e9c044859bd815dd4e7154af3"
          }
        },
        "793e4e9b150040a09143d710f30111c8": {
          "model_module": "@jupyter-widgets/controls",
          "model_name": "HTMLModel",
          "model_module_version": "1.5.0",
          "state": {
            "_dom_classes": [],
            "_model_module": "@jupyter-widgets/controls",
            "_model_module_version": "1.5.0",
            "_model_name": "HTMLModel",
            "_view_count": null,
            "_view_module": "@jupyter-widgets/controls",
            "_view_module_version": "1.5.0",
            "_view_name": "HTMLView",
            "description": "",
            "description_tooltip": null,
            "layout": "IPY_MODEL_a83001c821a644aca1b8d9cf47146a78",
            "placeholder": "​",
            "style": "IPY_MODEL_704c0482b97c42cb9aa8bbbdd1d6edf0",
            "value": "Map: 100%"
          }
        },
        "57b6795dbcfd45a4b13082cbc36da0e7": {
          "model_module": "@jupyter-widgets/controls",
          "model_name": "FloatProgressModel",
          "model_module_version": "1.5.0",
          "state": {
            "_dom_classes": [],
            "_model_module": "@jupyter-widgets/controls",
            "_model_module_version": "1.5.0",
            "_model_name": "FloatProgressModel",
            "_view_count": null,
            "_view_module": "@jupyter-widgets/controls",
            "_view_module_version": "1.5.0",
            "_view_name": "ProgressView",
            "bar_style": "success",
            "description": "",
            "description_tooltip": null,
            "layout": "IPY_MODEL_b417a746563845ada213fb50df6a6da8",
            "max": 803,
            "min": 0,
            "orientation": "horizontal",
            "style": "IPY_MODEL_cb9b2d0363ab438c973cb96704b6be06",
            "value": 803
          }
        },
        "f615a1f037e04b4589af5cc36b84e94b": {
          "model_module": "@jupyter-widgets/controls",
          "model_name": "HTMLModel",
          "model_module_version": "1.5.0",
          "state": {
            "_dom_classes": [],
            "_model_module": "@jupyter-widgets/controls",
            "_model_module_version": "1.5.0",
            "_model_name": "HTMLModel",
            "_view_count": null,
            "_view_module": "@jupyter-widgets/controls",
            "_view_module_version": "1.5.0",
            "_view_name": "HTMLView",
            "description": "",
            "description_tooltip": null,
            "layout": "IPY_MODEL_de25853fada84e5bb3856d93fd565b0e",
            "placeholder": "​",
            "style": "IPY_MODEL_4fa98e9e6a7f48d0bedf77c8eca2389c",
            "value": " 803/803 [00:08&lt;00:00, 95.82 examples/s]"
          }
        },
        "a543bc8e9c044859bd815dd4e7154af3": {
          "model_module": "@jupyter-widgets/base",
          "model_name": "LayoutModel",
          "model_module_version": "1.2.0",
          "state": {
            "_model_module": "@jupyter-widgets/base",
            "_model_module_version": "1.2.0",
            "_model_name": "LayoutModel",
            "_view_count": null,
            "_view_module": "@jupyter-widgets/base",
            "_view_module_version": "1.2.0",
            "_view_name": "LayoutView",
            "align_content": null,
            "align_items": null,
            "align_self": null,
            "border": null,
            "bottom": null,
            "display": null,
            "flex": null,
            "flex_flow": null,
            "grid_area": null,
            "grid_auto_columns": null,
            "grid_auto_flow": null,
            "grid_auto_rows": null,
            "grid_column": null,
            "grid_gap": null,
            "grid_row": null,
            "grid_template_areas": null,
            "grid_template_columns": null,
            "grid_template_rows": null,
            "height": null,
            "justify_content": null,
            "justify_items": null,
            "left": null,
            "margin": null,
            "max_height": null,
            "max_width": null,
            "min_height": null,
            "min_width": null,
            "object_fit": null,
            "object_position": null,
            "order": null,
            "overflow": null,
            "overflow_x": null,
            "overflow_y": null,
            "padding": null,
            "right": null,
            "top": null,
            "visibility": null,
            "width": null
          }
        },
        "a83001c821a644aca1b8d9cf47146a78": {
          "model_module": "@jupyter-widgets/base",
          "model_name": "LayoutModel",
          "model_module_version": "1.2.0",
          "state": {
            "_model_module": "@jupyter-widgets/base",
            "_model_module_version": "1.2.0",
            "_model_name": "LayoutModel",
            "_view_count": null,
            "_view_module": "@jupyter-widgets/base",
            "_view_module_version": "1.2.0",
            "_view_name": "LayoutView",
            "align_content": null,
            "align_items": null,
            "align_self": null,
            "border": null,
            "bottom": null,
            "display": null,
            "flex": null,
            "flex_flow": null,
            "grid_area": null,
            "grid_auto_columns": null,
            "grid_auto_flow": null,
            "grid_auto_rows": null,
            "grid_column": null,
            "grid_gap": null,
            "grid_row": null,
            "grid_template_areas": null,
            "grid_template_columns": null,
            "grid_template_rows": null,
            "height": null,
            "justify_content": null,
            "justify_items": null,
            "left": null,
            "margin": null,
            "max_height": null,
            "max_width": null,
            "min_height": null,
            "min_width": null,
            "object_fit": null,
            "object_position": null,
            "order": null,
            "overflow": null,
            "overflow_x": null,
            "overflow_y": null,
            "padding": null,
            "right": null,
            "top": null,
            "visibility": null,
            "width": null
          }
        },
        "704c0482b97c42cb9aa8bbbdd1d6edf0": {
          "model_module": "@jupyter-widgets/controls",
          "model_name": "DescriptionStyleModel",
          "model_module_version": "1.5.0",
          "state": {
            "_model_module": "@jupyter-widgets/controls",
            "_model_module_version": "1.5.0",
            "_model_name": "DescriptionStyleModel",
            "_view_count": null,
            "_view_module": "@jupyter-widgets/base",
            "_view_module_version": "1.2.0",
            "_view_name": "StyleView",
            "description_width": ""
          }
        },
        "b417a746563845ada213fb50df6a6da8": {
          "model_module": "@jupyter-widgets/base",
          "model_name": "LayoutModel",
          "model_module_version": "1.2.0",
          "state": {
            "_model_module": "@jupyter-widgets/base",
            "_model_module_version": "1.2.0",
            "_model_name": "LayoutModel",
            "_view_count": null,
            "_view_module": "@jupyter-widgets/base",
            "_view_module_version": "1.2.0",
            "_view_name": "LayoutView",
            "align_content": null,
            "align_items": null,
            "align_self": null,
            "border": null,
            "bottom": null,
            "display": null,
            "flex": null,
            "flex_flow": null,
            "grid_area": null,
            "grid_auto_columns": null,
            "grid_auto_flow": null,
            "grid_auto_rows": null,
            "grid_column": null,
            "grid_gap": null,
            "grid_row": null,
            "grid_template_areas": null,
            "grid_template_columns": null,
            "grid_template_rows": null,
            "height": null,
            "justify_content": null,
            "justify_items": null,
            "left": null,
            "margin": null,
            "max_height": null,
            "max_width": null,
            "min_height": null,
            "min_width": null,
            "object_fit": null,
            "object_position": null,
            "order": null,
            "overflow": null,
            "overflow_x": null,
            "overflow_y": null,
            "padding": null,
            "right": null,
            "top": null,
            "visibility": null,
            "width": null
          }
        },
        "cb9b2d0363ab438c973cb96704b6be06": {
          "model_module": "@jupyter-widgets/controls",
          "model_name": "ProgressStyleModel",
          "model_module_version": "1.5.0",
          "state": {
            "_model_module": "@jupyter-widgets/controls",
            "_model_module_version": "1.5.0",
            "_model_name": "ProgressStyleModel",
            "_view_count": null,
            "_view_module": "@jupyter-widgets/base",
            "_view_module_version": "1.2.0",
            "_view_name": "StyleView",
            "bar_color": null,
            "description_width": ""
          }
        },
        "de25853fada84e5bb3856d93fd565b0e": {
          "model_module": "@jupyter-widgets/base",
          "model_name": "LayoutModel",
          "model_module_version": "1.2.0",
          "state": {
            "_model_module": "@jupyter-widgets/base",
            "_model_module_version": "1.2.0",
            "_model_name": "LayoutModel",
            "_view_count": null,
            "_view_module": "@jupyter-widgets/base",
            "_view_module_version": "1.2.0",
            "_view_name": "LayoutView",
            "align_content": null,
            "align_items": null,
            "align_self": null,
            "border": null,
            "bottom": null,
            "display": null,
            "flex": null,
            "flex_flow": null,
            "grid_area": null,
            "grid_auto_columns": null,
            "grid_auto_flow": null,
            "grid_auto_rows": null,
            "grid_column": null,
            "grid_gap": null,
            "grid_row": null,
            "grid_template_areas": null,
            "grid_template_columns": null,
            "grid_template_rows": null,
            "height": null,
            "justify_content": null,
            "justify_items": null,
            "left": null,
            "margin": null,
            "max_height": null,
            "max_width": null,
            "min_height": null,
            "min_width": null,
            "object_fit": null,
            "object_position": null,
            "order": null,
            "overflow": null,
            "overflow_x": null,
            "overflow_y": null,
            "padding": null,
            "right": null,
            "top": null,
            "visibility": null,
            "width": null
          }
        },
        "4fa98e9e6a7f48d0bedf77c8eca2389c": {
          "model_module": "@jupyter-widgets/controls",
          "model_name": "DescriptionStyleModel",
          "model_module_version": "1.5.0",
          "state": {
            "_model_module": "@jupyter-widgets/controls",
            "_model_module_version": "1.5.0",
            "_model_name": "DescriptionStyleModel",
            "_view_count": null,
            "_view_module": "@jupyter-widgets/base",
            "_view_module_version": "1.2.0",
            "_view_name": "StyleView",
            "description_width": ""
          }
        }
      }
    }
  },
  "cells": [
    {
      "cell_type": "code",
      "source": [
        "!pip install h5py\n",
        "!pip install typing-extensions\n",
        "!pip install wheel"
      ],
      "metadata": {
        "colab": {
          "base_uri": "https://localhost:8080/"
        },
        "collapsed": true,
        "id": "m8auM47wDXZ7",
        "outputId": "225b8776-2e03-40da-f886-319334243d75"
      },
      "execution_count": 36,
      "outputs": [
        {
          "output_type": "stream",
          "name": "stdout",
          "text": [
            "Requirement already satisfied: h5py in /usr/local/lib/python3.11/dist-packages (3.13.0)\n",
            "Requirement already satisfied: numpy>=1.19.3 in /usr/local/lib/python3.11/dist-packages (from h5py) (2.0.2)\n",
            "Requirement already satisfied: typing-extensions in /usr/local/lib/python3.11/dist-packages (4.13.2)\n",
            "Requirement already satisfied: wheel in /usr/local/lib/python3.11/dist-packages (0.45.1)\n"
          ]
        }
      ]
    },
    {
      "cell_type": "code",
      "source": [
        "!pip install peft==0.10.0"
      ],
      "metadata": {
        "colab": {
          "base_uri": "https://localhost:8080/"
        },
        "collapsed": true,
        "id": "Tt8W9nkOEkqX",
        "outputId": "9fa3de92-2daa-4aa6-8499-8dd3e01cf83e"
      },
      "execution_count": 37,
      "outputs": [
        {
          "output_type": "stream",
          "name": "stdout",
          "text": [
            "Requirement already satisfied: peft==0.10.0 in /usr/local/lib/python3.11/dist-packages (0.10.0)\n",
            "Requirement already satisfied: numpy>=1.17 in /usr/local/lib/python3.11/dist-packages (from peft==0.10.0) (2.0.2)\n",
            "Requirement already satisfied: packaging>=20.0 in /usr/local/lib/python3.11/dist-packages (from peft==0.10.0) (24.2)\n",
            "Requirement already satisfied: psutil in /usr/local/lib/python3.11/dist-packages (from peft==0.10.0) (5.9.5)\n",
            "Requirement already satisfied: pyyaml in /usr/local/lib/python3.11/dist-packages (from peft==0.10.0) (6.0.2)\n",
            "Requirement already satisfied: torch>=1.13.0 in /usr/local/lib/python3.11/dist-packages (from peft==0.10.0) (2.6.0+cu124)\n",
            "Requirement already satisfied: transformers in /usr/local/lib/python3.11/dist-packages (from peft==0.10.0) (4.48.3)\n",
            "Requirement already satisfied: tqdm in /usr/local/lib/python3.11/dist-packages (from peft==0.10.0) (4.67.1)\n",
            "Requirement already satisfied: accelerate>=0.21.0 in /usr/local/lib/python3.11/dist-packages (from peft==0.10.0) (1.6.0)\n",
            "Requirement already satisfied: safetensors in /usr/local/lib/python3.11/dist-packages (from peft==0.10.0) (0.5.3)\n",
            "Requirement already satisfied: huggingface-hub>=0.17.0 in /usr/local/lib/python3.11/dist-packages (from peft==0.10.0) (0.30.2)\n",
            "Requirement already satisfied: filelock in /usr/local/lib/python3.11/dist-packages (from huggingface-hub>=0.17.0->peft==0.10.0) (3.18.0)\n",
            "Requirement already satisfied: fsspec>=2023.5.0 in /usr/local/lib/python3.11/dist-packages (from huggingface-hub>=0.17.0->peft==0.10.0) (2025.3.2)\n",
            "Requirement already satisfied: requests in /usr/local/lib/python3.11/dist-packages (from huggingface-hub>=0.17.0->peft==0.10.0) (2.32.3)\n",
            "Requirement already satisfied: typing-extensions>=3.7.4.3 in /usr/local/lib/python3.11/dist-packages (from huggingface-hub>=0.17.0->peft==0.10.0) (4.13.2)\n",
            "Requirement already satisfied: networkx in /usr/local/lib/python3.11/dist-packages (from torch>=1.13.0->peft==0.10.0) (3.4.2)\n",
            "Requirement already satisfied: jinja2 in /usr/local/lib/python3.11/dist-packages (from torch>=1.13.0->peft==0.10.0) (3.1.6)\n",
            "Requirement already satisfied: nvidia-cuda-nvrtc-cu12==12.4.127 in /usr/local/lib/python3.11/dist-packages (from torch>=1.13.0->peft==0.10.0) (12.4.127)\n",
            "Requirement already satisfied: nvidia-cuda-runtime-cu12==12.4.127 in /usr/local/lib/python3.11/dist-packages (from torch>=1.13.0->peft==0.10.0) (12.4.127)\n",
            "Requirement already satisfied: nvidia-cuda-cupti-cu12==12.4.127 in /usr/local/lib/python3.11/dist-packages (from torch>=1.13.0->peft==0.10.0) (12.4.127)\n",
            "Requirement already satisfied: nvidia-cudnn-cu12==9.1.0.70 in /usr/local/lib/python3.11/dist-packages (from torch>=1.13.0->peft==0.10.0) (9.1.0.70)\n",
            "Requirement already satisfied: nvidia-cublas-cu12==12.4.5.8 in /usr/local/lib/python3.11/dist-packages (from torch>=1.13.0->peft==0.10.0) (12.4.5.8)\n",
            "Requirement already satisfied: nvidia-cufft-cu12==11.2.1.3 in /usr/local/lib/python3.11/dist-packages (from torch>=1.13.0->peft==0.10.0) (11.2.1.3)\n",
            "Requirement already satisfied: nvidia-curand-cu12==10.3.5.147 in /usr/local/lib/python3.11/dist-packages (from torch>=1.13.0->peft==0.10.0) (10.3.5.147)\n",
            "Requirement already satisfied: nvidia-cusolver-cu12==11.6.1.9 in /usr/local/lib/python3.11/dist-packages (from torch>=1.13.0->peft==0.10.0) (11.6.1.9)\n",
            "Requirement already satisfied: nvidia-cusparse-cu12==12.3.1.170 in /usr/local/lib/python3.11/dist-packages (from torch>=1.13.0->peft==0.10.0) (12.3.1.170)\n",
            "Requirement already satisfied: nvidia-cusparselt-cu12==0.6.2 in /usr/local/lib/python3.11/dist-packages (from torch>=1.13.0->peft==0.10.0) (0.6.2)\n",
            "Requirement already satisfied: nvidia-nccl-cu12==2.21.5 in /usr/local/lib/python3.11/dist-packages (from torch>=1.13.0->peft==0.10.0) (2.21.5)\n",
            "Requirement already satisfied: nvidia-nvtx-cu12==12.4.127 in /usr/local/lib/python3.11/dist-packages (from torch>=1.13.0->peft==0.10.0) (12.4.127)\n",
            "Requirement already satisfied: nvidia-nvjitlink-cu12==12.4.127 in /usr/local/lib/python3.11/dist-packages (from torch>=1.13.0->peft==0.10.0) (12.4.127)\n",
            "Requirement already satisfied: triton==3.2.0 in /usr/local/lib/python3.11/dist-packages (from torch>=1.13.0->peft==0.10.0) (3.2.0)\n",
            "Requirement already satisfied: sympy==1.13.1 in /usr/local/lib/python3.11/dist-packages (from torch>=1.13.0->peft==0.10.0) (1.13.1)\n",
            "Requirement already satisfied: mpmath<1.4,>=1.1.0 in /usr/local/lib/python3.11/dist-packages (from sympy==1.13.1->torch>=1.13.0->peft==0.10.0) (1.3.0)\n",
            "Requirement already satisfied: regex!=2019.12.17 in /usr/local/lib/python3.11/dist-packages (from transformers->peft==0.10.0) (2024.11.6)\n",
            "Requirement already satisfied: tokenizers<0.22,>=0.21 in /usr/local/lib/python3.11/dist-packages (from transformers->peft==0.10.0) (0.21.1)\n",
            "Requirement already satisfied: MarkupSafe>=2.0 in /usr/local/lib/python3.11/dist-packages (from jinja2->torch>=1.13.0->peft==0.10.0) (3.0.2)\n",
            "Requirement already satisfied: charset-normalizer<4,>=2 in /usr/local/lib/python3.11/dist-packages (from requests->huggingface-hub>=0.17.0->peft==0.10.0) (3.4.1)\n",
            "Requirement already satisfied: idna<4,>=2.5 in /usr/local/lib/python3.11/dist-packages (from requests->huggingface-hub>=0.17.0->peft==0.10.0) (3.10)\n",
            "Requirement already satisfied: urllib3<3,>=1.21.1 in /usr/local/lib/python3.11/dist-packages (from requests->huggingface-hub>=0.17.0->peft==0.10.0) (2.4.0)\n",
            "Requirement already satisfied: certifi>=2017.4.17 in /usr/local/lib/python3.11/dist-packages (from requests->huggingface-hub>=0.17.0->peft==0.10.0) (2025.4.26)\n"
          ]
        }
      ]
    },
    {
      "cell_type": "code",
      "source": [
        "!pip install transformers datasets scikit-learn torch --quiet --use-deprecated=legacy-resolver"
      ],
      "metadata": {
        "colab": {
          "base_uri": "https://localhost:8080/"
        },
        "id": "jNXT7YfDCT8J",
        "outputId": "be283137-c65c-4718-a1f0-f2ff2301793b"
      },
      "execution_count": 38,
      "outputs": [
        {
          "output_type": "stream",
          "name": "stdout",
          "text": [
            "\u001b[31mERROR: pip's legacy dependency resolver does not consider dependency conflicts when selecting packages. This behaviour is the source of the following dependency conflicts.\n",
            "gcsfs 2025.3.2 requires fsspec==2025.3.2, but you'll have fsspec 2025.3.0 which is incompatible.\u001b[0m\u001b[31m\n",
            "\u001b[0m"
          ]
        }
      ]
    },
    {
      "cell_type": "code",
      "source": [
        "!pip install fsspec==2025.3.2"
      ],
      "metadata": {
        "colab": {
          "base_uri": "https://localhost:8080/"
        },
        "collapsed": true,
        "id": "T8JHenKRJrsy",
        "outputId": "2c9e1b67-b30a-427b-b6e4-1a20e0f6e27a"
      },
      "execution_count": 39,
      "outputs": [
        {
          "output_type": "stream",
          "name": "stdout",
          "text": [
            "Collecting fsspec==2025.3.2\n",
            "  Using cached fsspec-2025.3.2-py3-none-any.whl.metadata (11 kB)\n",
            "Using cached fsspec-2025.3.2-py3-none-any.whl (194 kB)\n",
            "Installing collected packages: fsspec\n",
            "  Attempting uninstall: fsspec\n",
            "    Found existing installation: fsspec 2025.3.0\n",
            "    Uninstalling fsspec-2025.3.0:\n",
            "      Successfully uninstalled fsspec-2025.3.0\n",
            "\u001b[31mERROR: pip's dependency resolver does not currently take into account all the packages that are installed. This behaviour is the source of the following dependency conflicts.\n",
            "datasets 3.6.0 requires fsspec[http]<=2025.3.0,>=2023.1.0, but you have fsspec 2025.3.2 which is incompatible.\u001b[0m\u001b[31m\n",
            "\u001b[0mSuccessfully installed fsspec-2025.3.2\n"
          ]
        }
      ]
    },
    {
      "cell_type": "code",
      "source": [
        "!pip install adapters"
      ],
      "metadata": {
        "colab": {
          "base_uri": "https://localhost:8080/"
        },
        "collapsed": true,
        "id": "eK8ns-YGFoH6",
        "outputId": "1df07c24-4ae5-43a0-f8b8-ceaf0af52094"
      },
      "execution_count": 40,
      "outputs": [
        {
          "output_type": "stream",
          "name": "stdout",
          "text": [
            "Requirement already satisfied: adapters in /usr/local/lib/python3.11/dist-packages (1.1.1)\n",
            "Requirement already satisfied: transformers~=4.48.3 in /usr/local/lib/python3.11/dist-packages (from adapters) (4.48.3)\n",
            "Requirement already satisfied: packaging in /usr/local/lib/python3.11/dist-packages (from adapters) (24.2)\n",
            "Requirement already satisfied: filelock in /usr/local/lib/python3.11/dist-packages (from transformers~=4.48.3->adapters) (3.18.0)\n",
            "Requirement already satisfied: huggingface-hub<1.0,>=0.24.0 in /usr/local/lib/python3.11/dist-packages (from transformers~=4.48.3->adapters) (0.30.2)\n",
            "Requirement already satisfied: numpy>=1.17 in /usr/local/lib/python3.11/dist-packages (from transformers~=4.48.3->adapters) (2.0.2)\n",
            "Requirement already satisfied: pyyaml>=5.1 in /usr/local/lib/python3.11/dist-packages (from transformers~=4.48.3->adapters) (6.0.2)\n",
            "Requirement already satisfied: regex!=2019.12.17 in /usr/local/lib/python3.11/dist-packages (from transformers~=4.48.3->adapters) (2024.11.6)\n",
            "Requirement already satisfied: requests in /usr/local/lib/python3.11/dist-packages (from transformers~=4.48.3->adapters) (2.32.3)\n",
            "Requirement already satisfied: tokenizers<0.22,>=0.21 in /usr/local/lib/python3.11/dist-packages (from transformers~=4.48.3->adapters) (0.21.1)\n",
            "Requirement already satisfied: safetensors>=0.4.1 in /usr/local/lib/python3.11/dist-packages (from transformers~=4.48.3->adapters) (0.5.3)\n",
            "Requirement already satisfied: tqdm>=4.27 in /usr/local/lib/python3.11/dist-packages (from transformers~=4.48.3->adapters) (4.67.1)\n",
            "Requirement already satisfied: fsspec>=2023.5.0 in /usr/local/lib/python3.11/dist-packages (from huggingface-hub<1.0,>=0.24.0->transformers~=4.48.3->adapters) (2025.3.2)\n",
            "Requirement already satisfied: typing-extensions>=3.7.4.3 in /usr/local/lib/python3.11/dist-packages (from huggingface-hub<1.0,>=0.24.0->transformers~=4.48.3->adapters) (4.13.2)\n",
            "Requirement already satisfied: charset-normalizer<4,>=2 in /usr/local/lib/python3.11/dist-packages (from requests->transformers~=4.48.3->adapters) (3.4.1)\n",
            "Requirement already satisfied: idna<4,>=2.5 in /usr/local/lib/python3.11/dist-packages (from requests->transformers~=4.48.3->adapters) (3.10)\n",
            "Requirement already satisfied: urllib3<3,>=1.21.1 in /usr/local/lib/python3.11/dist-packages (from requests->transformers~=4.48.3->adapters) (2.4.0)\n",
            "Requirement already satisfied: certifi>=2017.4.17 in /usr/local/lib/python3.11/dist-packages (from requests->transformers~=4.48.3->adapters) (2025.4.26)\n"
          ]
        }
      ]
    },
    {
      "cell_type": "code",
      "source": [
        "import pandas as pd\n",
        "import numpy as np\n",
        "from sklearn.metrics import classification_report, confusion_matrix\n",
        "from datasets import Dataset"
      ],
      "metadata": {
        "id": "Y-8jMRJuELtf"
      },
      "execution_count": 41,
      "outputs": []
    },
    {
      "cell_type": "code",
      "source": [
        "from transformers import AutoTokenizer, AutoModelForSequenceClassification"
      ],
      "metadata": {
        "id": "DNXjePxMEdi_"
      },
      "execution_count": 42,
      "outputs": []
    },
    {
      "cell_type": "code",
      "source": [
        "from transformers import TrainingArguments, Trainer"
      ],
      "metadata": {
        "collapsed": true,
        "id": "mui5aORcEqEj"
      },
      "execution_count": 43,
      "outputs": []
    },
    {
      "cell_type": "code",
      "source": [
        "from transformers import TrainingArguments, EvalPrediction\n",
        "from  adapters import AdapterTrainer"
      ],
      "metadata": {
        "id": "WTAqpHxKFtOu"
      },
      "execution_count": 44,
      "outputs": []
    },
    {
      "cell_type": "code",
      "source": [
        "import torch\n",
        "import matplotlib.pyplot as plt\n",
        "import seaborn as sns"
      ],
      "metadata": {
        "collapsed": true,
        "id": "gmOoLv35pUs5"
      },
      "execution_count": 45,
      "outputs": []
    },
    {
      "cell_type": "code",
      "source": [
        "# === 1. ЗАГРУЗКА ДАННЫХ ===\n",
        "\n",
        "# Загрузка предварительно подготовленного датафрейма с колонками \"clean_title\" и \"target\"\n",
        "df = pd.read_csv(\"df_news_clean.csv\")  # датасет с курсами и новостями, сохраненный из предыдущего эксперимента"
      ],
      "metadata": {
        "id": "EWIGM9FKp0Fm"
      },
      "execution_count": 46,
      "outputs": []
    },
    {
      "cell_type": "code",
      "source": [
        "#df = df.dropna(subset=[\"clean_title\", \"target\"])\n",
        "df_text = df[[\"title\", \"target\"]].rename(columns={\"title\": \"text\", \"target\": \"label\"}).dropna()\n",
        "\n",
        "# Приводим метки к типу int\n",
        "df_text[\"label\"] = df_text[\"label\"].astype(int)\n",
        "df_text"
      ],
      "metadata": {
        "colab": {
          "base_uri": "https://localhost:8080/",
          "height": 423
        },
        "id": "4gb1xCfip4vK",
        "outputId": "2bb30fef-1970-4dc8-f08a-376835be1b01"
      },
      "execution_count": 47,
      "outputs": [
        {
          "output_type": "execute_result",
          "data": {
            "text/plain": [
              "                                                  text  label\n",
              "0    Глава Генштаба оценил вероятность начала крупн...      0\n",
              "1    Путин назвал подвигом жизнь россиян в 1990-х П...      0\n",
              "2    Генсек ООН заявил о максимальном уровне геопол...      0\n",
              "3    В США объяснили путаницу с выводом войск из Ир...      0\n",
              "4    Путин рассказал о попытках помешать отношениям...      0\n",
              "..                                                 ...    ...\n",
              "798  Церемония встречи Путина и Ким Чен Ына началас...      1\n",
              "799  Генсек НАТО отреагировал на договор России и С...      1\n",
              "800  Бастрыкин рассказал про планы нацистов истреби...      0\n",
              "801  Пентагон спрогнозировал напряженность отношени...      0\n",
              "802  Ассанжа освободили из британской тюрьмы Пентаг...      0\n",
              "\n",
              "[803 rows x 2 columns]"
            ],
            "text/html": [
              "\n",
              "  <div id=\"df-93856d71-ee71-4e09-bb30-60bccb72299f\" class=\"colab-df-container\">\n",
              "    <div>\n",
              "<style scoped>\n",
              "    .dataframe tbody tr th:only-of-type {\n",
              "        vertical-align: middle;\n",
              "    }\n",
              "\n",
              "    .dataframe tbody tr th {\n",
              "        vertical-align: top;\n",
              "    }\n",
              "\n",
              "    .dataframe thead th {\n",
              "        text-align: right;\n",
              "    }\n",
              "</style>\n",
              "<table border=\"1\" class=\"dataframe\">\n",
              "  <thead>\n",
              "    <tr style=\"text-align: right;\">\n",
              "      <th></th>\n",
              "      <th>text</th>\n",
              "      <th>label</th>\n",
              "    </tr>\n",
              "  </thead>\n",
              "  <tbody>\n",
              "    <tr>\n",
              "      <th>0</th>\n",
              "      <td>Глава Генштаба оценил вероятность начала крупн...</td>\n",
              "      <td>0</td>\n",
              "    </tr>\n",
              "    <tr>\n",
              "      <th>1</th>\n",
              "      <td>Путин назвал подвигом жизнь россиян в 1990-х П...</td>\n",
              "      <td>0</td>\n",
              "    </tr>\n",
              "    <tr>\n",
              "      <th>2</th>\n",
              "      <td>Генсек ООН заявил о максимальном уровне геопол...</td>\n",
              "      <td>0</td>\n",
              "    </tr>\n",
              "    <tr>\n",
              "      <th>3</th>\n",
              "      <td>В США объяснили путаницу с выводом войск из Ир...</td>\n",
              "      <td>0</td>\n",
              "    </tr>\n",
              "    <tr>\n",
              "      <th>4</th>\n",
              "      <td>Путин рассказал о попытках помешать отношениям...</td>\n",
              "      <td>0</td>\n",
              "    </tr>\n",
              "    <tr>\n",
              "      <th>...</th>\n",
              "      <td>...</td>\n",
              "      <td>...</td>\n",
              "    </tr>\n",
              "    <tr>\n",
              "      <th>798</th>\n",
              "      <td>Церемония встречи Путина и Ким Чен Ына началас...</td>\n",
              "      <td>1</td>\n",
              "    </tr>\n",
              "    <tr>\n",
              "      <th>799</th>\n",
              "      <td>Генсек НАТО отреагировал на договор России и С...</td>\n",
              "      <td>1</td>\n",
              "    </tr>\n",
              "    <tr>\n",
              "      <th>800</th>\n",
              "      <td>Бастрыкин рассказал про планы нацистов истреби...</td>\n",
              "      <td>0</td>\n",
              "    </tr>\n",
              "    <tr>\n",
              "      <th>801</th>\n",
              "      <td>Пентагон спрогнозировал напряженность отношени...</td>\n",
              "      <td>0</td>\n",
              "    </tr>\n",
              "    <tr>\n",
              "      <th>802</th>\n",
              "      <td>Ассанжа освободили из британской тюрьмы Пентаг...</td>\n",
              "      <td>0</td>\n",
              "    </tr>\n",
              "  </tbody>\n",
              "</table>\n",
              "<p>803 rows × 2 columns</p>\n",
              "</div>\n",
              "    <div class=\"colab-df-buttons\">\n",
              "\n",
              "  <div class=\"colab-df-container\">\n",
              "    <button class=\"colab-df-convert\" onclick=\"convertToInteractive('df-93856d71-ee71-4e09-bb30-60bccb72299f')\"\n",
              "            title=\"Convert this dataframe to an interactive table.\"\n",
              "            style=\"display:none;\">\n",
              "\n",
              "  <svg xmlns=\"http://www.w3.org/2000/svg\" height=\"24px\" viewBox=\"0 -960 960 960\">\n",
              "    <path d=\"M120-120v-720h720v720H120Zm60-500h600v-160H180v160Zm220 220h160v-160H400v160Zm0 220h160v-160H400v160ZM180-400h160v-160H180v160Zm440 0h160v-160H620v160ZM180-180h160v-160H180v160Zm440 0h160v-160H620v160Z\"/>\n",
              "  </svg>\n",
              "    </button>\n",
              "\n",
              "  <style>\n",
              "    .colab-df-container {\n",
              "      display:flex;\n",
              "      gap: 12px;\n",
              "    }\n",
              "\n",
              "    .colab-df-convert {\n",
              "      background-color: #E8F0FE;\n",
              "      border: none;\n",
              "      border-radius: 50%;\n",
              "      cursor: pointer;\n",
              "      display: none;\n",
              "      fill: #1967D2;\n",
              "      height: 32px;\n",
              "      padding: 0 0 0 0;\n",
              "      width: 32px;\n",
              "    }\n",
              "\n",
              "    .colab-df-convert:hover {\n",
              "      background-color: #E2EBFA;\n",
              "      box-shadow: 0px 1px 2px rgba(60, 64, 67, 0.3), 0px 1px 3px 1px rgba(60, 64, 67, 0.15);\n",
              "      fill: #174EA6;\n",
              "    }\n",
              "\n",
              "    .colab-df-buttons div {\n",
              "      margin-bottom: 4px;\n",
              "    }\n",
              "\n",
              "    [theme=dark] .colab-df-convert {\n",
              "      background-color: #3B4455;\n",
              "      fill: #D2E3FC;\n",
              "    }\n",
              "\n",
              "    [theme=dark] .colab-df-convert:hover {\n",
              "      background-color: #434B5C;\n",
              "      box-shadow: 0px 1px 3px 1px rgba(0, 0, 0, 0.15);\n",
              "      filter: drop-shadow(0px 1px 2px rgba(0, 0, 0, 0.3));\n",
              "      fill: #FFFFFF;\n",
              "    }\n",
              "  </style>\n",
              "\n",
              "    <script>\n",
              "      const buttonEl =\n",
              "        document.querySelector('#df-93856d71-ee71-4e09-bb30-60bccb72299f button.colab-df-convert');\n",
              "      buttonEl.style.display =\n",
              "        google.colab.kernel.accessAllowed ? 'block' : 'none';\n",
              "\n",
              "      async function convertToInteractive(key) {\n",
              "        const element = document.querySelector('#df-93856d71-ee71-4e09-bb30-60bccb72299f');\n",
              "        const dataTable =\n",
              "          await google.colab.kernel.invokeFunction('convertToInteractive',\n",
              "                                                    [key], {});\n",
              "        if (!dataTable) return;\n",
              "\n",
              "        const docLinkHtml = 'Like what you see? Visit the ' +\n",
              "          '<a target=\"_blank\" href=https://colab.research.google.com/notebooks/data_table.ipynb>data table notebook</a>'\n",
              "          + ' to learn more about interactive tables.';\n",
              "        element.innerHTML = '';\n",
              "        dataTable['output_type'] = 'display_data';\n",
              "        await google.colab.output.renderOutput(dataTable, element);\n",
              "        const docLink = document.createElement('div');\n",
              "        docLink.innerHTML = docLinkHtml;\n",
              "        element.appendChild(docLink);\n",
              "      }\n",
              "    </script>\n",
              "  </div>\n",
              "\n",
              "\n",
              "    <div id=\"df-11af8fd1-1c50-463c-ada3-c7b1344fc02a\">\n",
              "      <button class=\"colab-df-quickchart\" onclick=\"quickchart('df-11af8fd1-1c50-463c-ada3-c7b1344fc02a')\"\n",
              "                title=\"Suggest charts\"\n",
              "                style=\"display:none;\">\n",
              "\n",
              "<svg xmlns=\"http://www.w3.org/2000/svg\" height=\"24px\"viewBox=\"0 0 24 24\"\n",
              "     width=\"24px\">\n",
              "    <g>\n",
              "        <path d=\"M19 3H5c-1.1 0-2 .9-2 2v14c0 1.1.9 2 2 2h14c1.1 0 2-.9 2-2V5c0-1.1-.9-2-2-2zM9 17H7v-7h2v7zm4 0h-2V7h2v10zm4 0h-2v-4h2v4z\"/>\n",
              "    </g>\n",
              "</svg>\n",
              "      </button>\n",
              "\n",
              "<style>\n",
              "  .colab-df-quickchart {\n",
              "      --bg-color: #E8F0FE;\n",
              "      --fill-color: #1967D2;\n",
              "      --hover-bg-color: #E2EBFA;\n",
              "      --hover-fill-color: #174EA6;\n",
              "      --disabled-fill-color: #AAA;\n",
              "      --disabled-bg-color: #DDD;\n",
              "  }\n",
              "\n",
              "  [theme=dark] .colab-df-quickchart {\n",
              "      --bg-color: #3B4455;\n",
              "      --fill-color: #D2E3FC;\n",
              "      --hover-bg-color: #434B5C;\n",
              "      --hover-fill-color: #FFFFFF;\n",
              "      --disabled-bg-color: #3B4455;\n",
              "      --disabled-fill-color: #666;\n",
              "  }\n",
              "\n",
              "  .colab-df-quickchart {\n",
              "    background-color: var(--bg-color);\n",
              "    border: none;\n",
              "    border-radius: 50%;\n",
              "    cursor: pointer;\n",
              "    display: none;\n",
              "    fill: var(--fill-color);\n",
              "    height: 32px;\n",
              "    padding: 0;\n",
              "    width: 32px;\n",
              "  }\n",
              "\n",
              "  .colab-df-quickchart:hover {\n",
              "    background-color: var(--hover-bg-color);\n",
              "    box-shadow: 0 1px 2px rgba(60, 64, 67, 0.3), 0 1px 3px 1px rgba(60, 64, 67, 0.15);\n",
              "    fill: var(--button-hover-fill-color);\n",
              "  }\n",
              "\n",
              "  .colab-df-quickchart-complete:disabled,\n",
              "  .colab-df-quickchart-complete:disabled:hover {\n",
              "    background-color: var(--disabled-bg-color);\n",
              "    fill: var(--disabled-fill-color);\n",
              "    box-shadow: none;\n",
              "  }\n",
              "\n",
              "  .colab-df-spinner {\n",
              "    border: 2px solid var(--fill-color);\n",
              "    border-color: transparent;\n",
              "    border-bottom-color: var(--fill-color);\n",
              "    animation:\n",
              "      spin 1s steps(1) infinite;\n",
              "  }\n",
              "\n",
              "  @keyframes spin {\n",
              "    0% {\n",
              "      border-color: transparent;\n",
              "      border-bottom-color: var(--fill-color);\n",
              "      border-left-color: var(--fill-color);\n",
              "    }\n",
              "    20% {\n",
              "      border-color: transparent;\n",
              "      border-left-color: var(--fill-color);\n",
              "      border-top-color: var(--fill-color);\n",
              "    }\n",
              "    30% {\n",
              "      border-color: transparent;\n",
              "      border-left-color: var(--fill-color);\n",
              "      border-top-color: var(--fill-color);\n",
              "      border-right-color: var(--fill-color);\n",
              "    }\n",
              "    40% {\n",
              "      border-color: transparent;\n",
              "      border-right-color: var(--fill-color);\n",
              "      border-top-color: var(--fill-color);\n",
              "    }\n",
              "    60% {\n",
              "      border-color: transparent;\n",
              "      border-right-color: var(--fill-color);\n",
              "    }\n",
              "    80% {\n",
              "      border-color: transparent;\n",
              "      border-right-color: var(--fill-color);\n",
              "      border-bottom-color: var(--fill-color);\n",
              "    }\n",
              "    90% {\n",
              "      border-color: transparent;\n",
              "      border-bottom-color: var(--fill-color);\n",
              "    }\n",
              "  }\n",
              "</style>\n",
              "\n",
              "      <script>\n",
              "        async function quickchart(key) {\n",
              "          const quickchartButtonEl =\n",
              "            document.querySelector('#' + key + ' button');\n",
              "          quickchartButtonEl.disabled = true;  // To prevent multiple clicks.\n",
              "          quickchartButtonEl.classList.add('colab-df-spinner');\n",
              "          try {\n",
              "            const charts = await google.colab.kernel.invokeFunction(\n",
              "                'suggestCharts', [key], {});\n",
              "          } catch (error) {\n",
              "            console.error('Error during call to suggestCharts:', error);\n",
              "          }\n",
              "          quickchartButtonEl.classList.remove('colab-df-spinner');\n",
              "          quickchartButtonEl.classList.add('colab-df-quickchart-complete');\n",
              "        }\n",
              "        (() => {\n",
              "          let quickchartButtonEl =\n",
              "            document.querySelector('#df-11af8fd1-1c50-463c-ada3-c7b1344fc02a button');\n",
              "          quickchartButtonEl.style.display =\n",
              "            google.colab.kernel.accessAllowed ? 'block' : 'none';\n",
              "        })();\n",
              "      </script>\n",
              "    </div>\n",
              "\n",
              "  <div id=\"id_3a3cec40-b1a4-41e2-ba3a-9e2cb3574b5c\">\n",
              "    <style>\n",
              "      .colab-df-generate {\n",
              "        background-color: #E8F0FE;\n",
              "        border: none;\n",
              "        border-radius: 50%;\n",
              "        cursor: pointer;\n",
              "        display: none;\n",
              "        fill: #1967D2;\n",
              "        height: 32px;\n",
              "        padding: 0 0 0 0;\n",
              "        width: 32px;\n",
              "      }\n",
              "\n",
              "      .colab-df-generate:hover {\n",
              "        background-color: #E2EBFA;\n",
              "        box-shadow: 0px 1px 2px rgba(60, 64, 67, 0.3), 0px 1px 3px 1px rgba(60, 64, 67, 0.15);\n",
              "        fill: #174EA6;\n",
              "      }\n",
              "\n",
              "      [theme=dark] .colab-df-generate {\n",
              "        background-color: #3B4455;\n",
              "        fill: #D2E3FC;\n",
              "      }\n",
              "\n",
              "      [theme=dark] .colab-df-generate:hover {\n",
              "        background-color: #434B5C;\n",
              "        box-shadow: 0px 1px 3px 1px rgba(0, 0, 0, 0.15);\n",
              "        filter: drop-shadow(0px 1px 2px rgba(0, 0, 0, 0.3));\n",
              "        fill: #FFFFFF;\n",
              "      }\n",
              "    </style>\n",
              "    <button class=\"colab-df-generate\" onclick=\"generateWithVariable('df_text')\"\n",
              "            title=\"Generate code using this dataframe.\"\n",
              "            style=\"display:none;\">\n",
              "\n",
              "  <svg xmlns=\"http://www.w3.org/2000/svg\" height=\"24px\"viewBox=\"0 0 24 24\"\n",
              "       width=\"24px\">\n",
              "    <path d=\"M7,19H8.4L18.45,9,17,7.55,7,17.6ZM5,21V16.75L18.45,3.32a2,2,0,0,1,2.83,0l1.4,1.43a1.91,1.91,0,0,1,.58,1.4,1.91,1.91,0,0,1-.58,1.4L9.25,21ZM18.45,9,17,7.55Zm-12,3A5.31,5.31,0,0,0,4.9,8.1,5.31,5.31,0,0,0,1,6.5,5.31,5.31,0,0,0,4.9,4.9,5.31,5.31,0,0,0,6.5,1,5.31,5.31,0,0,0,8.1,4.9,5.31,5.31,0,0,0,12,6.5,5.46,5.46,0,0,0,6.5,12Z\"/>\n",
              "  </svg>\n",
              "    </button>\n",
              "    <script>\n",
              "      (() => {\n",
              "      const buttonEl =\n",
              "        document.querySelector('#id_3a3cec40-b1a4-41e2-ba3a-9e2cb3574b5c button.colab-df-generate');\n",
              "      buttonEl.style.display =\n",
              "        google.colab.kernel.accessAllowed ? 'block' : 'none';\n",
              "\n",
              "      buttonEl.onclick = () => {\n",
              "        google.colab.notebook.generateWithVariable('df_text');\n",
              "      }\n",
              "      })();\n",
              "    </script>\n",
              "  </div>\n",
              "\n",
              "    </div>\n",
              "  </div>\n"
            ],
            "application/vnd.google.colaboratory.intrinsic+json": {
              "type": "dataframe",
              "variable_name": "df_text",
              "summary": "{\n  \"name\": \"df_text\",\n  \"rows\": 803,\n  \"fields\": [\n    {\n      \"column\": \"text\",\n      \"properties\": {\n        \"dtype\": \"string\",\n        \"num_unique_values\": 775,\n        \"samples\": [\n          \"\\u0412 \\u041a\\u0438\\u0442\\u0430\\u0435 \\u043d\\u0430\\u043f\\u043e\\u043c\\u043d\\u0438\\u043b\\u0438 \\u043e\\u0431 \\u043e\\u043f\\u0430\\u0441\\u043d\\u043e\\u0441\\u0442\\u0438 \\u0434\\u0440\\u0443\\u0436\\u0431\\u044b \\u0441 \\u0421\\u0428\\u0410 \\u0421\\u0442\\u0430\\u043b\\u043e \\u0438\\u0437\\u0432\\u0435\\u0441\\u0442\\u043d\\u043e \\u043e \\u0433\\u043e\\u0442\\u043e\\u0432\\u044f\\u0449\\u0435\\u043c\\u0441\\u044f \\u043f\\u0435\\u0440\\u0435\\u0445\\u043e\\u0434\\u0435 \\u043f\\u0440\\u0435\\u0441\\u0441-\\u0441\\u0435\\u043a\\u0440\\u0435\\u0442\\u0430\\u0440\\u044f \\u041f\\u0435\\u043d\\u0442\\u0430\\u0433\\u043e\\u043d\\u0430 \\u0432 \\u0411\\u0435\\u043b\\u044b\\u0439 \\u0434\\u043e\\u043c \\u0420\\u043e\\u0441\\u0441\\u0438\\u044f \\u0432\\u044b\\u0440\\u0430\\u0437\\u0438\\u043b\\u0430 \\u0433\\u043e\\u0442\\u043e\\u0432\\u043d\\u043e\\u0441\\u0442\\u044c \\u0432\\u043e\\u0437\\u043e\\u0431\\u043d\\u043e\\u0432\\u0438\\u0442\\u044c \\u0434\\u0438\\u0430\\u043b\\u043e\\u0433 \\u0432 \\u0440\\u0430\\u043c\\u043a\\u0430\\u0445 \\u0410\\u0440\\u043a\\u0442\\u0438\\u0447\\u0435\\u0441\\u043a\\u043e\\u0433\\u043e \\u0441\\u043e\\u0432\\u0435\\u0442\\u0430 \\u0428\\u043e\\u0439\\u0433\\u0443 \\u0437\\u0430\\u044f\\u0432\\u0438\\u043b \\u043e \\u00ab\\u0431\\u043b\\u0438\\u0437\\u043a\\u043e\\u043c \\u043a \\u0437\\u0430\\u0432\\u0435\\u0440\\u0448\\u0435\\u043d\\u0438\\u044e\\u00bb \\u043e\\u0441\\u0432\\u043e\\u0431\\u043e\\u0436\\u0434\\u0435\\u043d\\u0438\\u0438 \\u0442\\u0435\\u0440\\u0440\\u0438\\u0442\\u043e\\u0440\\u0438\\u0438 \\u041b\\u041d\\u0420 \\u0424\\u0438\\u043d\\u043b\\u044f\\u043d\\u0434\\u0438\\u044f \\u043f\\u0440\\u043e\\u0432\\u0435\\u0434\\u0435\\u0442 \\u0443\\u0447\\u0435\\u043d\\u0438\\u044f \\u043f\\u043e \\u043f\\u043e\\u0434\\u0433\\u043e\\u0442\\u043e\\u0432\\u043a\\u0435 \\u043a \\u043f\\u043e\\u0442\\u043e\\u043a\\u0443 \\u043c\\u0438\\u0433\\u0440\\u0430\\u043d\\u0442\\u043e\\u0432 \\u0438\\u0437 \\u0420\\u043e\\u0441\\u0441\\u0438\\u0438 \\u0412 \\u041c\\u0418\\u0414 \\u043e\\u0446\\u0435\\u043d\\u0438\\u043b\\u0438 \\u0441\\u043c\\u044f\\u0433\\u0447\\u0435\\u043d\\u0438\\u0435 \\u0441\\u0430\\u043d\\u043a\\u0446\\u0438\\u0439 \\u0421\\u0428\\u0410 \\u0432 \\u043e\\u0442\\u043d\\u043e\\u0448\\u0435\\u043d\\u0438\\u0438 \\u041a\\u0443\\u0431\\u044b \\u0412 \\u0413\\u043e\\u0441\\u0434\\u0443\\u043c\\u0435 \\u043e\\u0442\\u0432\\u0435\\u0442\\u0438\\u043b\\u0438 \\u043d\\u0430 \\u0441\\u043b\\u043e\\u0432\\u0430 \\u043e\\u0431 \\u043e\\u0442\\u043a\\u0430\\u0437\\u0435 \\u0420\\u043e\\u0441\\u0441\\u0438\\u0438 \\u0432\\u0441\\u0442\\u0443\\u043f\\u0438\\u0442\\u044c \\u0432 \\u041d\\u0410\\u0422\\u041e \\u0432 90-\\u0445 \\u0411\\u043e\\u0440\\u0440\\u0435\\u043b\\u044c \\u043e\\u0442\\u043a\\u0430\\u0437\\u0430\\u043b \\u0420\\u043e\\u0441\\u0441\\u0438\\u0438 \\u0432 \\u043f\\u0440\\u0430\\u0432\\u0435 \\u043e\\u043f\\u0440\\u0435\\u0434\\u0435\\u043b\\u044f\\u0442\\u044c \\u0443\\u0441\\u043b\\u043e\\u0432\\u0438\\u044f \\u043c\\u0438\\u0440\\u0430 \\u0441 \\u0423\\u043a\\u0440\\u0430\\u0438\\u043d\\u043e\\u0439 \\u0412 \\u0421\\u0428\\u0410 \\u043e\\u0446\\u0435\\u043d\\u0438\\u043b\\u0438 \\u0432\\u0435\\u0440\\u043e\\u044f\\u0442\\u043d\\u043e\\u0441\\u0442\\u044c \\u0432\\u0441\\u0442\\u0440\\u0435\\u0447\\u0438 \\u0411\\u043b\\u0438\\u043d\\u043a\\u0435\\u043d\\u0430 \\u0438 \\u041b\\u0430\\u0432\\u0440\\u043e\\u0432\\u0430 \\u0413\\u043b\\u0430\\u0432\\u0430 \\u041d\\u0410\\u041e \\u043e\\u0442\\u0432\\u0435\\u0442\\u0438\\u043b \\u043d\\u0430 \\u0434\\u0430\\u043d\\u043d\\u044b\\u0435 \\u043e \\u043f\\u043e\\u043b\\u0435\\u0442\\u0435 \\u0438\\u043d\\u043e\\u0441\\u0442\\u0440\\u0430\\u043d\\u043d\\u043e\\u0433\\u043e \\u0441\\u0430\\u043c\\u043e\\u043b\\u0435\\u0442\\u0430-\\u0440\\u0430\\u0437\\u0432\\u0435\\u0434\\u0447\\u0438\\u043a\\u0430 \\u0432 \\u0440\\u0435\\u0433\\u0438\\u043e\\u043d\\u0435 \\u0412 \\u041b\\u0438\\u0442\\u0432\\u0435 \\u043f\\u0430\\u043c\\u044f\\u0442\\u043d\\u0438\\u043a \\u0441\\u043e\\u0432\\u0435\\u0442\\u0441\\u043a\\u0438\\u043c \\u0432\\u043e\\u0438\\u043d\\u0430\\u043c \\u0440\\u0430\\u0441\\u043a\\u043e\\u043b\\u043e\\u043b\\u0441\\u044f \\u043f\\u043e\\u043f\\u043e\\u043b\\u0430\\u043c \\u043f\\u0440\\u0438 \\u0441\\u043d\\u043e\\u0441\\u0435 \\u0428\\u043e\\u0439\\u0433\\u0443 \\u0434\\u043e\\u043b\\u043e\\u0436\\u0438\\u043b \\u041f\\u0443\\u0442\\u0438\\u043d\\u0443 \\u043e \\u0437\\u0430\\u0432\\u0435\\u0440\\u0448\\u0435\\u043d\\u0438\\u0438 \\u043e\\u043f\\u0435\\u0440\\u0430\\u0446\\u0438\\u0438 \\u043d\\u0430 \\u00ab\\u0410\\u0437\\u043e\\u0432\\u0441\\u0442\\u0430\\u043b\\u0438\\u00bb \\u041f\\u0435\\u043d\\u0442\\u0430\\u0433\\u043e\\u043d \\u0437\\u0430\\u044f\\u0432\\u0438\\u043b \\u043e \\u043d\\u0435\\u0436\\u0435\\u043b\\u0430\\u043d\\u0438\\u0438 \\u044d\\u0441\\u043a\\u0430\\u043b\\u0430\\u0446\\u0438\\u0438 \\u043a\\u0440\\u0438\\u0437\\u0438\\u0441\\u0430 \\u043d\\u0430 \\u0423\\u043a\\u0440\\u0430\\u0438\\u043d\\u0435 \\u041f\\u0435\\u043d\\u0442\\u0430\\u0433\\u043e\\u043d \\u0437\\u0430\\u043d\\u044f\\u043b\\u0441\\u044f \\u0432\\u043e\\u043f\\u0440\\u043e\\u0441\\u043e\\u043c \\u044d\\u043a\\u0441\\u0442\\u0440\\u0435\\u043d\\u043d\\u043e\\u0433\\u043e \\u0432\\u0432\\u043e\\u0437\\u0430 \\u0434\\u0435\\u0442\\u0441\\u043a\\u0438\\u0445 \\u0441\\u043c\\u0435\\u0441\\u0435\\u0439 \\u0432 \\u0421\\u0428\\u0410 \\u0412 \\u0421\\u0428\\u0410 \\u043f\\u0440\\u0435\\u0434\\u0443\\u043f\\u0440\\u0435\\u0434\\u0438\\u043b\\u0438 \\u0423\\u043a\\u0440\\u0430\\u0438\\u043d\\u0443 \\u043e \\u043f\\u0440\\u0438\\u043d\\u044f\\u0442\\u0438\\u0438 \\u00ab\\u0431\\u043e\\u043b\\u0435\\u0437\\u043d\\u0435\\u043d\\u043d\\u044b\\u0445\\u00bb \\u0442\\u0435\\u0440\\u0440\\u0438\\u0442\\u043e\\u0440\\u0438\\u0430\\u043b\\u044c\\u043d\\u044b\\u0445 \\u0440\\u0435\\u0448\\u0435\\u043d\\u0438\\u0439 \\u0411\\u0430\\u0439\\u0434\\u0435\\u043d\\u0430 \\u0432\\u043d\\u043e\\u0432\\u044c \\u043e\\u0431\\u0432\\u0438\\u043d\\u0438\\u043b\\u0438 \\u0432 \\u0440\\u043e\\u0441\\u0442\\u0435 \\u0446\\u0435\\u043d \\u043d\\u0430 \\u0442\\u043e\\u043f\\u043b\\u0438\\u0432\\u043e \\u0432 \\u0421\\u0428\\u0410 \\u0421\\u0442\\u0430\\u043b\\u0438 \\u0438\\u0437\\u0432\\u0435\\u0441\\u0442\\u043d\\u044b \\u0443\\u0441\\u043b\\u043e\\u0432\\u0438\\u044f \\u043f\\u0435\\u0440\\u0435\\u0434\\u0430\\u0447\\u0438 \\u0423\\u043a\\u0440\\u0430\\u0438\\u043d\\u0435 \\u0431\\u043e\\u043b\\u0435\\u0435 \\u043e\\u043f\\u0430\\u0441\\u043d\\u043e\\u0433\\u043e \\u0432\\u043e\\u043e\\u0440\\u0443\\u0436\\u0435\\u043d\\u0438\\u044f \\u0412 \\u0421\\u0428\\u0410 \\u043f\\u0440\\u0435\\u0434\\u043b\\u043e\\u0436\\u0438\\u043b\\u0438 \\u0443\\u043a\\u0440\\u0435\\u043f\\u0438\\u0442\\u044c \\u0433\\u0440\\u0430\\u043d\\u0438\\u0446\\u044b \\u0441\\u0442\\u0440\\u0430\\u043d\\u044b \\u0437\\u0430 \\u0440\\u043e\\u0441\\u0441\\u0438\\u0439\\u0441\\u043a\\u0438\\u0435 \\u0434\\u0435\\u043d\\u044c\\u0433\\u0438 \\u0412 \\u041e\\u041e\\u041d \\u0440\\u0430\\u0441\\u043a\\u0440\\u0438\\u0442\\u0438\\u043a\\u043e\\u0432\\u0430\\u043b\\u0438 \\u043f\\u0440\\u0435\\u0434\\u043f\\u043e\\u043b\\u043e\\u0436\\u0435\\u043d\\u0438\\u0435 \\u043e\\u0431 \\u043e\\u043f\\u043b\\u0430\\u0442\\u0435 \\u0437\\u0435\\u0440\\u043d\\u043e\\u043c \\u043f\\u043e\\u0441\\u0442\\u0430\\u0432\\u043e\\u043a \\u043e\\u0440\\u0443\\u0436\\u0438\\u044f \\u043d\\u0430 \\u0423\\u043a\\u0440\\u0430\\u0438\\u043d\\u0443 \\u0412 \\u0421\\u0428\\u0410 \\u0437\\u0430\\u044f\\u0432\\u0438\\u043b\\u0438 \\u043e \\u043d\\u0435\\u0436\\u0435\\u043b\\u0430\\u043d\\u0438\\u0438 \\u043e\\u0431\\u0441\\u0443\\u0436\\u0434\\u0430\\u0442\\u044c \\u0441 \\u042d\\u0440\\u0434\\u043e\\u0433\\u0430\\u043d\\u043e\\u043c \\u0432\\u043e\\u0437\\u0440\\u0430\\u0436\\u0435\\u043d\\u0438\\u044f \\u0422\\u0443\\u0440\\u0446\\u0438\\u0438 \\u043f\\u043e \\u041d\\u0410\\u0422\\u041e \\u0413\\u0435\\u0440\\u043c\\u0430\\u043d\\u0438\\u044f \\u043a\\u043e\\u043c\\u043f\\u0435\\u043d\\u0441\\u0438\\u0440\\u0443\\u0435\\u0442 \\u043f\\u043e\\u0442\\u0435\\u0440\\u0438 \\u0421\\u043e\\u0432\\u0435\\u0442\\u0430 \\u0415\\u0432\\u0440\\u043e\\u043f\\u0430 \\u0438\\u0437-\\u0437\\u0430 \\u0432\\u044b\\u0445\\u043e\\u0434\\u0430 \\u0420\\u043e\\u0441\\u0441\\u0438\\u0438 \\u0421\\u0428\\u0410 \\u043f\\u043e\\u043f\\u0440\\u043e\\u0441\\u044f\\u0442 \\u0434\\u0435\\u043d\\u044c\\u0433\\u0438 \\u0443 \\u041a\\u0438\\u0442\\u0430\\u044f \\u043d\\u0430 \\u043f\\u043e\\u043c\\u043e\\u0449\\u044c \\u0423\\u043a\\u0440\\u0430\\u0438\\u043d\\u0435 \\u0421\\u0428\\u0410 \\u0440\\u0430\\u0441\\u043a\\u0440\\u044b\\u043b\\u0438 \\u043f\\u043b\\u0430\\u043d\\u044b \\u043f\\u043e \\u043e\\u0442\\u043f\\u0440\\u0430\\u0432\\u043a\\u0435 \\u0432\\u043e\\u0435\\u043d\\u043d\\u044b\\u0445 \\u0421\\u0428\\u0410 \\u0432 \\u0424\\u0438\\u043d\\u043b\\u044f\\u043d\\u0434\\u0438\\u044e \\u0438 \\u0428\\u0432\\u0435\\u0446\\u0438\\u044e \\u0412 \\u0413\\u0435\\u0440\\u043c\\u0430\\u043d\\u0438\\u0438 \\u043f\\u0440\\u0438\\u043d\\u044f\\u043b\\u0438 \\u0437\\u0430\\u043a\\u043e\\u043d \\u0434\\u043b\\u044f \\u043a\\u043e\\u043d\\u0442\\u0440\\u043e\\u043b\\u044f \\u0437\\u0430 \\u0432\\u044b\\u043f\\u043e\\u043b\\u043d\\u0435\\u043d\\u0438\\u0435\\u043c \\u0441\\u0430\\u043d\\u043a\\u0446\\u0438\\u0439 \\u043f\\u0440\\u043e\\u0442\\u0438\\u0432 \\u0420\\u043e\\u0441\\u0441\\u0438\\u0438 \\u0411\\u0440\\u0438\\u0442\\u0430\\u043d\\u0441\\u043a\\u0438\\u0439 \\u041c\\u0418\\u0414 \\u043e\\u0446\\u0435\\u043d\\u0438\\u043b \\u0441\\u043e\\u043e\\u0431\\u0449\\u0435\\u043d\\u0438\\u044f \\u043e \\u043f\\u043b\\u0430\\u043d\\u0435 \\u0441\\u043c\\u0435\\u043d\\u0438\\u0442\\u044c \\u0432\\u043b\\u0430\\u0441\\u0442\\u044c \\u0432 \\u0420\\u043e\\u0441\\u0441\\u0438\\u0438 \\u0421\\u0428\\u0410 \\u043e\\u0431\\u0432\\u0438\\u043d\\u0438\\u043b\\u0438 \\u0420\\u043e\\u0441\\u0441\\u0438\\u044e \\u0432 \\u0438\\u0441\\u043f\\u043e\\u043b\\u044c\\u0437\\u043e\\u0432\\u0430\\u043d\\u0438\\u0438 \\u0433\\u043e\\u043b\\u043e\\u0434\\u0430 \\u043a\\u0430\\u043a \\u0438\\u043d\\u0441\\u0442\\u0440\\u0443\\u043c\\u0435\\u043d\\u0442\\u0430 \\u0432\\u043e\\u0439\\u043d\\u044b \\u0412 \\u0421\\u0428\\u0410 \\u043d\\u0430\\u043f\\u043e\\u043c\\u043d\\u0438\\u043b\\u0438 \\u0420\\u043e\\u0441\\u0441\\u0438\\u0438 \\u043e \\u0435\\u0435 \\u043e\\u0442\\u043a\\u0430\\u0437\\u0435 \\u043e\\u0442 \\u0447\\u043b\\u0435\\u043d\\u0441\\u0442\\u0432\\u0430 \\u0432 \\u041d\\u0410\\u0422\\u041e \\u0412 \\u0413\\u043e\\u0441\\u0434\\u0443\\u043c\\u0435 \\u0437\\u0430\\u044f\\u0432\\u0438\\u043b\\u0438 \\u043e \\u0441\\u0440\\u044b\\u0432\\u0435 \\u043f\\u043b\\u0430\\u043d\\u043e\\u0432 \\u041d\\u0410\\u0422\\u041e \\u043d\\u0430 \\u0410\\u0437\\u043e\\u0432\\u0441\\u043a\\u043e\\u0435 \\u043c\\u043e\\u0440\\u0435 \\u0420\\u043e\\u0441\\u0441\\u0438\\u044f \\u043f\\u043e\\u043b\\u0443\\u0447\\u0438\\u043b\\u0430 \\u0434\\u043e\\u043a\\u0443\\u043c\\u0435\\u043d\\u0442\\u044b \\u043e \\u043f\\u0440\\u0438\\u0437\\u043d\\u0430\\u043d\\u0438\\u0438 \\u0423\\u043a\\u0440\\u0430\\u0438\\u043d\\u043e\\u0439 \\u043f\\u043b\\u0435\\u043d\\u0435\\u043d\\u0438\\u044f \\u0432\\u043e\\u0435\\u043d\\u043d\\u044b\\u0445 \\u0441\\u043e \\u0417\\u043c\\u0435\\u0438\\u043d\\u043e\\u0433\\u043e \\u042f\\u043f\\u043e\\u043d\\u0438\\u044f \\u0437\\u0430\\u043f\\u0440\\u0435\\u0442\\u0438\\u043b\\u0430 \\u044d\\u043a\\u0441\\u043f\\u043e\\u0440\\u0442 \\u0432 \\u0420\\u043e\\u0441\\u0441\\u0438\\u044e \\u0435\\u0449\\u0435 \\u043e\\u0434\\u043d\\u043e\\u0439 \\u043a\\u0430\\u0442\\u0435\\u0433\\u043e\\u0440\\u0438\\u0438 \\u0442\\u043e\\u0432\\u0430\\u0440\\u043e\\u0432 \\u0412 \\u0421\\u0428\\u0410 \\u0437\\u0430\\u044f\\u0432\\u0438\\u043b\\u0438 \\u043e \\u043d\\u0435\\u0436\\u0435\\u043b\\u0430\\u043d\\u0438\\u0438 \\u0411\\u0430\\u0439\\u0434\\u0435\\u043d\\u0430 \\u043e\\u0431\\u0441\\u0443\\u0436\\u0434\\u0430\\u0442\\u044c \\u0441 \\u042d\\u0440\\u0434\\u043e\\u0433\\u0430\\u043d\\u043e\\u043c \\u0432\\u043e\\u0437\\u0440\\u0430\\u0436\\u0435\\u043d\\u0438\\u044f \\u043f\\u043e \\u041d\\u0410\\u0422\\u041e \\u0412 \\u0421\\u0428\\u0410 \\u043e\\u0446\\u0435\\u043d\\u0438\\u043b\\u0438 \\u0436\\u0435\\u043b\\u0430\\u043d\\u0438\\u0435 \\u0430\\u043c\\u0435\\u0440\\u0438\\u043a\\u0430\\u043d\\u0441\\u043a\\u0438\\u0445 \\u0432\\u043e\\u0435\\u043d\\u043d\\u044b\\u0445 \\u043d\\u0430\\u0447\\u0430\\u0442\\u044c \\u0432\\u043e\\u0439\\u043d\\u0443 \\u0441 \\u0420\\u043e\\u0441\\u0441\\u0438\\u0435\\u0439 \\u0412 \\u0421\\u0428\\u0410 \\u0440\\u0430\\u0441\\u0441\\u043a\\u0430\\u0437\\u0430\\u043b\\u0438 \\u043e\\u0431 \\u043e\\u0448\\u0438\\u0431\\u043a\\u0435 \\u041d\\u0410\\u0422\\u041e \\u041f\\u0435\\u043d\\u0442\\u0430\\u0433\\u043e\\u043d \\u0437\\u0430\\u044f\\u0432\\u0438\\u043b \\u043e\\u0431 \\u0443\\u043d\\u0438\\u0447\\u0442\\u043e\\u0436\\u0435\\u043d\\u0438\\u0438 \\u043f\\u043e\\u0441\\u043b\\u0435\\u0434\\u043d\\u0435\\u0439 \\u0440\\u0430\\u043a\\u0435\\u0442\\u044b \\u0441 \\u0445\\u0438\\u043c\\u043e\\u0440\\u0443\\u0436\\u0438\\u0435\\u043c \\u041d\\u0430\\u0437\\u0432\\u0430\\u043d\\u044b \\u0441\\u0440\\u043e\\u043a\\u0438 \\u0432\\u0441\\u0442\\u0443\\u043f\\u043b\\u0435\\u043d\\u0438\\u044f \\u0423\\u043a\\u0440\\u0430\\u0438\\u043d\\u044b \\u0432 \\u0441\\u043e\\u0441\\u0442\\u0430\\u0432 \\u0415\\u0432\\u0440\\u043e\\u0441\\u043e\\u044e\\u0437\\u0430 \\u0412 \\u0421\\u043e\\u0432\\u0444\\u0435\\u0434\\u0435 \\u043f\\u0440\\u0435\\u0434\\u0440\\u0435\\u043a\\u043b\\u0438 \\u043f\\u043e\\u0434\\u0447\\u0438\\u043d\\u0435\\u043d\\u0438\\u0435 \\u0417\\u0430\\u043f\\u0430\\u0434\\u0430 \\u043d\\u043e\\u0432\\u043e\\u0439 \\u0440\\u0435\\u0430\\u043b\\u044c\\u043d\\u043e\\u0441\\u0442\\u0438 \\u043d\\u0430 \\u0423\\u043a\\u0440\\u0430\\u0438\\u043d\\u0435 \\u0421\\u0428\\u0410 \\u0437\\u0430\\u044f\\u0432\\u0438\\u043b\\u0438 \\u043e\\u0431 \\u043e\\u0442\\u043a\\u0430\\u0437\\u0435 \\u0420\\u043e\\u0441\\u0441\\u0438\\u0438 \\u0432\\u0441\\u0442\\u0443\\u043f\\u0438\\u0442\\u044c \\u0432 \\u041d\\u0410\\u0422\\u041e \\u0432 90-\\u0445 \\u0412 \\u0413\\u0414 \\u043f\\u0440\\u0435\\u0434\\u043b\\u043e\\u0436\\u0438\\u043b\\u0438 \\u043e\\u0442\\u043c\\u0435\\u043d\\u0438\\u0442\\u044c \\u043f\\u0440\\u0435\\u0434\\u0435\\u043b \\u043f\\u043e \\u0432\\u043e\\u0437\\u0440\\u0430\\u0441\\u0442\\u0443 \\u0434\\u043b\\u044f \\u043f\\u0435\\u0440\\u0432\\u043e\\u0433\\u043e \\u043a\\u043e\\u043d\\u0442\\u0440\\u0430\\u043a\\u0442\\u0430 \\u043d\\u0430 \\u0441\\u043b\\u0443\\u0436\\u0431\\u0435 \\u0415\\u0449\\u0435 \\u0432 \\u0434\\u0432\\u0443\\u0445 \\u0441\\u0442\\u0440\\u0430\\u043d\\u0430\\u0445 \\u0415\\u0432\\u0440\\u043e\\u043f\\u044b \\u0432\\u044b\\u044f\\u0432\\u0438\\u043b\\u0438 \\u0437\\u0430\\u0440\\u0430\\u0436\\u0435\\u043d\\u043d\\u044b\\u0445 \\u043e\\u0441\\u043f\\u043e\\u0439 \\u043e\\u0431\\u0435\\u0437\\u044c\\u044f\\u043d \\u0428\\u043e\\u0439\\u0433\\u0443 \\u0437\\u0430\\u044f\\u0432\\u0438\\u043b \\u043e \\u043f\\u0440\\u043e\\u0432\\u0430\\u043b\\u0435 \\u043f\\u043e\\u043f\\u044b\\u0442\\u043a\\u0438 \\u0437\\u0430\\u0445\\u0432\\u0430\\u0442\\u0430 \\u0412\\u0421\\u0423 \\u043e\\u0441\\u0442\\u0440\\u043e\\u0432\\u0430 \\u0417\\u043c\\u0435\\u0438\\u043d\\u044b\\u0439 \\u0412 \\u0420\\u043e\\u0441\\u0441\\u0438\\u0438 \\u0441\\u043e\\u0437\\u0434\\u0430\\u043b\\u0438 \\u0448\\u0442\\u0430\\u0431 \\u043f\\u043e \\u0432\\u043e\\u0441\\u0441\\u0442\\u0430\\u043d\\u043e\\u0432\\u043b\\u0435\\u043d\\u0438\\u044e \\u0442\\u0435\\u0440\\u0440\\u0438\\u0442\\u043e\\u0440\\u0438\\u0439 \\u0423\\u043a\\u0440\\u0430\\u0438\\u043d\\u044b \\u0428\\u043e\\u0439\\u0433\\u0443 \\u0437\\u0430\\u044f\\u0432\\u0438\\u043b \\u043e\\u0431 \\u0443\\u0432\\u0435\\u043b\\u0438\\u0447\\u0435\\u043d\\u0438\\u0438 \\u0438\\u043d\\u0442\\u0435\\u043d\\u0441\\u0438\\u0432\\u043d\\u043e\\u0441\\u0442\\u0438 \\u043f\\u043e\\u043b\\u0435\\u0442\\u043e\\u0432 \\u0431\\u043e\\u043c\\u0431\\u0430\\u0440\\u0434\\u0438\\u0440\\u043e\\u0432\\u0449\\u0438\\u043a\\u043e\\u0432 \\u0421\\u0428\\u0410 \\u0432 15 \\u0440\\u0430\\u0437 \\u041a\\u0438\\u0442\\u0430\\u0439 \\u043d\\u0430\\u0447\\u0430\\u043b \\u0432\\u043e\\u0435\\u043d\\u043d\\u044b\\u0435 \\u0443\\u0447\\u0435\\u043d\\u0438\\u044f \\u0432\\u043e \\u0432\\u0440\\u0435\\u043c\\u044f \\u0432\\u0438\\u0437\\u0438\\u0442\\u0430 \\u0411\\u0430\\u0439\\u0434\\u0435\\u043d\\u0430 \\u0432 \\u0410\\u0437\\u0438\\u044e \\u0410\\u0444\\u0440\\u0438\\u043a\\u0430\\u043d\\u0441\\u043a\\u0438\\u0435 \\u0441\\u0442\\u0440\\u0430\\u043d\\u044b \\u043f\\u043e\\u043f\\u0440\\u043e\\u0441\\u0438\\u043b\\u0438 \\u043f\\u043e\\u043c\\u043e\\u0449\\u0438 \\u0443 \\u0420\\u043e\\u0441\\u0441\\u0438\\u0438 \\u0441 \\u043f\\u043e\\u0441\\u0442\\u0430\\u0432\\u043a\\u043e\\u0439 \\u043f\\u0440\\u043e\\u0434\\u043e\\u0432\\u043e\\u043b\\u044c\\u0441\\u0442\\u0432\\u0438\\u044f \\u0412 \\u041c\\u0418\\u0414 \\u041a\\u041d\\u0420 \\u043d\\u0435 \\u043f\\u043e\\u0434\\u0442\\u0432\\u0435\\u0440\\u0434\\u0438\\u043b\\u0438 \\u0438\\u043d\\u0444\\u043e\\u0440\\u043c\\u0430\\u0446\\u0438\\u044e \\u043e \\u0437\\u0430\\u043a\\u0443\\u043f\\u043a\\u0430\\u0445 \\u0440\\u043e\\u0441\\u0441\\u0438\\u0439\\u0441\\u043a\\u043e\\u0439 \\u043d\\u0435\\u0444\\u0442\\u0438 \\u0434\\u043b\\u044f \\u0440\\u0435\\u0437\\u0435\\u0440\\u0432\\u043e\\u0432 \\u0428\\u043e\\u0439\\u0433\\u0443 \\u043e\\u0442\\u0440\\u0435\\u0430\\u0433\\u0438\\u0440\\u043e\\u0432\\u0430\\u043b \\u043d\\u0430 \\u0437\\u0430\\u044f\\u0432\\u043a\\u0438 \\u0424\\u0438\\u043d\\u043b\\u044f\\u043d\\u0434\\u0438\\u0438 \\u0438 \\u0428\\u0432\\u0435\\u0446\\u0438\\u0438 \\u043d\\u0430 \\u0432\\u0441\\u0442\\u0443\\u043f\\u043b\\u0435\\u043d\\u0438\\u0435 \\u0432 \\u041d\\u0410\\u0422\\u041e \\u0421\\u0442\\u0430\\u043b\\u043e \\u0438\\u0437\\u0432\\u0435\\u0441\\u0442\\u043d\\u043e \\u0432\\u043e\\u0437\\u043c\\u043e\\u0436\\u043d\\u043e\\u0435 \\u043f\\u043e\\u0441\\u043b\\u0435\\u0434\\u0441\\u0442\\u0432\\u0438\\u0435 \\u0432\\u0441\\u0442\\u0443\\u043f\\u043b\\u0435\\u043d\\u0438\\u044f \\u0424\\u0438\\u043d\\u043b\\u044f\\u043d\\u0434\\u0438\\u0438 \\u0438 \\u0428\\u0432\\u0435\\u0446\\u0438\\u0438 \\u0432 \\u041d\\u0410\\u0422\\u041e \\u041d\\u0430\\u0437\\u0432\\u0430\\u043d\\u0430 \\u0432\\u043e\\u0437\\u043c\\u043e\\u0436\\u043d\\u0430\\u044f \\u0434\\u0430\\u0442\\u0430 \\u0440\\u0430\\u0441\\u0441\\u043c\\u043e\\u0442\\u0440\\u0435\\u043d\\u0438\\u044f \\u043f\\u0440\\u043e\\u0435\\u043a\\u0442\\u0430 \\u043e \\u043d\\u0430\\u043a\\u0430\\u0437\\u0430\\u043d\\u0438\\u0438 \\u0437\\u0430 \\u0441\\u0430\\u043d\\u043a\\u0446\\u0438\\u0438 \\u0432 \\u0420\\u043e\\u0441\\u0441\\u0438\\u0438 \\u0415\\u0432\\u0440\\u043e\\u043a\\u043e\\u043c\\u0438\\u0441\\u0441\\u0438\\u044f \\u0437\\u0430\\u044f\\u0432\\u0438\\u043b\\u0430 \\u043e \\u043f\\u0435\\u0440\\u0435\\u0432\\u043e\\u0434\\u0435 \\u0423\\u043a\\u0440\\u0430\\u0438\\u043d\\u0435 600 \\u043c\\u0438\\u043b\\u043b\\u0438\\u043e\\u043d\\u043e\\u0432 \\u0435\\u0432\\u0440\\u043e \\u041d\\u0430 \\u0437\\u0430\\u043f\\u0430\\u0434\\u0435 \\u0420\\u043e\\u0441\\u0441\\u0438\\u0438 \\u0441\\u043e\\u0437\\u0434\\u0430\\u0434\\u0443\\u0442 12 \\u0432\\u043e\\u0438\\u043d\\u0441\\u043a\\u0438\\u0445 \\u0447\\u0430\\u0441\\u0442\\u0435\\u0439 \\u0438\\u0437-\\u0437\\u0430 \\u00ab\\u0443\\u0433\\u0440\\u043e\\u0437 \\u0443 \\u0433\\u0440\\u0430\\u043d\\u0438\\u0446\\u00bb \\u0428\\u043e\\u0439\\u0433\\u0443 \\u043d\\u0430\\u0437\\u0432\\u0430\\u043b \\u0447\\u0438\\u0441\\u043b\\u043e \\u0441\\u0434\\u0430\\u0432\\u0448\\u0438\\u0445\\u0441\\u044f \\u0432 \\u043f\\u043b\\u0435\\u043d \\u0441 \\u00ab\\u0410\\u0437\\u043e\\u0432\\u0441\\u0442\\u0430\\u043b\\u0438\\u00bb \\u0441\\u043e\\u043b\\u0434\\u0430\\u0442 \\u0412\\u0421\\u0423 \\u0428\\u043e\\u0439\\u0433\\u0443 \\u0437\\u0430\\u044f\\u0432\\u0438\\u043b \\u043e \\u043d\\u0430\\u0440\\u0430\\u0441\\u0442\\u0430\\u044e\\u0449\\u0435\\u0439 \\u0432\\u043e\\u0435\\u043d\\u043d\\u043e\\u0439 \\u0443\\u0433\\u0440\\u043e\\u0437\\u0435 \\u0420\\u043e\\u0441\\u0441\\u0438\\u0438 \\u0417\\u0430 \\u043f\\u043e\\u0441\\u043b\\u0435\\u0434\\u043d\\u0438\\u0435 \\u0441\\u0443\\u0442\\u043a\\u0438 \\u0432 \\u0421\\u0428\\u0410 \\u043f\\u0440\\u043e\\u0438\\u0437\\u043e\\u0448\\u043b\\u043e \\u0442\\u0440\\u0438 \\u0438\\u043d\\u0446\\u0438\\u0434\\u0435\\u043d\\u0442\\u0430 \\u0441\\u043e \\u0441\\u0442\\u0440\\u0435\\u043b\\u044c\\u0431\\u043e\\u0439 \\u0432 \\u0448\\u043a\\u043e\\u043b\\u0430\\u0445 \\u0421\\u0428\\u0410 \\u0437\\u0430\\u043a\\u0430\\u0437\\u0430\\u043b\\u0438 \\u043c\\u0438\\u043b\\u043b\\u0438\\u043e\\u043d\\u044b \\u0434\\u043e\\u0437 \\u0432\\u0430\\u043a\\u0446\\u0438\\u043d\\u044b \\u043e\\u0442 \\u043e\\u0441\\u043f\\u044b \\u043e\\u0431\\u0435\\u0437\\u044c\\u044f\\u043d \\u0412 \\u0413\\u0414 \\u043f\\u0440\\u0435\\u0434\\u0443\\u043f\\u0440\\u0435\\u0434\\u0438\\u043b\\u0438 \\u041b\\u0430\\u0442\\u0432\\u0438\\u044e \\u043e \\u043f\\u043e\\u0441\\u043b\\u0435\\u0434\\u0441\\u0442\\u0432\\u0438\\u044f\\u0445 \\u0441\\u043d\\u043e\\u0441\\u0430 \\u0441\\u043e\\u0432\\u0435\\u0442\\u0441\\u043a\\u0438\\u0445 \\u043f\\u0430\\u043c\\u044f\\u0442\\u043d\\u0438\\u043a\\u043e\\u0432 \\u0412\\u041e\\u0417 \\u0440\\u0435\\u0448\\u0438\\u043b\\u0430 \\u0441\\u043e\\u0437\\u0432\\u0430\\u0442\\u044c \\u0447\\u0440\\u0435\\u0437\\u0432\\u044b\\u0447\\u0430\\u0439\\u043d\\u0443\\u044e \\u0432\\u0441\\u0442\\u0440\\u0435\\u0447\\u0443 \\u044d\\u043a\\u0441\\u043f\\u0435\\u0440\\u0442\\u043e\\u0432 \\u0438\\u0437-\\u0437\\u0430 \\u043e\\u0441\\u043f\\u044b \\u043e\\u0431\\u0435\\u0437\\u044c\\u044f\\u043d \\u0428\\u043e\\u0439\\u0433\\u0443 \\u043e\\u0446\\u0435\\u043d\\u0438\\u043b \\u0443\\u0441\\u043f\\u0435\\u0445\\u0438 \\u0412\\u0421\\u0423 \\u041f\\u0443\\u0442\\u0438\\u043d \\u0438 \\u041b\\u0443\\u043a\\u0430\\u0448\\u0435\\u043d\\u043a\\u043e \\u043f\\u0440\\u043e\\u0432\\u0435\\u0434\\u0443\\u0442 \\u0434\\u0432\\u0443\\u0441\\u0442\\u043e\\u0440\\u043e\\u043d\\u043d\\u044e\\u044e \\u0432\\u0441\\u0442\\u0440\\u0435\\u0447\\u0443 \\u0432 \\u0421\\u043e\\u0447\\u0438 \\u0420\\u043e\\u0441\\u0441\\u0438\\u0439\\u0441\\u043a\\u0438\\u0439 \\u0433\\u0443\\u0431\\u0435\\u0440\\u043d\\u0430\\u0442\\u043e\\u0440 \\u043f\\u0440\\u0435\\u0434\\u043b\\u043e\\u0436\\u0438\\u043b \\u043a\\u0430\\u043d\\u0434\\u0438\\u0434\\u0430\\u0442\\u0443\\u0440\\u0443 \\u043d\\u0430 \\u0434\\u043e\\u043b\\u0436\\u043d\\u043e\\u0441\\u0442\\u044c \\u0433\\u043b\\u0430\\u0432\\u044b \\u041b\\u0414\\u041f\\u0420 \\u041c\\u0435\\u0434\\u0432\\u0435\\u0434\\u0435\\u0432 \\u043f\\u0440\\u0435\\u0434\\u0443\\u043f\\u0440\\u0435\\u0434\\u0438\\u043b \\u043e \\u0434\\u0435\\u0441\\u044f\\u0442\\u0438\\u043b\\u0435\\u0442\\u0438\\u044f\\u0445 \\u0441\\u0430\\u043d\\u043a\\u0446\\u0438\\u0439 \\u043f\\u0440\\u043e\\u0442\\u0438\\u0432 \\u0420\\u043e\\u0441\\u0441\\u0438\\u0438 \\u041f\\u0443\\u0442\\u0438\\u043d \\u043f\\u043e\\u0434\\u043f\\u0438\\u0441\\u0430\\u043b \\u0443\\u043a\\u0430\\u0437 \\u043e \\u043d\\u0430\\u0433\\u0440\\u0430\\u0436\\u0434\\u0435\\u043d\\u0438\\u0438 \\u0431\\u043e\\u0439\\u0446\\u0430 \\u0414\\u041d\\u0420 \\u041c\\u043e\\u0442\\u043e\\u0440\\u043e\\u043b\\u044b \\u043f\\u043e\\u0441\\u043c\\u0435\\u0440\\u0442\\u043d\\u043e \\u0412\\u043e\\u0435\\u043d\\u043d\\u044b\\u0439 \\u044d\\u043a\\u0441\\u043f\\u0435\\u0440\\u0442 \\u043e\\u0446\\u0435\\u043d\\u0438\\u043b \\u0438\\u0434\\u0435\\u044e \\u043e\\u0431 \\u043e\\u0442\\u043c\\u0435\\u043d\\u0435 \\u043f\\u0440\\u0435\\u0434\\u0435\\u043b\\u0430 \\u043f\\u043e \\u0432\\u043e\\u0437\\u0440\\u0430\\u0441\\u0442\\u0443 \\u0434\\u043b\\u044f \\u043a\\u043e\\u043d\\u0442\\u0440\\u0430\\u043a\\u0442\\u043d\\u0438\\u043a\\u043e\\u0432 \\u041a\\u0440\\u0435\\u043c\\u043b\\u044c \\u043e\\u0446\\u0435\\u043d\\u0438\\u043b \\u0438\\u0434\\u0435\\u044e \\u043d\\u0430\\u0437\\u0432\\u0430\\u0442\\u044c \\u043c\\u0435\\u0441\\u0442\\u043e \\u0443 \\u043f\\u043e\\u0441\\u043e\\u043b\\u044c\\u0441\\u0442\\u0432\\u0430 \\u0421\\u0428\\u0410 \\u043f\\u043b\\u043e\\u0449\\u0430\\u0434\\u044c\\u044e \\u0417\\u0430\\u0449\\u0438\\u0442\\u043d\\u0438\\u043a\\u043e\\u0432 \\u0414\\u043e\\u043d\\u0431\\u0430\\u0441\\u0441\\u0430 \\u041a\\u0440\\u0435\\u043c\\u043b\\u044c \\u043e\\u0442\\u0432\\u0435\\u0442\\u0438\\u043b \\u043d\\u0430 \\u0432\\u043e\\u043f\\u0440\\u043e\\u0441 \\u043e \\u0432\\u043e\\u0437\\u043e\\u0431\\u043d\\u043e\\u0432\\u043b\\u0435\\u043d\\u0438\\u0438 \\u0440\\u0430\\u0431\\u043e\\u0442\\u044b \\u00ab\\u043d\\u043e\\u0440\\u043c\\u0430\\u043d\\u0434\\u0441\\u043a\\u043e\\u0433\\u043e \\u0444\\u043e\\u0440\\u043c\\u0430\\u0442\\u0430\\u00bb \\u0412 \\u0428\\u0432\\u0435\\u0446\\u0438\\u0438 \\u043e\\u0442\\u0432\\u0435\\u0442\\u0438\\u043b\\u0438 \\u0422\\u0443\\u0440\\u0446\\u0438\\u0438 \\u043d\\u0430 \\u0441\\u043b\\u043e\\u0432\\u0430 \\u043e \\u043f\\u043e\\u0434\\u0434\\u0435\\u0440\\u0436\\u043a\\u0435 \\u0442\\u0435\\u0440\\u0440\\u043e\\u0440\\u0438\\u0441\\u0442\\u043e\\u0432 \\u041c\\u0438\\u043d\\u043e\\u0431\\u043e\\u0440\\u043e\\u043d\\u044b \\u0441\\u043e\\u043e\\u0431\\u0449\\u0438\\u043b\\u043e \\u043e \\u043f\\u0435\\u0440\\u0435\\u0445\\u0432\\u0430\\u0442\\u0435 17 \\u0443\\u043a\\u0440\\u0430\\u0438\\u043d\\u0441\\u043a\\u0438\\u0445 \\u0441\\u043d\\u0430\\u0440\\u044f\\u0434\\u043e\\u0432 \\u0420\\u0421\\u0417\\u041e \\u00ab\\u0421\\u043c\\u0435\\u0440\\u0447\\u00bb \\u041b\\u0430\\u0432\\u0440\\u043e\\u0432 \\u0437\\u0430\\u044f\\u0432\\u0438\\u043b \\u043e \\u043f\\u043e\\u0434\\u0442\\u0432\\u0435\\u0440\\u0436\\u0434\\u0435\\u043d\\u0438\\u0438 \\u043e\\u043f\\u0430\\u0441\\u0435\\u043d\\u0438\\u0439 \\u043e\\u0442\\u043d\\u043e\\u0441\\u0438\\u0442\\u0435\\u043b\\u044c\\u043d\\u043e \\u0434\\u0435\\u0439\\u0441\\u0442\\u0432\\u0438\\u0439 \\u0417\\u0430\\u043f\\u0430\\u0434\\u0430 \\u043d\\u0430 \\u0423\\u043a\\u0440\\u0430\\u0438\\u043d\\u0435 \\u0412 \\u0413\\u043e\\u0441\\u0434\\u0443\\u043c\\u0435 \\u043f\\u043e\\u043f\\u0440\\u043e\\u0441\\u0438\\u043b\\u0438 \\u0441\\u0430\\u043c\\u043e\\u0435 \\u0441\\u0443\\u0440\\u043e\\u0432\\u043e\\u0435 \\u043d\\u0430\\u043a\\u0430\\u0437\\u0430\\u043d\\u0438\\u0435 \\u0434\\u043b\\u044f \\u0441\\u0434\\u0430\\u0432\\u0448\\u0435\\u0433\\u043e\\u0441\\u044f \\u043a\\u043e\\u043c\\u0430\\u043d\\u0434\\u0438\\u0440\\u0430 \\u0412\\u0421\\u0423 \\u0412\\u043e\\u043b\\u044b\\u043d\\u044b \\u041a\\u0440\\u0435\\u043c\\u043b\\u044c \\u043f\\u0440\\u043e\\u043a\\u043e\\u043c\\u043c\\u0435\\u043d\\u0442\\u0438\\u0440\\u043e\\u0432\\u0430\\u043b \\u0436\\u0435\\u043b\\u0430\\u043d\\u0438\\u0435 \\u0421\\u0428\\u0410 \\u043f\\u0435\\u0440\\u0435\\u0434\\u0430\\u0442\\u044c \\u041a\\u0438\\u0435\\u0432\\u0443 \\u0440\\u0430\\u043a\\u0435\\u0442\\u044b Harpoon \\u041f\\u043e\\u043b\\u044c\\u0448\\u0430 \\u043f\\u043e\\u0442\\u0440\\u0435\\u0431\\u043e\\u0432\\u0430\\u043b\\u0430 \\u043e\\u0442 \\u0415\\u0421 \\u043f\\u043e\\u043c\\u043e\\u0447\\u044c \\u0432 \\u044d\\u043a\\u0441\\u043f\\u043e\\u0440\\u0442\\u0435 \\u0443\\u043a\\u0440\\u0430\\u0438\\u043d\\u0441\\u043a\\u043e\\u0433\\u043e \\u0437\\u0435\\u0440\\u043d\\u0430 \\u041c\\u0438\\u0448\\u0443\\u0441\\u0442\\u0438\\u043d \\u0437\\u0430\\u044f\\u0432\\u0438\\u043b \\u043e \\u0431\\u044c\\u044e\\u0449\\u0438\\u0445 \\u0431\\u0443\\u043c\\u0435\\u0440\\u0430\\u043d\\u0433\\u043e\\u043c \\u043f\\u043e \\u0417\\u0430\\u043f\\u0430\\u0434\\u0443 \\u0430\\u043d\\u0442\\u0438\\u0440\\u043e\\u0441\\u0441\\u0438\\u0439\\u0441\\u043a\\u0438\\u0445 \\u0441\\u0430\\u043d\\u043a\\u0446\\u0438\\u044f\\u0445 \\u041a\\u0440\\u0435\\u043c\\u043b\\u044c \\u043e\\u043f\\u0440\\u043e\\u0432\\u0435\\u0440\\u0433 \\u0438\\u043d\\u0444\\u043e\\u0440\\u043c\\u0430\\u0446\\u0438\\u044e \\u043e \\u043f\\u043e\\u0440\\u0443\\u0447\\u0435\\u043d\\u0438\\u0438 \\u041f\\u0443\\u0442\\u0438\\u043d\\u0430 \\u043e \\u0448\\u0435\\u0444\\u0441\\u0442\\u0432\\u0435 \\u043d\\u0430\\u0434 \\u0440\\u0430\\u0439\\u043e\\u043d\\u0430\\u043c\\u0438 \\u0414\\u043e\\u043d\\u0431\\u0430\\u0441\\u0441\\u0430 \\u041a\\u0438\\u0442\\u0430\\u0439 \\u0432\\u044b\\u0440\\u0430\\u0437\\u0438\\u043b \\u043f\\u0440\\u043e\\u0442\\u0435\\u0441\\u0442 \\u041a\\u0430\\u043d\\u0430\\u0434\\u0435 \\u0438\\u0437-\\u0437\\u0430 \\u0437\\u0430\\u043f\\u0440\\u0435\\u0442\\u0430 \\u0438\\u0441\\u043f\\u043e\\u043b\\u044c\\u0437\\u043e\\u0432\\u0430\\u0442\\u044c Huawei \\u0438 ZTE \\u0412 \\u0420\\u043e\\u0441\\u0441\\u0438\\u0438 \\u0434\\u043e\\u043f\\u0443\\u0441\\u0442\\u0438\\u043b\\u0438 \\u0432\\u043e\\u0437\\u043e\\u0431\\u043d\\u043e\\u0432\\u043b\\u0435\\u043d\\u0438\\u0435 \\u043f\\u0435\\u0440\\u0435\\u0433\\u043e\\u0432\\u043e\\u0440\\u043e\\u0432 \\u0441 \\u0423\\u043a\\u0440\\u0430\\u0438\\u043d\\u043e\\u0439 \\u041e\\u0431\\u044a\\u044f\\u0441\\u043d\\u0435\\u043d\\u043e \\u0441\\u0442\\u0440\\u0435\\u043c\\u043b\\u0435\\u043d\\u0438\\u0435 \\u041a\\u0438\\u0442\\u0430\\u044f \\u0440\\u0430\\u0441\\u0448\\u0438\\u0440\\u0438\\u0442\\u044c \\u0411\\u0420\\u0418\\u041a\\u0421 \\u041f\\u0440\\u0435\\u043c\\u044c\\u0435\\u0440 \\u0418\\u0442\\u0430\\u043b\\u0438\\u0438 \\u043f\\u0440\\u0438\\u0437\\u0432\\u0430\\u043b \\u0411\\u0430\\u0439\\u0434\\u0435\\u043d\\u0430 \\u043f\\u043e\\u0437\\u0432\\u043e\\u043d\\u0438\\u0442\\u044c \\u041f\\u0443\\u0442\\u0438\\u043d\\u0443 \\u0422\\u0443\\u0440\\u0446\\u0438\\u044f \\u043e\\u0431\\u0432\\u0438\\u043d\\u0438\\u043b\\u0430 \\u0428\\u0432\\u0435\\u0446\\u0438\\u044e \\u0432 \\u0441\\u043d\\u0430\\u0431\\u0436\\u0435\\u043d\\u0438\\u0438 \\u0442\\u0435\\u0440\\u0440\\u043e\\u0440\\u0438\\u0441\\u0442\\u043e\\u0432 \\u043e\\u0440\\u0443\\u0436\\u0438\\u0435\\u043c \\u0412 \\u0420\\u043e\\u0441\\u0441\\u0438\\u0438 \\u043f\\u0440\\u0438\\u0437\\u0432\\u0430\\u043b\\u0438 \\u043f\\u0440\\u0438\\u0437\\u043d\\u0430\\u0442\\u044c \\u041d\\u0410\\u0422\\u041e \\u043f\\u0440\\u0435\\u0441\\u0442\\u0443\\u043f\\u043d\\u043e\\u0439 \\u043e\\u0440\\u0433\\u0430\\u043d\\u0438\\u0437\\u0430\\u0446\\u0438\\u0435\\u0439 \\u0423\\u043a\\u0440\\u0430\\u0438\\u043d\\u0441\\u043a\\u0438\\u0445 \\u0431\\u0435\\u0436\\u0435\\u043d\\u0446\\u0435\\u0432 \\u0432 \\u0412\\u0435\\u043b\\u0438\\u043a\\u043e\\u0431\\u0440\\u0438\\u0442\\u0430\\u043d\\u0438\\u0438 \\u0432\\u044b\\u043d\\u0443\\u0434\\u0438\\u043b\\u0438 \\u0438\\u0441\\u043a\\u0430\\u0442\\u044c \\u043d\\u043e\\u0432\\u044b\\u0435 \\u0434\\u043e\\u043c\\u0430 \\u0412 \\u0428\\u0432\\u0435\\u0446\\u0438\\u0438 \\u0441\\u043d\\u044f\\u043b\\u0438 \\u0443\\u043a\\u0440\\u0430\\u0438\\u043d\\u0441\\u043a\\u0438\\u0439 \\u0444\\u043b\\u0430\\u0433 \\u0441\\u043e \\u0437\\u0434\\u0430\\u043d\\u0438\\u044f \\u043f\\u043e\\u0441\\u043e\\u043b\\u044c\\u0441\\u0442\\u0432\\u0430 \\u041b\\u0438\\u0442\\u0432\\u044b \\u0420\\u0435\\u0439\\u0442\\u0438\\u043d\\u0433 \\u0411\\u0430\\u0439\\u0434\\u0435\\u043d\\u0430 \\u0432 \\u043c\\u0430\\u0435 \\u043e\\u043f\\u0443\\u0441\\u0442\\u0438\\u043b\\u0441\\u044f \\u0434\\u043e \\u0440\\u0435\\u043a\\u043e\\u0440\\u0434\\u043d\\u043e \\u043d\\u0438\\u0437\\u043a\\u0438\\u0445 \\u0437\\u043d\\u0430\\u0447\\u0435\\u043d\\u0438\\u0439 \\u0412\\u043e \\u0424\\u0440\\u0430\\u043d\\u0446\\u0438\\u0438 \\u043e\\u0431\\u044a\\u044f\\u0432\\u0438\\u043b\\u0438 \\u0441\\u043e\\u0441\\u0442\\u0430\\u0432 \\u043d\\u043e\\u0432\\u043e\\u0433\\u043e \\u043f\\u0440\\u0430\\u0432\\u0438\\u0442\\u0435\\u043b\\u044c\\u0441\\u0442\\u0432\\u0430 \\u0421\\u0442\\u0430\\u043b\\u0438 \\u0438\\u0437\\u0432\\u0435\\u0441\\u0442\\u043d\\u044b \\u0441\\u0440\\u043e\\u043a\\u0438 \\u043f\\u043e\\u0441\\u0442\\u0430\\u0432\\u043e\\u043a \\u0423\\u043a\\u0440\\u0430\\u0438\\u043d\\u0435 \\u043e\\u0431\\u0435\\u0449\\u0430\\u043d\\u043d\\u044b\\u0445 \\u0413\\u0435\\u0440\\u043c\\u0430\\u043d\\u0438\\u0435\\u0439 \\u0437\\u0435\\u043d\\u0438\\u0442\\u043d\\u044b\\u0445 \\u0443\\u0441\\u0442\\u0430\\u043d\\u043e\\u0432\\u043e\\u043a \\u0417\\u0430\\u043c\\u0433\\u043b\\u0430\\u0432\\u044b \\u041c\\u0418\\u0414 \\u043e\\u0431\\u0441\\u0443\\u0434\\u0438\\u043b \\u0441 \\u041e\\u041e\\u041d \\u0433\\u0443\\u043c\\u0430\\u043d\\u0438\\u0442\\u0430\\u0440\\u043d\\u043e\\u0435 \\u0432\\u0437\\u0430\\u0438\\u043c\\u043e\\u0434\\u0435\\u0439\\u0441\\u0442\\u0432\\u0438\\u0435 \\u0432 \\u0414\\u043e\\u043d\\u0431\\u0430\\u0441\\u0441\\u0435 \\u0427\\u0438\\u0441\\u043b\\u043e \\u0441\\u043b\\u0443\\u0447\\u0430\\u0435\\u0432 \\u0437\\u0430\\u0440\\u0430\\u0436\\u0435\\u043d\\u0438\\u044f \\u043e\\u0441\\u043f\\u043e\\u0439 \\u043e\\u0431\\u0435\\u0437\\u044c\\u044f\\u043d \\u0432 \\u0418\\u0441\\u043f\\u0430\\u043d\\u0438\\u0438 \\u0434\\u043e\\u0441\\u0442\\u0438\\u0433\\u043b\\u043e 30 \\u0412 \\u041a\\u043e\\u043d\\u0433\\u043e \\u0437\\u0430\\u0444\\u0438\\u043a\\u0441\\u0438\\u0440\\u043e\\u0432\\u0430\\u043b\\u0438 \\u043c\\u043d\\u043e\\u0433\\u043e\\u0447\\u0438\\u0441\\u043b\\u0435\\u043d\\u043d\\u044b\\u0435 \\u0441\\u043b\\u0443\\u0447\\u0430\\u0438 \\u0437\\u0430\\u0440\\u0430\\u0436\\u0435\\u043d\\u0438\\u044f \\u043e\\u0431\\u0435\\u0437\\u044c\\u044f\\u043d\\u044c\\u0435\\u0439 \\u043e\\u0441\\u043f\\u043e\\u0439 \\u0421\\u0442\\u0440\\u0430\\u043d\\u044b G7 \\u043e\\u0431\\u0441\\u0443\\u0434\\u0438\\u043b\\u0438 \\u043a\\u043e\\u043d\\u0444\\u0438\\u0441\\u043a\\u0430\\u0446\\u0438\\u044e \\u0440\\u043e\\u0441\\u0441\\u0438\\u0439\\u0441\\u043a\\u0438\\u0445 \\u0430\\u043a\\u0442\\u0438\\u0432\\u043e\\u0432 \\u0412 \\u0413\\u043e\\u0441\\u0434\\u0443\\u043c\\u0435 \\u0432\\u044b\\u0441\\u043a\\u0430\\u0437\\u0430\\u043b\\u0438\\u0441\\u044c \\u043e \\u0432\\u043e\\u0437\\u0432\\u0440\\u0430\\u0449\\u0435\\u043d\\u0438\\u0438 \\u043f\\u0438\\u0432\\u0430 \\u043d\\u0430 \\u0441\\u0442\\u0430\\u0434\\u0438\\u043e\\u043d\\u044b \\u041a\\u0430\\u043d\\u0430\\u0434\\u0430 \\u0432\\u0432\\u0435\\u043b\\u0430 \\u043d\\u043e\\u0432\\u044b\\u0435 \\u0441\\u0430\\u043d\\u043a\\u0446\\u0438\\u0438 \\u043f\\u0440\\u043e\\u0442\\u0438\\u0432 \\u0420\\u043e\\u0441\\u0441\\u0438\\u0438 \\u0411\\u0430\\u0439\\u0434\\u0435\\u043d \\u043f\\u0435\\u0440\\u0435\\u043f\\u0443\\u0442\\u0430\\u043b \\u0444\\u0430\\u043c\\u0438\\u043b\\u0438\\u044e \\u044e\\u0436\\u043d\\u043e\\u043a\\u043e\\u0440\\u0435\\u0439\\u0441\\u043a\\u043e\\u0433\\u043e \\u043b\\u0438\\u0434\\u0435\\u0440\\u0430 \\u0412 \\u041b\\u0414\\u041f\\u0420 \\u0440\\u0430\\u0441\\u0441\\u043a\\u0430\\u0437\\u0430\\u043b\\u0438 \\u043e \\u043f\\u0440\\u043e\\u0446\\u0435\\u0434\\u0443\\u0440\\u0435 \\u0432\\u044b\\u0431\\u043e\\u0440\\u0430 \\u043d\\u043e\\u0432\\u043e\\u0433\\u043e \\u0433\\u043b\\u0430\\u0432\\u044b \\u043f\\u0430\\u0440\\u0442\\u0438\\u0438 \\u041c\\u0438\\u043d\\u043e\\u0431\\u043e\\u0440\\u043e\\u043d\\u044b \\u0420\\u043e\\u0441\\u0441\\u0438\\u0438 \\u0441\\u043e\\u043e\\u0431\\u0449\\u0438\\u043b\\u043e \\u043e \\u043f\\u043e\\u043b\\u043d\\u043e\\u043c \\u043e\\u0441\\u0432\\u043e\\u0431\\u043e\\u0436\\u0434\\u0435\\u043d\\u0438\\u0438 \\u00ab\\u0410\\u0437\\u043e\\u0432\\u0441\\u0442\\u0430\\u043b\\u0438\\u00bb \\u041e\\u0442\\u0441\\u0443\\u0442\\u0441\\u0442\\u0432\\u0438\\u0435 \\u043d\\u043e\\u0432\\u044b\\u0445 \\u0441\\u0430\\u043d\\u043a\\u0446\\u0438\\u0439 \\u0417\\u0430\\u043f\\u0430\\u0434\\u0430 \\u043f\\u0440\\u043e\\u0442\\u0438\\u0432 \\u0420\\u043e\\u0441\\u0441\\u0438\\u0438 \\u043e\\u0431\\u044a\\u044f\\u0441\\u043d\\u0438\\u043b\\u0438 \\u0412 \\u0421\\u0428\\u0410 \\u0440\\u0430\\u0441\\u043a\\u0440\\u044b\\u043b\\u0438 \\u0441\\u0443\\u043c\\u043c\\u0443 \\u043f\\u0440\\u044f\\u043c\\u043e\\u0439 \\u0432\\u043e\\u0435\\u043d\\u043d\\u043e\\u0439 \\u043f\\u043e\\u0434\\u0434\\u0435\\u0440\\u0436\\u043a\\u0438 \\u0423\\u043a\\u0440\\u0430\\u0438\\u043d\\u044b \\u041f\\u0443\\u0442\\u0438\\u043d \\u043f\\u0440\\u0435\\u0434\\u043b\\u043e\\u0436\\u0438\\u043b \\u041a\\u0443\\u0439\\u0432\\u0430\\u0448\\u0435\\u0432\\u0443 \\u043f\\u0440\\u043e\\u0434\\u043e\\u043b\\u0436\\u0438\\u0442\\u044c \\u0440\\u0430\\u0431\\u043e\\u0442\\u0443 \\u043d\\u0430 \\u043f\\u043e\\u0441\\u0442\\u0443 \\u0433\\u0443\\u0431\\u0435\\u0440\\u043d\\u0430\\u0442\\u043e\\u0440\\u0430 \\u0421\\u043e\\u0442\\u0440\\u0443\\u0434\\u043d\\u0438\\u043a \\u0421\\u0435\\u043a\\u0440\\u0435\\u0442\\u043d\\u043e\\u0439 \\u0441\\u043b\\u0443\\u0436\\u0431\\u044b \\u0421\\u0428\\u0410 \\u043d\\u0430\\u043f\\u0430\\u043b \\u043d\\u0430 \\u0436\\u0438\\u0442\\u0435\\u043b\\u044f \\u042e\\u0436\\u043d\\u043e\\u0439 \\u041a\\u043e\\u0440\\u0435\\u0438 \\u043f\\u0435\\u0440\\u0435\\u0434 \\u0432\\u0438\\u0437\\u0438\\u0442\\u043e\\u043c \\u0411\\u0430\\u0439\\u0434\\u0435\\u043d\\u0430 \\u0411\\u043e\\u043b\\u0433\\u0430\\u0440\\u0438\\u044f \\u0440\\u0435\\u0448\\u0438\\u043b\\u0430 \\u0443\\u043c\\u0435\\u043d\\u044c\\u0448\\u0438\\u0442\\u044c \\u043a\\u043e\\u043c\\u043f\\u0435\\u043d\\u0441\\u0430\\u0446\\u0438\\u0438 \\u0431\\u0435\\u0436\\u0435\\u043d\\u0446\\u0430\\u043c \\u0441 \\u0423\\u043a\\u0440\\u0430\\u0438\\u043d\\u044b \\u0414\\u0435\\u043f\\u0443\\u0442\\u0430\\u0442 \\u0420\\u0430\\u0448\\u043a\\u0438\\u043d \\u0447\\u0435\\u0440\\u0435\\u0437 \\u0441\\u0443\\u0434 \\u043f\\u043e\\u0442\\u0440\\u0435\\u0431\\u043e\\u0432\\u0430\\u043b \\u043e\\u0442 \\u0432\\u043b\\u0430\\u0441\\u0442\\u0435\\u0439 \\u0421\\u0430\\u0440\\u0430\\u0442\\u043e\\u0432\\u0430 \\u043f\\u0440\\u0438\\u043d\\u044f\\u0442\\u044c \\u043b\\u043e\\u0441\\u0438\\u0445\\u0443 \\u041f\\u0443\\u0442\\u0438\\u043d \\u0443\\u043a\\u0430\\u0437\\u0430\\u043b \\u0410\\u043b\\u0438\\u0445\\u0430\\u043d\\u043e\\u0432\\u0443 \\u043d\\u0430 \\u043d\\u0435\\u0443\\u043c\\u0435\\u0441\\u0442\\u043d\\u044b\\u0435 \\u043f\\u043e\\u043f\\u044b\\u0442\\u043a\\u0438 \\u0441\\u0432\\u044f\\u0437\\u0430\\u0442\\u044c \\u0441\\u043f\\u0430\\u0434 \\u0432 \\u0441\\u0442\\u0440\\u043e\\u0438\\u0442\\u0435\\u043b\\u044c\\u0441\\u0442\\u0432\\u0435 \\u0441 \\u0421\\u0412\\u041e \\u0412 \\u043f\\u0440\\u0430\\u0432\\u0438\\u0442\\u0435\\u043b\\u044c\\u0441\\u0442\\u0432\\u0435 \\u0420\\u043e\\u0441\\u0441\\u0438\\u0438 \\u0437\\u0430\\u044f\\u0432\\u0438\\u043b\\u0438 \\u043e\\u0431 \\u0438\\u0437\\u043c\\u0435\\u043d\\u0435\\u043d\\u0438\\u044f\\u0445 \\u041c\\u043e\\u0440\\u0441\\u043a\\u043e\\u0439 \\u0434\\u043e\\u043a\\u0442\\u0440\\u0438\\u043d\\u044b \\u0411\\u0435\\u0440\\u043b\\u0443\\u0441\\u043a\\u043e\\u043d\\u0438 \\u043d\\u0430\\u0437\\u0432\\u0430\\u043b \\u0443\\u0441\\u043b\\u043e\\u0432\\u0438\\u0435 \\u0434\\u043b\\u044f \\u0443\\u0440\\u0435\\u0433\\u0443\\u043b\\u0438\\u0440\\u043e\\u0432\\u0430\\u043d\\u0438\\u044f \\u043a\\u0440\\u0438\\u0437\\u0438\\u0441\\u0430 \\u043d\\u0430 \\u0423\\u043a\\u0440\\u0430\\u0438\\u043d\\u0435 \\u0417\\u0430\\u043a\\u043e\\u043d\\u043e\\u043f\\u0440\\u043e\\u0435\\u043a\\u0442 \\u043e \\u0432\\u044b\\u0434\\u0435\\u043b\\u0435\\u043d\\u0438\\u0438 \\u0423\\u043a\\u0440\\u0430\\u0438\\u043d\\u0435 \\u043f\\u043e\\u043c\\u043e\\u0449\\u0438 \\u0440\\u0435\\u0448\\u0438\\u043b\\u0438 \\u043e\\u0442\\u0432\\u0435\\u0437\\u0442\\u0438 \\u0432 \\u0421\\u0435\\u0443\\u043b \\u043d\\u0430 \\u043f\\u043e\\u0434\\u043f\\u0438\\u0441\\u044c \\u0411\\u0430\\u0439\\u0434\\u0435\\u043d\\u0443 \\u041b\\u0443\\u043a\\u0430\\u0448\\u0435\\u043d\\u043a\\u043e \\u043f\\u0435\\u0440\\u0435\\u0434\\u0430\\u043b \\u0433\\u0435\\u043d\\u0441\\u0435\\u043a\\u0443 \\u041e\\u041e\\u041d \\u043b\\u0438\\u0447\\u043d\\u043e\\u0435 \\u043f\\u043e\\u0441\\u043b\\u0430\\u043d\\u0438\\u0435 \\u041c\\u0438\\u043d\\u043e\\u0431\\u043e\\u0440\\u043e\\u043d\\u044b \\u0420\\u043e\\u0441\\u0441\\u0438\\u0438 \\u0437\\u0430\\u044f\\u0432\\u0438\\u043b\\u043e \\u043e \\u043c\\u0430\\u0440\\u043e\\u0434\\u0435\\u0440\\u0441\\u043a\\u0438\\u0445 \\u0440\\u0435\\u0439\\u0434\\u0430\\u0445 \\u0412\\u0421\\u0423 \\u0412 \\u041c\\u0418\\u0414 \\u0420\\u043e\\u0441\\u0441\\u0438\\u0438 \\u043d\\u0430\\u0437\\u0432\\u0430\\u043b\\u0438 \\u0443\\u0441\\u043b\\u043e\\u0432\\u0438\\u044f \\u0432\\u043e\\u0437\\u043e\\u0431\\u043d\\u043e\\u0432\\u043b\\u0435\\u043d\\u0438\\u044f \\u044d\\u043a\\u0441\\u043f\\u043e\\u0440\\u0442\\u0430 \\u0437\\u0435\\u0440\\u043d\\u0430 \\u0438\\u0437 \\u043f\\u043e\\u0440\\u0442\\u043e\\u0432 \\u0423\\u043a\\u0440\\u0430\\u0438\\u043d\\u044b \\u0412 \\u041c\\u0438\\u043d\\u043e\\u0431\\u043e\\u0440\\u043e\\u043d\\u044b \\u0440\\u0430\\u0441\\u0441\\u043a\\u0430\\u0437\\u0430\\u043b\\u0438 \\u043e\\u0431 \\u044d\\u0432\\u0430\\u043a\\u0443\\u0430\\u0446\\u0438\\u0438 \\u043b\\u044e\\u0434\\u0435\\u0439 \\u0438\\u0437 \\u043e\\u043f\\u0430\\u0441\\u043d\\u044b\\u0445 \\u0440\\u0430\\u0439\\u043e\\u043d\\u043e\\u0432 \\u0414\\u043e\\u043d\\u0431\\u0430\\u0441\\u0441\\u0430 \\u0438 \\u0423\\u043a\\u0440\\u0430\\u0438\\u043d\\u044b \\u042d\\u0440\\u0434\\u043e\\u0433\\u0430\\u043d \\u043e\\u0431\\u044a\\u044f\\u0441\\u043d\\u0438\\u043b \\u043f\\u043e\\u0437\\u0438\\u0446\\u0438\\u044e \\u0422\\u0443\\u0440\\u0446\\u0438\\u0438 \\u043f\\u043e \\u0432\\u0441\\u0442\\u0443\\u043f\\u043b\\u0435\\u043d\\u0438\\u044e \\u0424\\u0438\\u043d\\u043b\\u044f\\u043d\\u0434\\u0438\\u0438 \\u0438 \\u0428\\u0432\\u0435\\u0446\\u0438\\u0438 \\u0432 \\u041d\\u0410\\u0422\\u041e \\u041a\\u0430\\u0434\\u044b\\u0440\\u043e\\u0432 \\u043f\\u043e\\u043e\\u0431\\u0435\\u0449\\u0430\\u043b \\u0443\\u043a\\u0440\\u0430\\u0438\\u043d\\u0441\\u043a\\u0438\\u043c \\u0432\\u043e\\u0435\\u043d\\u043d\\u044b\\u043c \\u00ab\\u0445\\u043e\\u0440\\u043e\\u0448\\u0438\\u0435 \\u0440\\u0435\\u0437\\u0443\\u043b\\u044c\\u0442\\u0430\\u0442\\u044b\\u00bb \\u0432 \\u041b\\u0438\\u0441\\u0438\\u0447\\u0430\\u043d\\u0441\\u043a\\u0435 \\u041f\\u0435\\u043d\\u0442\\u0430\\u0433\\u043e\\u043d \\u043f\\u0435\\u0440\\u0435\\u0434\\u0430\\u0441\\u0442 \\u041a\\u0438\\u0435\\u0432\\u0443 \\u0441\\u0440\\u0435\\u0434\\u0441\\u0442\\u0432\\u0430 \\u043f\\u043e\\u0440\\u0430\\u0436\\u0435\\u043d\\u0438\\u044f \\u0431\\u043e\\u043b\\u044c\\u0448\\u043e\\u0439 \\u0434\\u0430\\u043b\\u044c\\u043d\\u043e\\u0441\\u0442\\u0438 \\u041f\\u0435\\u043d\\u0442\\u0430\\u0433\\u043e\\u043d \\u043e\\u043f\\u0440\\u043e\\u0432\\u0435\\u0440\\u0433 \\u043d\\u0430\\u043b\\u0438\\u0447\\u0438\\u0435 \\u0443 \\u0421\\u0428\\u0410 \\u043f\\u043b\\u0430\\u043d\\u043e\\u0432 \\u043f\\u043e \\u0443\\u043d\\u0438\\u0447\\u0442\\u043e\\u0436\\u0435\\u043d\\u0438\\u044e \\u0427\\u0435\\u0440\\u043d\\u043e\\u043c\\u043e\\u0440\\u0441\\u043a\\u043e\\u0433\\u043e \\u0444\\u043b\\u043e\\u0442\\u0430 \\u0420\\u043e\\u0441\\u0441\\u0438\\u0438 \\u041d\\u0435\\u0431\\u0435\\u043d\\u0437\\u044f \\u0441\\u043e\\u043e\\u0431\\u0449\\u0438\\u043b \\u043e \\u0441\\u043b\\u0443\\u0447\\u0430\\u044f\\u0445 \\u0442\\u043e\\u0440\\u0433\\u043e\\u0432\\u043b\\u0438 \\u0432 \\u0415\\u0432\\u0440\\u043e\\u043f\\u0435 \\u0436\\u0435\\u043d\\u0449\\u0438\\u043d\\u0430\\u043c\\u0438 \\u0438 \\u0434\\u0435\\u0442\\u044c\\u043c\\u0438 \\u0441 \\u0423\\u043a\\u0440\\u0430\\u0438\\u043d\\u044b \\u0420\\u043e\\u0441\\u0441\\u0438\\u044f \\u0441\\u043e\\u043e\\u0431\\u0449\\u0438\\u043b\\u0430 \\u043e \\u043f\\u043e\\u043b\\u043d\\u043e\\u043c \\u043e\\u0441\\u0432\\u043e\\u0431\\u043e\\u0436\\u0434\\u0435\\u043d\\u0438\\u0438 \\u0442\\u0435\\u0440\\u0440\\u0438\\u0442\\u043e\\u0440\\u0438\\u0438 \\u00ab\\u0410\\u0437\\u043e\\u0432\\u0441\\u0442\\u0430\\u043b\\u0438\\u00bb\",\n          \"\\u0415\\u0432\\u0440\\u043e\\u0434\\u0435\\u043f\\u0443\\u0442\\u0430\\u0442\\u0430 \\u043e\\u0431\\u0432\\u0438\\u043d\\u0438\\u043b\\u0438 \\u0432 \\u0448\\u043f\\u0438\\u043e\\u043d\\u0430\\u0436\\u0435 \\u0432 \\u043f\\u043e\\u043b\\u044c\\u0437\\u0443 \\u0420\\u043e\\u0441\\u0441\\u0438\\u0438 \\u0411\\u043b\\u0438\\u043d\\u043a\\u0435\\u043d \\u0430\\u043d\\u043e\\u043d\\u0441\\u0438\\u0440\\u043e\\u0432\\u0430\\u043b \\u00ab\\u0441\\u0430\\u043c\\u044b\\u0439 \\u0430\\u043c\\u0431\\u0438\\u0446\\u0438\\u043e\\u0437\\u043d\\u044b\\u0439\\u00bb \\u0441\\u0430\\u043c\\u043c\\u0438\\u0442 \\u041d\\u0410\\u0422\\u041e \\u0441\\u043e \\u0432\\u0440\\u0435\\u043c\\u0435\\u043d \\u0445\\u043e\\u043b\\u043e\\u0434\\u043d\\u043e\\u0439 \\u0432\\u043e\\u0439\\u043d\\u044b \\u0414\\u0432\\u0430 \\u0441\\u0435\\u043b\\u0430 \\u0432 \\u0411\\u0435\\u043b\\u0433\\u043e\\u0440\\u043e\\u0434\\u0441\\u043a\\u043e\\u0439 \\u043e\\u0431\\u043b\\u0430\\u0441\\u0442\\u0438 \\u0430\\u0442\\u0430\\u043a\\u043e\\u0432\\u0430\\u043b\\u0438 \\u0443\\u043a\\u0440\\u0430\\u0438\\u043d\\u0441\\u043a\\u0438\\u0435 \\u0434\\u0440\\u043e\\u043d\\u044b-\\u043a\\u0430\\u043c\\u0438\\u043a\\u0430\\u0434\\u0437\\u0435 \\u0427\\u0435\\u0445\\u0438\\u044f \\u043f\\u0440\\u0435\\u0434\\u0443\\u043f\\u0440\\u0435\\u0434\\u0438\\u043b\\u0430 \\u0415\\u0432\\u0440\\u043e\\u043f\\u0443 \\u0438 \\u0423\\u043a\\u0440\\u0430\\u0438\\u043d\\u0443 \\u043e \\u0441\\u0434\\u0435\\u043b\\u043a\\u0435 \\u041f\\u0443\\u0442\\u0438\\u043d\\u0430 \\u0438 \\u0422\\u0440\\u0430\\u043c\\u043f\\u0430 \\u0414\\u0438\\u0440\\u0435\\u043a\\u0442\\u043e\\u0440 \\u0426\\u0420\\u0423 \\u043d\\u0430\\u0437\\u0432\\u0430\\u043b 2024 \\u0433\\u043e\\u0434 \\u0438\\u0441\\u043f\\u044b\\u0442\\u0430\\u043d\\u0438\\u0435\\u043c \\u043d\\u0430 \\u0432\\u044b\\u043d\\u043e\\u0441\\u043b\\u0438\\u0432\\u043e\\u0441\\u0442\\u044c \\u0434\\u043b\\u044f \\u0423\\u043a\\u0440\\u0430\\u0438\\u043d\\u044b \\u0411\\u0440\\u0438\\u0442\\u0430\\u043d\\u0438\\u044f \\u0437\\u0430\\u044f\\u0432\\u0438\\u043b\\u0430 \\u043e \\u0433\\u043e\\u0442\\u043e\\u0432\\u043d\\u043e\\u0441\\u0442\\u0438 \\u0440\\u0430\\u0441\\u0441\\u043c\\u043e\\u0442\\u0440\\u0435\\u0442\\u044c \\u043f\\u0440\\u0438\\u0437\\u043d\\u0430\\u043d\\u0438\\u0435 \\u043f\\u0430\\u043b\\u0435\\u0441\\u0442\\u0438\\u043d\\u0441\\u043a\\u043e\\u0433\\u043e \\u0433\\u043e\\u0441\\u0443\\u0434\\u0430\\u0440\\u0441\\u0442\\u0432\\u0430 \\u0411\\u0435\\u043b\\u044b\\u0439 \\u0434\\u043e\\u043c \\u043e\\u0431\\u044a\\u044f\\u0441\\u043d\\u0438\\u043b \\u0441\\u043b\\u043e\\u0432\\u0430 \\u0411\\u0430\\u0439\\u0434\\u0435\\u043d\\u0430 \\u043e \\u0437\\u0430\\u043a\\u0440\\u044b\\u0442\\u0438\\u0438 \\u0433\\u0440\\u0430\\u043d\\u0438\\u0446\\u044b \\u0441 \\u041c\\u0435\\u043a\\u0441\\u0438\\u043a\\u043e\\u0439 \\u0411\\u0430\\u0431\\u0443\\u0440\\u0438\\u043d \\u0437\\u0430\\u044f\\u0432\\u0438\\u043b \\u043e \\u0441\\u043d\\u044f\\u0442\\u0438\\u0438 \\u0441\\u0432\\u043e\\u0435\\u0439 \\u043a\\u0430\\u043d\\u0434\\u0438\\u0434\\u0430\\u0442\\u0443\\u0440\\u044b \\u0441 \\u0432\\u044b\\u0431\\u043e\\u0440\\u043e\\u0432 \\u043f\\u0440\\u0435\\u0437\\u0438\\u0434\\u0435\\u043d\\u0442\\u0430 \\u0420\\u043e\\u0441\\u0441\\u0438\\u0438 \\u0411\\u0443\\u043d\\u0434\\u0435\\u0441\\u0432\\u0435\\u0440 \\u0432\\u043e\\u0437\\u044c\\u043c\\u0435\\u0442 \\u043d\\u0430 \\u0432\\u043e\\u043e\\u0440\\u0443\\u0436\\u0435\\u043d\\u0438\\u0435 ChatGPT \\u0411\\u043e\\u0440\\u0440\\u0435\\u043b\\u044c \\u043d\\u0430\\u0437\\u0432\\u0430\\u043b \\u043e\\u0448\\u0438\\u0431\\u043e\\u0447\\u043d\\u044b\\u043c\\u0438 \\u0438\\u0434\\u0435\\u0438 \\u043e \\u043f\\u0435\\u0440\\u0435\\u043c\\u0438\\u0440\\u0438\\u0438 \\u043d\\u0430 \\u0423\\u043a\\u0440\\u0430\\u0438\\u043d\\u0435 \\u042d\\u043a\\u0441-\\u043f\\u0440\\u0435\\u043c\\u044c\\u0435\\u0440\\u0430 \\u041f\\u0430\\u043a\\u0438\\u0441\\u0442\\u0430\\u043d\\u0430 \\u043f\\u0440\\u0438\\u0433\\u043e\\u0432\\u043e\\u0440\\u0438\\u043b\\u0438 \\u043a 10 \\u0433\\u043e\\u0434\\u0430\\u043c \\u043b\\u0438\\u0448\\u0435\\u043d\\u0438\\u044f \\u0441\\u0432\\u043e\\u0431\\u043e\\u0434\\u044b \\u0424\\u0440\\u0430\\u043d\\u0446\\u0438\\u044f \\u043e\\u0442\\u043a\\u0430\\u0436\\u0435\\u0442\\u0441\\u044f \\u043e\\u0442 \\u043a\\u0440\\u0443\\u043f\\u043d\\u044b\\u0445 \\u0432\\u043e\\u0435\\u043d\\u043d\\u044b\\u0445 \\u043a\\u043e\\u043d\\u0442\\u0438\\u043d\\u0433\\u0435\\u043d\\u0442\\u043e\\u0432 \\u0432 \\u0410\\u0444\\u0440\\u0438\\u043a\\u0435 \\u041b\\u0430\\u0432\\u0440\\u043e\\u0432 \\u043d\\u0430\\u0437\\u0432\\u0430\\u043b \\u0447\\u0438\\u0441\\u043b\\u043e \\u0443\\u0447\\u0430\\u0441\\u0442\\u043d\\u0438\\u043a\\u043e\\u0432 \\u0430\\u043d\\u0442\\u0438\\u0440\\u043e\\u0441\\u0441\\u0438\\u0439\\u0441\\u043a\\u043e\\u0433\\u043e \\u0437\\u0430\\u043f\\u0430\\u0434\\u043d\\u043e\\u0433\\u043e \\u043b\\u0430\\u0433\\u0435\\u0440\\u044f \\u0424\\u0440\\u0430\\u043d\\u0446\\u0438\\u044f \\u043e\\u0431\\u0432\\u0438\\u043d\\u0438\\u043b\\u0430 \\u0415\\u0421 \\u0432 \\u043f\\u0440\\u043e\\u0442\\u0435\\u0441\\u0442\\u0430\\u0445 \\u0444\\u0435\\u0440\\u043c\\u0435\\u0440\\u043e\\u0432 \\u0438 \\u043f\\u0440\\u0438\\u0437\\u044b\\u0432\\u0430\\u043b\\u0430 \\u0443\\u043c\\u0435\\u043d\\u044c\\u0448\\u0438\\u0442\\u044c \\u0438\\u043c\\u043f\\u043e\\u0440\\u0442 \\u0441 \\u0423\\u043a\\u0440\\u0430\\u0438\\u043d\\u044b \\u0418\\u0437\\u0440\\u0430\\u0438\\u043b\\u044c\\u0441\\u043a\\u0438\\u0435 \\u0432\\u043e\\u0435\\u043d\\u043d\\u044b\\u0435 \\u0441\\u0442\\u0430\\u043b\\u0438 \\u044d\\u043a\\u043e\\u043d\\u043e\\u043c\\u0438\\u0442\\u044c \\u041a\\u0440\\u0435\\u043c\\u043b\\u044c \\u043f\\u0440\\u0438\\u0437\\u0432\\u0430\\u043b \\u0421\\u0428\\u0410 \\u043e\\u0442\\u043a\\u0430\\u0437\\u0430\\u0442\\u044c\\u0441\\u044f \\u043e\\u0442 \\u043f\\u043b\\u0430\\u043d\\u043e\\u0432 \\u0430\\u0442\\u0430\\u043a\\u043e\\u0432\\u0430\\u0442\\u044c \\u0438\\u0440\\u0430\\u043d\\u0441\\u043a\\u0438\\u0435 \\u043e\\u0431\\u044a\\u0435\\u043a\\u0442\\u044b \\u0418\\u0440\\u0430\\u043d \\u043f\\u0440\\u0438\\u0437\\u0432\\u0430\\u043b \\u0434\\u043e\\u0433\\u043e\\u0432\\u043e\\u0440\\u0438\\u0442\\u044c\\u0441\\u044f \\u043f\\u043e\\u0441\\u043b\\u0435 \\u0441\\u043e\\u043e\\u0431\\u0449\\u0435\\u043d\\u0438\\u0439 \\u043e \\u0432\\u043e\\u0437\\u043c\\u043e\\u0436\\u043d\\u043e\\u0439 \\u0442\\u0430\\u0439\\u043d\\u043e\\u0439 \\u043e\\u043f\\u0435\\u0440\\u0430\\u0446\\u0438\\u0438 \\u0421\\u0428\\u0410 \\u0413\\u043e\\u0441\\u0434\\u0435\\u043f \\u043e\\u043f\\u0440\\u043e\\u0432\\u0435\\u0440\\u0433 \\u0432\\u044b\\u0432\\u043e\\u0434 \\u0432\\u043e\\u0435\\u043d\\u043d\\u044b\\u0445 \\u0421\\u0428\\u0410 \\u0438\\u0437 \\u0421\\u0438\\u0440\\u0438\\u0438 \\u041a\\u0430\\u043d\\u0446\\u043b\\u0435\\u0440 \\u0410\\u0432\\u0441\\u0442\\u0440\\u0438\\u0438 \\u0432\\u044b\\u0441\\u043a\\u0430\\u0437\\u0430\\u043b\\u0441\\u044f \\u043e \\u0432\\u0441\\u0442\\u0440\\u0435\\u0447\\u0435 \\u0441 \\u041f\\u0443\\u0442\\u0438\\u043d\\u044b\\u043c \\u0432 2022 \\u0433\\u043e\\u0434\\u0443 \\u041a\\u0430\\u043d\\u0434\\u0438\\u0434\\u0430\\u0442 \\u0432 \\u043f\\u0440\\u0435\\u0437\\u0438\\u0434\\u0435\\u043d\\u0442\\u044b \\u0421\\u0428\\u0410 \\u043f\\u0440\\u0438\\u0437\\u0432\\u0430\\u043b\\u0430 \\u0443\\u0441\\u0442\\u0440\\u0430\\u043d\\u0438\\u0442\\u044c \\u043b\\u044e\\u0431\\u044b\\u0445 \\u043b\\u0438\\u0434\\u0435\\u0440\\u043e\\u0432 \\u0418\\u0440\\u0430\\u043d\\u0430 \\u041b\\u0430\\u0432\\u0440\\u043e\\u0432 \\u0437\\u0430\\u044f\\u0432\\u0438\\u043b \\u043e \\u0441\\u0440\\u044b\\u0432\\u0435 \\u0437\\u0430\\u043f\\u0430\\u0434\\u043d\\u043e\\u0433\\u043e \\u043f\\u0440\\u043e\\u0435\\u043a\\u0442\\u0430 \\u043f\\u043e \\u0423\\u043a\\u0440\\u0430\\u0438\\u043d\\u0435 \\u0438\\u0437-\\u0437\\u0430 \\u0420\\u043e\\u0441\\u0441\\u0438\\u0438 \\u041b\\u0430\\u0432\\u0440\\u043e\\u0432 \\u0443\\u043a\\u0430\\u0437\\u0430\\u043b \\u043d\\u0430 \\u0430\\u0431\\u0441\\u0443\\u0440\\u0434\\u043d\\u043e\\u0441\\u0442\\u044c \\u0437\\u0430\\u044f\\u0432\\u043b\\u0435\\u043d\\u0438\\u0439 \\u043e \\u041f\\u0440\\u0438\\u0431\\u0430\\u043b\\u0442\\u0438\\u043a\\u0435 \\u043a\\u0430\\u043a \\u0446\\u0435\\u043b\\u0438 \\u0420\\u043e\\u0441\\u0441\\u0438\\u0438 \\u041b\\u0430\\u0432\\u0440\\u043e\\u0432 \\u043d\\u0435 \\u043d\\u0430\\u0448\\u0435\\u043b \\u043f\\u0435\\u0440\\u0441\\u043f\\u0435\\u043a\\u0442\\u0438\\u0432 \\u0432 \\u0443\\u043b\\u044c\\u0442\\u0438\\u043c\\u0430\\u0442\\u0443\\u043c\\u0430\\u0445 \\u0417\\u0430\\u043f\\u0430\\u0434\\u0430 \\u043f\\u043e \\u0423\\u043a\\u0440\\u0430\\u0438\\u043d\\u0435 \\u041b\\u0430\\u0432\\u0440\\u043e\\u0432 \\u0443\\u043a\\u0430\\u0437\\u0430\\u043b \\u043d\\u0430 \\u043d\\u0435\\u0436\\u0435\\u043b\\u0430\\u043d\\u0438\\u0435 \\u0417\\u0430\\u043f\\u0430\\u0434\\u0430 \\u0432\\u0438\\u0434\\u0435\\u0442\\u044c \\u043e\\u0442\\u043f\\u0440\\u0430\\u0432\\u043a\\u0438 \\u043e\\u0440\\u0443\\u0436\\u0438\\u044f \\u0441 \\u0423\\u043a\\u0440\\u0430\\u0438\\u043d\\u044b \\u041c\\u0438\\u043d\\u043e\\u0431\\u043e\\u0440\\u043e\\u043d\\u044b \\u0437\\u0430\\u044f\\u0432\\u0438\\u043b\\u043e \\u043e \\u043f\\u043e\\u0440\\u0430\\u0436\\u0435\\u043d\\u0438\\u0438 \\u0441\\u043a\\u043b\\u0430\\u0434\\u0430 \\u0433\\u043e\\u0440\\u044e\\u0447\\u0435\\u0433\\u043e \\u0412\\u0421\\u0423 \\u041c\\u0438\\u043d\\u0438\\u0441\\u0442\\u0440 \\u043e\\u0431\\u043e\\u0440\\u043e\\u043d\\u044b \\u0424\\u0438\\u043d\\u043b\\u044f\\u043d\\u0434\\u0438\\u0438 \\u043f\\u0440\\u0438\\u0437\\u0432\\u0430\\u043b \\u0437\\u0430\\u043f\\u0440\\u0435\\u0442\\u0438\\u0442\\u044c \\u0434\\u0432\\u043e\\u0439\\u043d\\u043e\\u0435 \\u0433\\u0440\\u0430\\u0436\\u0434\\u0430\\u043d\\u0441\\u0442\\u0432\\u043e \\u0434\\u043b\\u044f \\u0440\\u043e\\u0441\\u0441\\u0438\\u044f\\u043d \\u041c\\u0430\\u043a\\u0440\\u043e\\u043d \\u0432\\u043e \\u0432\\u0440\\u0435\\u043c\\u044f \\u043f\\u0440\\u043e\\u0442\\u0435\\u0441\\u0442\\u043e\\u0432 \\u0443\\u0435\\u0445\\u0430\\u043b \\u0438\\u0437 \\u0424\\u0440\\u0430\\u043d\\u0446\\u0438\\u0438 \\u0432 \\u0428\\u0432\\u0435\\u0446\\u0438\\u044e \\u041c\\u0435\\u0434\\u0432\\u0435\\u0434\\u0435\\u0432 \\u0437\\u0430\\u044f\\u0432\\u0438\\u043b \\u043e \\u043f\\u043b\\u0430\\u043d\\u0430\\u0445 \\u0440\\u0430\\u0437\\u043c\\u0435\\u0441\\u0442\\u0438\\u0442\\u044c \\u043d\\u043e\\u0432\\u043e\\u0435 \\u043e\\u0440\\u0443\\u0436\\u0438\\u0435 \\u0432\\u0431\\u043b\\u0438\\u0437\\u0438 \\u0433\\u0440\\u0430\\u043d\\u0438\\u0446\\u044b \\u0441 \\u042f\\u043f\\u043e\\u043d\\u0438\\u0435\\u0439 \\u041c\\u0435\\u0434\\u0432\\u0435\\u0434\\u0435\\u0432 \\u043d\\u0430\\u0437\\u0432\\u0430\\u043b \\u0443\\u0441\\u043b\\u043e\\u0432\\u0438\\u0435 \\u0434\\u043b\\u044f \\u0437\\u0430\\u043a\\u043b\\u044e\\u0447\\u0435\\u043d\\u0438\\u044f \\u043c\\u0438\\u0440\\u043d\\u043e\\u0433\\u043e \\u0434\\u043e\\u0433\\u043e\\u0432\\u043e\\u0440\\u0430 \\u0441 \\u042f\\u043f\\u043e\\u043d\\u0438\\u0435\\u0439 \\u0421\\u0428\\u0410 \\u043f\\u043e\\u043e\\u0431\\u0435\\u0449\\u0430\\u043b\\u0438 \\u043c\\u043d\\u043e\\u0433\\u043e\\u0443\\u0440\\u043e\\u0432\\u043d\\u0435\\u0432\\u044b\\u0439 \\u043e\\u0442\\u0432\\u0435\\u0442 \\u043d\\u0430 \\u0443\\u0434\\u0430\\u0440 \\u043f\\u043e \\u0431\\u0430\\u0437\\u0435 \\u0432 \\u0418\\u043e\\u0440\\u0434\\u0430\\u043d\\u0438\\u0438 \\u041e\\u0440\\u0431\\u0430\\u043d \\u043d\\u0430\\u0437\\u0432\\u0430\\u043b \\u0441\\u043f\\u043e\\u0441\\u043e\\u0431\\u043d\\u043e\\u0433\\u043e \\u043e\\u0441\\u0442\\u0430\\u043d\\u043e\\u0432\\u0438\\u0442\\u044c \\u043a\\u043e\\u043d\\u0444\\u043b\\u0438\\u043a\\u0442 \\u043d\\u0430 \\u0423\\u043a\\u0440\\u0430\\u0438\\u043d\\u0435 \\u043b\\u0438\\u0434\\u0435\\u0440\\u0430 \\u041d\\u0430\\u0437\\u0432\\u0430\\u043d\\u0430 \\u0434\\u0430\\u0442\\u0430 \\u043f\\u043e\\u043b\\u0443\\u0447\\u0435\\u043d\\u0438\\u044f \\u0423\\u043a\\u0440\\u0430\\u0438\\u043d\\u043e\\u0439 \\u0440\\u0435\\u0430\\u043a\\u0442\\u0438\\u0432\\u043d\\u044b\\u0445 \\u0441\\u043d\\u0430\\u0440\\u044f\\u0434\\u043e\\u0432 GLSDB \\u043e\\u0442 \\u0421\\u0428\\u0410 \\u041f\\u0435\\u0441\\u043a\\u043e\\u0432 \\u043f\\u0435\\u0440\\u0435\\u0430\\u0434\\u0440\\u0435\\u0441\\u043e\\u0432\\u0430\\u043b \\u0432\\u043e\\u043f\\u0440\\u043e\\u0441 \\u043e \\u0441\\u043e\\u0434\\u0435\\u0440\\u0436\\u0430\\u043d\\u0438\\u0438 \\u043f\\u0440\\u0435\\u0434\\u0432\\u044b\\u0431\\u043e\\u0440\\u043d\\u043e\\u0439 \\u043a\\u0430\\u043c\\u043f\\u0430\\u043d\\u0438\\u0438 \\u041f\\u0443\\u0442\\u0438\\u043d\\u0430 \\u041f\\u0443\\u0442\\u0438\\u043d \\u0437\\u0430\\u044f\\u0432\\u0438\\u043b \\u043e \\u0441\\u043e\\u0432\\u043c\\u0435\\u0441\\u0442\\u043d\\u043e\\u0439 \\u0440\\u0430\\u0431\\u043e\\u0442\\u0435 \\u0441 \\u0411\\u0435\\u043b\\u043e\\u0440\\u0443\\u0441\\u0441\\u0438\\u0435\\u0439 \\u043d\\u0430\\u0434 \\u043d\\u0435\\u0434\\u0435\\u043b\\u0438\\u043c\\u043e\\u0439 \\u0431\\u0435\\u0437\\u043e\\u043f\\u0430\\u0441\\u043d\\u043e\\u0441\\u0442\\u044c\\u044e \\u0412 \\u0421\\u0428\\u0410 \\u043e\\u0442\\u043a\\u0430\\u0437\\u0430\\u043b\\u0438\\u0441\\u044c \\u043e\\u0431\\u044a\\u044f\\u0432\\u043b\\u044f\\u0442\\u044c \\u043e \\u043d\\u043e\\u0432\\u044b\\u0445 \\u043f\\u043e\\u0441\\u0442\\u0430\\u0432\\u043a\\u0430\\u0445 \\u043e\\u0440\\u0443\\u0436\\u0438\\u044f \\u0423\\u043a\\u0440\\u0430\\u0438\\u043d\\u0435 \\u041f\\u0440\\u0435\\u0437\\u0438\\u0434\\u0435\\u043d\\u0442 \\u0427\\u0435\\u0445\\u0438\\u0438 \\u043d\\u0430\\u0437\\u0432\\u0430\\u043b \\u0432\\u043e\\u0437\\u043c\\u043e\\u0436\\u043d\\u043e\\u0435 \\u0443\\u0441\\u043b\\u043e\\u0432\\u0438\\u0435 \\u043f\\u0435\\u0440\\u0435\\u0433\\u043e\\u0432\\u043e\\u0440\\u043e\\u0432 \\u043f\\u043e \\u0423\\u043a\\u0440\\u0430\\u0438\\u043d\\u0435 \\u0414\\u0438\\u043f\\u043b\\u043e\\u043c\\u0430\\u0442 \\u0437\\u0430\\u044f\\u0432\\u0438\\u043b \\u043e \\u0440\\u043e\\u0441\\u0442\\u0435 \\u0438\\u043d\\u0442\\u0435\\u0440\\u0435\\u0441\\u0430 \\u0440\\u0430\\u0437\\u0432\\u0438\\u0442\\u044b\\u0445 \\u0441\\u0442\\u0440\\u0430\\u043d \\u0417\\u0430\\u043f\\u0430\\u0434\\u0430 \\u043a \\u0411\\u0420\\u0418\\u041a\\u0421 \\u0428\\u0432\\u0435\\u0439\\u0446\\u0430\\u0440\\u0438\\u044f \\u043e\\u0442\\u043f\\u0440\\u0430\\u0432\\u0438\\u043b\\u0430 \\u0432 \\u0413\\u0435\\u0440\\u043c\\u0430\\u043d\\u0438\\u044e \\u0442\\u0430\\u043d\\u043a\\u0438 Leopard 2 \\u0412 \\u0425\\u0410\\u041c\\u0410\\u0421 \\u043f\\u043e\\u0434\\u0442\\u0432\\u0435\\u0440\\u0434\\u0438\\u043b\\u0438 \\u043f\\u043e\\u043b\\u0443\\u0447\\u0435\\u043d\\u0438\\u0435 \\u043f\\u0440\\u0435\\u0434\\u043b\\u043e\\u0436\\u0435\\u043d\\u0438\\u044f \\u043f\\u043e \\u0437\\u0430\\u043b\\u043e\\u0436\\u043d\\u0438\\u043a\\u0430\\u043c \\u0412 \\u043f\\u0440\\u0430\\u0432\\u0438\\u0442\\u0435\\u043b\\u044c\\u0441\\u0442\\u0432\\u0435 \\u0413\\u0435\\u0440\\u043c\\u0430\\u043d\\u0438\\u0438 \\u0437\\u0430\\u044f\\u0432\\u0438\\u043b\\u0438 \\u043e \\u043d\\u0435\\u0445\\u0432\\u0430\\u0442\\u043a\\u0435 \\u0434\\u0435\\u043d\\u0435\\u0433 \\u0412 \\u0420\\u043e\\u0441\\u0441\\u0438\\u0438 \\u0443\\u043f\\u0440\\u043e\\u0441\\u0442\\u0438\\u043b\\u0438 \\u043f\\u043e\\u0440\\u044f\\u0434\\u043e\\u043a \\u0432\\u044b\\u0434\\u0430\\u0447\\u0438 \\u0441\\u0440\\u0435\\u0434\\u0441\\u0442\\u0432 \\u0440\\u0435\\u0430\\u0431\\u0438\\u043b\\u0438\\u0442\\u0430\\u0446\\u0438\\u0438 \\u0434\\u043b\\u044f \\u0443\\u0447\\u0430\\u0441\\u0442\\u043d\\u0438\\u043a\\u043e\\u0432 \\u0421\\u0412\\u041e \\u0412 \\u0421\\u0435\\u0432\\u0430\\u0441\\u0442\\u043e\\u043f\\u043e\\u043b\\u0435 \\u043d\\u0430\\u0434 \\u0427\\u0435\\u0440\\u043d\\u044b\\u043c \\u043c\\u043e\\u0440\\u0435\\u043c \\u0441\\u0431\\u0438\\u043b\\u0438 \\u0431\\u0435\\u0441\\u043f\\u0438\\u043b\\u043e\\u0442\\u043d\\u0438\\u043a \\u0412 \\u0421\\u0428\\u0410 \\u043f\\u0440\\u0438\\u0437\\u043d\\u0430\\u043b\\u0438 \\u0443\\u0442\\u0440\\u0430\\u0442\\u0443 \\u043c\\u0438\\u0440\\u043e\\u0432\\u043e\\u0433\\u043e \\u043f\\u0440\\u0435\\u0432\\u043e\\u0441\\u0445\\u043e\\u0434\\u0441\\u0442\\u0432\\u0430 \\u0412 \\u0413\\u0440\\u0435\\u0446\\u0438\\u0438 \\u0437\\u0430\\u044f\\u0432\\u0438\\u043b\\u0438 \\u043e \\u0433\\u043e\\u0442\\u043e\\u0432\\u043d\\u043e\\u0441\\u0442\\u0438 \\u043f\\u0440\\u043e\\u0434\\u0430\\u0442\\u044c \\u041a\\u0438\\u0435\\u0432\\u0443 \\u0431\\u043e\\u0435\\u043f\\u0440\\u0438\\u043f\\u0430\\u0441\\u044b \\u043d\\u0430 \\u0434\\u0435\\u0441\\u044f\\u0442\\u043a\\u0438 \\u043c\\u0438\\u043b\\u043b\\u0438\\u043e\\u043d\\u043e\\u0432 \\u0435\\u0432\\u0440\\u043e \\u00ab\\u0413\\u043e\\u0441\\u0443\\u0434\\u0430\\u0440\\u0441\\u0442\\u0432\\u0430 \\u043d\\u0435 \\u043f\\u0440\\u043e\\u0449\\u0430\\u044e\\u0442 \\u0432 \\u0441\\u043b\\u0443\\u0447\\u0430\\u0435 \\u043d\\u0430\\u043d\\u0435\\u0441\\u0435\\u043d\\u0438\\u044f \\u0442\\u0430\\u043a\\u043e\\u0433\\u043e \\u043e\\u0441\\u043a\\u043e\\u0440\\u0431\\u043b\\u0435\\u043d\\u0438\\u044f\\u00bb. \\u0412 \\u0418\\u0437\\u0440\\u0430\\u0438\\u043b\\u0435 \\u0442\\u0440\\u0435\\u0431\\u0443\\u044e\\u0442 \\u043f\\u0435\\u0440\\u0435\\u0441\\u043c\\u043e\\u0442\\u0440\\u0435\\u0442\\u044c \\u043e\\u0442\\u043d\\u043e\\u0448\\u0435\\u043d\\u0438\\u044f \\u0441 \\u0420\\u043e\\u0441\\u0441\\u0438\\u0435\\u0439 \\u042d\\u043a\\u0441\\u043f\\u043e\\u0440\\u0442 \\u043e\\u0440\\u0443\\u0436\\u0438\\u044f \\u0438\\u0437 \\u0421\\u0428\\u0410 \\u0432\\u044b\\u0440\\u043e\\u0441 \\u0431\\u043e\\u043b\\u0435\\u0435 \\u0447\\u0435\\u043c \\u043d\\u0430 50 \\u043f\\u0440\\u043e\\u0446\\u0435\\u043d\\u0442\\u043e\\u0432 \\u0438\\u0437-\\u0437\\u0430 \\u043a\\u043e\\u043d\\u0444\\u043b\\u0438\\u043a\\u0442\\u0430 \\u043d\\u0430 \\u0423\\u043a\\u0440\\u0430\\u0438\\u043d\\u0435 \\u0412 \\u0413\\u043e\\u0441\\u0434\\u0443\\u043c\\u0443 \\u0432\\u043d\\u0435\\u0441\\u043b\\u0438 \\u0437\\u0430\\u043a\\u043e\\u043d\\u043e\\u043f\\u0440\\u043e\\u0435\\u043a\\u0442 \\u043e \\u043b\\u044c\\u0433\\u043e\\u0442\\u0430\\u0445 \\u043d\\u0435\\u043a\\u043e\\u0442\\u043e\\u0440\\u044b\\u043c \\u0441\\u0435\\u043c\\u044c\\u044f\\u043c \\u0443\\u0447\\u0430\\u0441\\u0442\\u043d\\u0438\\u043a\\u043e\\u0432 \\u0421\\u0412\\u041e \\u0412 \\u0420\\u043e\\u0441\\u0441\\u0438\\u0438 \\u043e\\u0442\\u0440\\u0435\\u0430\\u0433\\u0438\\u0440\\u043e\\u0432\\u0430\\u043b\\u0438 \\u043d\\u0430 \\u043e\\u043f\\u0430\\u0441\\u0435\\u043d\\u0438\\u044f \\u0421\\u0428\\u0410 \\u0438\\u0437-\\u0437\\u0430 \\u043f\\u043e\\u043b\\u043e\\u0436\\u0435\\u043d\\u0438\\u044f \\u0412\\u0421\\u0423 \\u0431\\u0435\\u0437 \\u043f\\u043e\\u0441\\u0442\\u0430\\u0432\\u043e\\u043a \\u043e\\u0440\\u0443\\u0436\\u0438\\u044f \\u041f\\u0440\\u0435\\u0437\\u0438\\u0434\\u0435\\u043d\\u0442 \\u0412\\u0435\\u043d\\u0435\\u0441\\u0443\\u044d\\u043b\\u044b \\u0430\\u043d\\u043e\\u043d\\u0441\\u0438\\u0440\\u043e\\u0432\\u0430\\u043b \\u0432\\u0438\\u0437\\u0438\\u0442 \\u0432 \\u0420\\u043e\\u0441\\u0441\\u0438\\u044e \\u041a\\u043e\\u043b\\u043b\\u0435\\u043a\\u0442\\u043e\\u0440\\u044b \\u0432 \\u0420\\u043e\\u0441\\u0441\\u0438\\u0438 \\u043d\\u0430\\u0447\\u043d\\u0443\\u0442 \\u0440\\u0430\\u0431\\u043e\\u0442\\u0430\\u0442\\u044c \\u043f\\u043e-\\u043d\\u043e\\u0432\\u043e\\u043c\\u0443. \\u041a\\u0430\\u043a \\u044d\\u0442\\u043e \\u043a\\u043e\\u0441\\u043d\\u0435\\u0442\\u0441\\u044f \\u043c\\u0438\\u043b\\u043b\\u0438\\u043e\\u043d\\u043e\\u0432 \\u0434\\u043e\\u043b\\u0436\\u043d\\u0438\\u043a\\u043e\\u0432? \\u0411\\u043b\\u0438\\u043d\\u043a\\u0435\\u043d \\u0432\\u044b\\u0440\\u0430\\u0437\\u0438\\u043b \\u0443\\u0432\\u0435\\u0440\\u0435\\u043d\\u043d\\u043e\\u0441\\u0442\\u044c \\u0432\\u043e \\u0432\\u0441\\u0442\\u0443\\u043f\\u043b\\u0435\\u043d\\u0438\\u0438 \\u0423\\u043a\\u0440\\u0430\\u0438\\u043d\\u044b \\u0432 \\u041d\\u0410\\u0422\\u041e \\u041e\\u0440\\u0431\\u0430\\u043d \\u0437\\u0430\\u044f\\u0432\\u0438\\u043b \\u043e\\u0431 \\u0438\\u043c\\u043f\\u0435\\u0440\\u0438\\u0430\\u043b\\u0438\\u0437\\u043c\\u0435 \\u0415\\u0421 \\u0438 \\u043f\\u043e\\u043f\\u044b\\u0442\\u043a\\u0430\\u0445 \\u043f\\u043e\\u0434\\u043e\\u0440\\u0432\\u0430\\u0442\\u044c \\u044d\\u043a\\u043e\\u043d\\u043e\\u043c\\u0438\\u043a\\u0443 \\u0412\\u0435\\u043d\\u0433\\u0440\\u0438\\u0438 \\u041b\\u0438\\u0437 \\u0422\\u0440\\u0430\\u0441\\u0441 \\u0432\\u044b\\u0431\\u0435\\u0436\\u0430\\u043b\\u0430 \\u0438\\u0437 \\u043a\\u0430\\u0431\\u0438\\u043d\\u0435\\u0442\\u0430 \\u0432\\u043e \\u0432\\u0440\\u0435\\u043c\\u044f \\u0440\\u0430\\u0437\\u0433\\u043e\\u0432\\u043e\\u0440\\u0430. \\u0420\\u043e\\u0441\\u0441\\u0438\\u0439\\u0441\\u043a\\u0438\\u0439 \\u043f\\u043e\\u0441\\u043e\\u043b \\u0440\\u0430\\u0441\\u043a\\u0440\\u044b\\u043b \\u043e\\u0441\\u043e\\u0431\\u0435\\u043d\\u043d\\u043e\\u0441\\u0442\\u0438 \\u0431\\u0440\\u0438\\u0442\\u0430\\u043d\\u0441\\u043a\\u043e\\u0439 \\u0434\\u0438\\u043f\\u043b\\u043e\\u043c\\u0430\\u0442\\u0438\\u0438 \\u0412 \\u0411\\u0435\\u043b\\u043e\\u043c \\u0434\\u043e\\u043c\\u0435 \\u043f\\u0440\\u043e\\u0438\\u0437\\u043e\\u0448\\u043b\\u0430 \\u043f\\u0435\\u0440\\u0435\\u043f\\u0430\\u043b\\u043a\\u0430 \\u043f\\u0440\\u0438 \\u043e\\u0431\\u0441\\u0443\\u0436\\u0434\\u0435\\u043d\\u0438\\u0438 \\u0434\\u0435\\u0439\\u0441\\u0442\\u0432\\u0438\\u0439 \\u0421\\u0428\\u0410 \\u043d\\u0430 \\u0411\\u043b\\u0438\\u0436\\u043d\\u0435\\u043c \\u0412\\u043e\\u0441\\u0442\\u043e\\u043a\\u0435 \\u0412 \\u0412\\u0435\\u043d\\u0433\\u0440\\u0438\\u0438 \\u0437\\u0430\\u044f\\u0432\\u0438\\u043b\\u0438 \\u043e \\u043d\\u0435\\u043e\\u0431\\u0445\\u043e\\u0434\\u0438\\u043c\\u043e\\u0441\\u0442\\u0438 \\u0432\\u044b\\u0434\\u0435\\u043b\\u0435\\u043d\\u0438\\u044f \\u0434\\u0435\\u043d\\u0435\\u0433 \\u0415\\u0432\\u0440\\u043e\\u043f\\u0435 \\u0432\\u043c\\u0435\\u0441\\u0442\\u043e \\u0423\\u043a\\u0440\\u0430\\u0438\\u043d\\u044b \\u042d\\u043a\\u0432\\u0430\\u0434\\u043e\\u0440 \\u043f\\u0435\\u0440\\u0435\\u0434\\u0430\\u0441\\u0442 \\u0441\\u0442\\u0430\\u0440\\u0443\\u044e \\u0440\\u043e\\u0441\\u0441\\u0438\\u0439\\u0441\\u043a\\u0443\\u044e \\u0442\\u0435\\u0445\\u043d\\u0438\\u043a\\u0443 \\u0421\\u0428\\u0410 \\u041a\\u0430\\u043d\\u0434\\u0438\\u0434\\u0430\\u0442\\u044b \\u0432 \\u043f\\u0440\\u0435\\u0437\\u0438\\u0434\\u0435\\u043d\\u0442\\u044b \\u0424\\u0438\\u043d\\u043b\\u044f\\u043d\\u0434\\u0438\\u0438 \\u043f\\u043e\\u0440\\u0430\\u0437\\u043c\\u044b\\u0448\\u043b\\u044f\\u043b\\u0438 \\u043e \\u0437\\u0432\\u043e\\u043d\\u043a\\u0435 \\u041f\\u0443\\u0442\\u0438\\u043d\\u0430 \\u043f\\u043e\\u0441\\u043b\\u0435 \\u043f\\u043e\\u0431\\u0435\\u0434\\u044b \\u041f\\u043e\\u0441\\u043e\\u043b \\u0441\\u043e\\u043e\\u0431\\u0449\\u0438\\u043b \\u043e \\u0432\\u044b\\u0431\\u0435\\u0436\\u0430\\u0432\\u0448\\u0435\\u0439 \\u0438\\u0437 \\u043a\\u0430\\u0431\\u0438\\u043d\\u0435\\u0442\\u0430 \\u0422\\u0440\\u0430\\u0441\\u0441 \\u0432\\u043e \\u0432\\u0440\\u0435\\u043c\\u044f \\u0440\\u0430\\u0437\\u0433\\u043e\\u0432\\u043e\\u0440\\u0430 \\u043e\\u0431 \\u0421\\u0412\\u041e \\u041d\\u0430 \\u043e\\u043a\\u0440\\u0430\\u0438\\u043d\\u0435 \\u041a\\u0430\\u043b\\u0443\\u0433\\u0438 \\u0441\\u0431\\u0438\\u043b\\u0438 \\u0431\\u0435\\u0441\\u043f\\u0438\\u043b\\u043e\\u0442\\u043d\\u0438\\u043a \\u0421\\u0435\\u0432\\u0435\\u0440\\u043d\\u0430\\u044f \\u041a\\u043e\\u0440\\u0435\\u044f \\u0437\\u0430\\u043f\\u0443\\u0441\\u0442\\u0438\\u043b\\u0430 \\u043a\\u0440\\u044b\\u043b\\u0430\\u0442\\u044b\\u0435 \\u0440\\u0430\\u043a\\u0435\\u0442\\u044b \\u0432 \\u0442\\u0440\\u0435\\u0442\\u0438\\u0439 \\u0440\\u0430\\u0437 \\u0437\\u0430 \\u043d\\u0435\\u0434\\u0435\\u043b\\u044e \\u0412 \\u0413\\u0435\\u0440\\u043c\\u0430\\u043d\\u0438\\u0438 \\u043e\\u0446\\u0435\\u043d\\u0438\\u043b\\u0438 \\u0441\\u0442\\u043e\\u0438\\u043c\\u043e\\u0441\\u0442\\u044c \\u0432\\u043e\\u0437\\u043c\\u043e\\u0436\\u043d\\u043e\\u0433\\u043e \\u0432\\u0441\\u0442\\u0443\\u043f\\u043b\\u0435\\u043d\\u0438\\u044f \\u0423\\u043a\\u0440\\u0430\\u0438\\u043d\\u044b \\u0432 \\u0415\\u0421 \\u0412 \\u0413\\u043e\\u0441\\u0434\\u0443\\u043c\\u0435 \\u0437\\u0430\\u044f\\u0432\\u0438\\u043b\\u0438 \\u043e \\u0441\\u0431\\u043e\\u0440\\u0435 \\u043f\\u0435\\u0440\\u0441\\u043e\\u043d\\u0430\\u043b\\u044c\\u043d\\u044b\\u0445 \\u0434\\u0430\\u043d\\u043d\\u044b\\u0445 \\u0440\\u043e\\u0441\\u0441\\u0438\\u044f\\u043d \\u0438\\u043d\\u043e\\u0441\\u0442\\u0440\\u0430\\u043d\\u043d\\u044b\\u043c\\u0438 \\u0441\\u043f\\u0435\\u0446\\u0441\\u043b\\u0443\\u0436\\u0431\\u0430\\u043c\\u0438 \\u041f\\u0440\\u0435\\u043c\\u044c\\u0435\\u0440 \\u042f\\u043f\\u043e\\u043d\\u0438\\u0438 \\u043f\\u043e\\u0434\\u0442\\u0432\\u0435\\u0440\\u0434\\u0438\\u043b \\u0441\\u0442\\u0440\\u0435\\u043c\\u043b\\u0435\\u043d\\u0438\\u0435 \\u043f\\u043e\\u0434\\u043f\\u0438\\u0441\\u0430\\u0442\\u044c \\u043c\\u0438\\u0440\\u043d\\u044b\\u0439 \\u0434\\u043e\\u0433\\u043e\\u0432\\u043e\\u0440 \\u0441 \\u0420\\u043e\\u0441\\u0441\\u0438\\u0435\\u0439 \\u0412 \\u0413\\u043e\\u0441\\u0434\\u0443\\u043c\\u0435 \\u043c\\u0435\\u043c\\u043e\\u043c \\u0432\\u044b\\u0441\\u043c\\u0435\\u044f\\u043b\\u0438 \\u043d\\u0435\\u0441\\u043f\\u043e\\u0441\\u043e\\u0431\\u043d\\u043e\\u0441\\u0442\\u044c \\u0411\\u0430\\u0439\\u0434\\u0435\\u043d\\u0430 \\u0432\\u044b\\u0440\\u0430\\u0436\\u0430\\u0442\\u044c \\u0441\\u0432\\u043e\\u0438 \\u043c\\u044b\\u0441\\u043b\\u0438 \\u0421\\u0442\\u0430\\u043b\\u043e \\u0438\\u0437\\u0432\\u0435\\u0441\\u0442\\u043d\\u043e \\u043e\\u0431 \\u043e\\u0442\\u043a\\u043b\\u043e\\u043d\\u0435\\u043d\\u0438\\u0438 \\u0425\\u0410\\u041c\\u0410\\u0421 \\u0441\\u0434\\u0435\\u043b\\u043a\\u0438 \\u043f\\u043e \\u0437\\u0430\\u043b\\u043e\\u0436\\u043d\\u0438\\u043a\\u0430\\u043c \\u0432 \\u043e\\u0431\\u043c\\u0435\\u043d \\u043d\\u0430 \\u043f\\u0435\\u0440\\u0435\\u043c\\u0438\\u0440\\u0438\\u0435 \\u0413\\u043b\\u0430\\u0432\\u0430 \\u0415\\u0432\\u0440\\u043e\\u0441\\u043e\\u0432\\u0435\\u0442\\u0430 \\u0441\\u0432\\u043e\\u0438\\u043c \\u0440\\u0435\\u0448\\u0435\\u043d\\u0438\\u0435\\u043c \\u043e\\u0441\\u0442\\u0430\\u0442\\u044c\\u0441\\u044f \\u043b\\u0438\\u0448\\u0438\\u043b \\u0447\\u0438\\u043d\\u043e\\u0432\\u043d\\u0438\\u043a\\u043e\\u0432 \\u0448\\u0430\\u043c\\u043f\\u0430\\u043d\\u0441\\u043a\\u043e\\u0433\\u043e \\u0412 \\u0421\\u0428\\u0410 \\u0440\\u0430\\u0441\\u0441\\u043a\\u0430\\u0437\\u0430\\u043b\\u0438 \\u043e \\u0432\\u0430\\u0436\\u043d\\u043e\\u043c \\u043f\\u0440\\u0435\\u0438\\u043c\\u0443\\u0449\\u0435\\u0441\\u0442\\u0432\\u0435 \\u0420\\u043e\\u0441\\u0441\\u0438\\u0439\\u0441\\u043a\\u043e\\u0439 \\u0430\\u0440\\u043c\\u0438\\u0438 \\u043f\\u0435\\u0440\\u0435\\u0434 \\u0412\\u0421\\u0423 \\u0412 \\u0421\\u0428\\u0410 \\u043f\\u0440\\u0435\\u0434\\u0443\\u043f\\u0440\\u0435\\u0434\\u0438\\u043b\\u0438 \\u043e \\u043c\\u043e\\u0449\\u043d\\u043e\\u0439 \\u0440\\u0435\\u0430\\u043a\\u0446\\u0438\\u0438 \\u0411\\u0435\\u043b\\u043e\\u0433\\u043e \\u0434\\u043e\\u043c\\u0430 \\u043d\\u0430 \\u0430\\u0442\\u0430\\u043a\\u0443 \\u0434\\u0440\\u043e\\u043d\\u043e\\u0432 \\u0432 \\u0418\\u043e\\u0440\\u0434\\u0430\\u043d\\u0438\\u0438 \\u0412 \\u0413\\u0435\\u0440\\u043c\\u0430\\u043d\\u0438\\u0438 \\u043f\\u0440\\u0435\\u0434\\u0441\\u043a\\u0430\\u0437\\u0430\\u043b\\u0438 \\u044d\\u0441\\u043a\\u0430\\u043b\\u0430\\u0446\\u0438\\u044e \\u043a\\u043e\\u043d\\u0444\\u043b\\u0438\\u043a\\u0442\\u0430 \\u043d\\u0430 \\u0423\\u043a\\u0440\\u0430\\u0438\\u043d\\u0435 \\u0438\\u0437-\\u0437\\u0430 \\u0421\\u0428\\u0410 \\u0412 \\u041a\\u0440\\u044b\\u043c\\u0443 \\u043e\\u0442\\u0432\\u0435\\u0442\\u0438\\u043b\\u0438 \\u043d\\u0430 \\u0441\\u043b\\u043e\\u0432\\u0430 \\u0411\\u043e\\u0440\\u0440\\u0435\\u043b\\u044f \\u043e \\u00ab\\u0441\\u0432\\u0435\\u0442\\u0435 \\u0432 \\u043a\\u043e\\u043d\\u0446\\u0435 \\u0442\\u043e\\u043d\\u043d\\u0435\\u043b\\u044f\\u00bb \\u043f\\u043e \\u0423\\u043a\\u0440\\u0430\\u0438\\u043d\\u0435 \\u0412 \\u041c\\u0418\\u0414 \\u0440\\u0430\\u0441\\u043a\\u0440\\u044b\\u043b\\u0438 \\u043f\\u043e\\u043b\\u044c\\u0437\\u0443 \\u043e\\u0442 \\u0440\\u0430\\u0441\\u0448\\u0438\\u0440\\u0435\\u043d\\u0438\\u044f \\u0411\\u0420\\u0418\\u041a\\u0421 \\u0421\\u0442\\u0430\\u043b\\u043e \\u0438\\u0437\\u0432\\u0435\\u0441\\u0442\\u043d\\u043e \\u043e \\u043f\\u0440\\u043e\\u0432\\u0430\\u043b\\u0435 \\u043f\\u043e\\u0441\\u0442\\u0430\\u0432\\u043e\\u043a \\u0441\\u043d\\u0430\\u0440\\u044f\\u0434\\u043e\\u0432 \\u0423\\u043a\\u0440\\u0430\\u0438\\u043d\\u0435 \\u0447\\u0435\\u0440\\u0435\\u0437 \\u0412\\u0435\\u043b\\u0438\\u043a\\u043e\\u0431\\u0440\\u0438\\u0442\\u0430\\u043d\\u0438\\u044e \\u0412 \\u041a\\u0440\\u0435\\u043c\\u043b\\u0435 \\u0440\\u0430\\u0441\\u0441\\u043a\\u0430\\u0437\\u0430\\u043b\\u0438 \\u043e \\u043d\\u0435\\u0445\\u0432\\u0430\\u0442\\u043a\\u0435 \\u0443 \\u041f\\u0443\\u0442\\u0438\\u043d\\u0430 \\u0432\\u0440\\u0435\\u043c\\u0435\\u043d\\u0438 \\u043d\\u0430 \\u043f\\u0440\\u0435\\u0434\\u0432\\u044b\\u0431\\u043e\\u0440\\u043d\\u044b\\u0435 \\u043c\\u0435\\u0440\\u043e\\u043f\\u0440\\u0438\\u044f\\u0442\\u0438\\u044f \\u041f\\u0440\\u0435\\u043c\\u044c\\u0435\\u0440 \\u0412\\u0435\\u043d\\u0433\\u0440\\u0438\\u0438 \\u043d\\u0430\\u0437\\u0432\\u0430\\u043b \\u0443\\u0441\\u043b\\u043e\\u0432\\u0438\\u0435 \\u043e\\u0434\\u043e\\u0431\\u0440\\u0435\\u043d\\u0438\\u044f \\u043f\\u043e\\u0434\\u0434\\u0435\\u0440\\u0436\\u043a\\u0438 \\u0423\\u043a\\u0440\\u0430\\u0438\\u043d\\u044b \\u0412 \\u0415\\u0421 \\u0441\\u043e\\u0433\\u043b\\u0430\\u0441\\u0443\\u044e\\u0442 \\u043f\\u0440\\u0430\\u0432\\u0438\\u043b\\u0430 \\u0434\\u043b\\u044f \\u043d\\u043e\\u0432\\u043e\\u0433\\u043e \\u0444\\u043e\\u043d\\u0434\\u0430 \\u043f\\u043e\\u043c\\u043e\\u0449\\u0438 \\u0423\\u043a\\u0440\\u0430\\u0438\\u043d\\u0435 \\u0412 \\u0413\\u043e\\u0441\\u0434\\u0443\\u043c\\u0435 \\u0437\\u0430\\u0445\\u043e\\u0442\\u0435\\u043b\\u0438 \\u0432\\u043e\\u0437\\u0440\\u043e\\u0434\\u0438\\u0442\\u044c \\u043e\\u0434\\u043d\\u0443 \\u043f\\u0440\\u0430\\u043a\\u0442\\u0438\\u043a\\u0443 \\u0420\\u043e\\u0441\\u0441\\u0438\\u0439\\u0441\\u043a\\u043e\\u0439 \\u0438\\u043c\\u043f\\u0435\\u0440\\u0438\\u0438 \\u0420\\u043e\\u0441\\u0441\\u0438\\u0439\\u0441\\u043a\\u0438\\u0435 \\u0432\\u043e\\u0439\\u0441\\u043a\\u0430 \\u0443\\u043b\\u0443\\u0447\\u0448\\u0438\\u043b\\u0438 \\u043f\\u043e\\u043b\\u043e\\u0436\\u0435\\u043d\\u0438\\u0435 \\u043d\\u0430 \\u043e\\u0434\\u043d\\u043e\\u043c \\u0438\\u0437 \\u043d\\u0430\\u043f\\u0440\\u0430\\u0432\\u043b\\u0435\\u043d\\u0438\\u0439 \\u0432 \\u0437\\u043e\\u043d\\u0435 \\u0421\\u0412\\u041e \\u0412 \\u041f\\u043e\\u043b\\u044c\\u0448\\u0435 \\u043e\\u0431\\u0432\\u0438\\u043d\\u0438\\u043b\\u0438 \\u0443\\u043a\\u0440\\u0430\\u0438\\u043d\\u0441\\u043a\\u0438\\u0445 \\u043f\\u043e\\u043b\\u0438\\u0442\\u0438\\u043a\\u043e\\u0432 \\u0432 \\u0432\\u043e\\u0440\\u043e\\u0432\\u0441\\u0442\\u0432\\u0435 \\u043f\\u043e\\u043c\\u043e\\u0449\\u0438 \\u0417\\u0430\\u043f\\u0430\\u0434\\u0430 \\u041d\\u0430\\u0437\\u0432\\u0430\\u043d\\u044b \\u0441\\u0442\\u0440\\u0430\\u043d\\u044b \\u0434\\u043b\\u044f \\u043d\\u043e\\u0432\\u043e\\u0439 \\u043c\\u0438\\u0441\\u0441\\u0438\\u0438 \\u0431\\u044b\\u0432\\u0448\\u0438\\u0445 \\u0441\\u043e\\u0442\\u0440\\u0443\\u0434\\u043d\\u0438\\u043a\\u043e\\u0432 \\u0427\\u0412\\u041a \\u00ab\\u0412\\u0430\\u0433\\u043d\\u0435\\u0440\\u00bb \\u0432 \\u0410\\u0444\\u0440\\u0438\\u043a\\u0435 \\u0412 \\u0421\\u043e\\u0432\\u0444\\u0435\\u0434\\u0435 \\u0443\\u043a\\u0430\\u0437\\u0430\\u043b\\u0438 \\u043d\\u0430 \\u043d\\u0435\\u043a\\u043e\\u043d\\u0441\\u0442\\u0440\\u0443\\u043a\\u0442\\u0438\\u0432\\u043d\\u043e\\u0441\\u0442\\u044c \\u042f\\u043f\\u043e\\u043d\\u0438\\u0438 \\u043f\\u043e\\u0441\\u043b\\u0435 \\u0441\\u043b\\u043e\\u0432 \\u043e \\u043c\\u0438\\u0440\\u043d\\u043e\\u043c \\u0434\\u043e\\u0433\\u043e\\u0432\\u043e\\u0440\\u0435 \\u0412 \\u041c\\u0418\\u0414 \\u0437\\u0430\\u044f\\u0432\\u0438\\u043b\\u0438 \\u043e \\u0440\\u043e\\u0441\\u0442\\u0435 \\u044d\\u0441\\u043a\\u0430\\u043b\\u0430\\u0446\\u0438\\u0438 \\u0438\\u0437-\\u0437\\u0430 \\u0432\\u043e\\u0437\\u0432\\u0440\\u0430\\u0449\\u0435\\u043d\\u0438\\u044f \\u044f\\u0434\\u0435\\u0440\\u043d\\u043e\\u0433\\u043e \\u043e\\u0440\\u0443\\u0436\\u0438\\u044f \\u0421\\u0428\\u0410 \\u0432 \\u0411\\u0440\\u0438\\u0442\\u0430\\u043d\\u0438\\u044e \\u0421\\u0442\\u0430\\u043b\\u043e \\u0438\\u0437\\u0432\\u0435\\u0441\\u0442\\u043d\\u043e \\u043e \\u043f\\u043e\\u043f\\u044b\\u0442\\u043a\\u0430\\u0445 \\u0443\\u0431\\u0435\\u0434\\u0438\\u0442\\u044c \\u0412\\u0430\\u0448\\u0438\\u043d\\u0433\\u0442\\u043e\\u043d \\u0443\\u0439\\u0442\\u0438 \\u0441 \\u0411\\u043b\\u0438\\u0436\\u043d\\u0435\\u0433\\u043e \\u0412\\u043e\\u0441\\u0442\\u043e\\u043a\\u0430 \\u0412 \\u0421\\u0428\\u0410 \\u0437\\u0430\\u044f\\u0432\\u0438\\u043b\\u0438 \\u043e \\u0433\\u043e\\u0442\\u043e\\u0432\\u043d\\u043e\\u0441\\u0442\\u0438 \\u0420\\u043e\\u0441\\u0441\\u0438\\u0438 \\u0432\\u0437\\u044f\\u0442\\u044c \\u041e\\u0434\\u0435\\u0441\\u0441\\u0443 \\u0432 \\u0441\\u043b\\u0443\\u0447\\u0430\\u0435 \\u0443\\u0433\\u0440\\u043e\\u0437\\u044b \\u0434\\u043b\\u044f \\u041a\\u0440\\u044b\\u043c\\u0430 \\u0412 \\u0421\\u0428\\u0410 \\u043f\\u043e\\u0436\\u0430\\u043b\\u043e\\u0432\\u0430\\u043b\\u0438\\u0441\\u044c \\u043d\\u0430 \\u0438\\u0433\\u043d\\u043e\\u0440\\u0438\\u0440\\u043e\\u0432\\u0430\\u043d\\u0438\\u0435 \\u0411\\u0430\\u0439\\u0434\\u0435\\u043d\\u043e\\u043c \\u043f\\u0440\\u043e\\u0431\\u043b\\u0435\\u043c\\u044b \\u0411\\u043b\\u0438\\u0436\\u043d\\u0435\\u0433\\u043e \\u0412\\u043e\\u0441\\u0442\\u043e\\u043a\\u0430 \\u0424\\u0438\\u043b\\u0438\\u043f\\u043f\\u0438\\u043d\\u044b \\u0438 \\u0421\\u0428\\u0410 \\u043f\\u0440\\u043e\\u0432\\u0435\\u0434\\u0443\\u0442 \\u0432\\u043e\\u0435\\u043d\\u043d\\u044b\\u0435 \\u0443\\u0447\\u0435\\u043d\\u0438\\u044f \\u0432\\u0431\\u043b\\u0438\\u0437\\u0438 \\u0441\\u043f\\u043e\\u0440\\u043d\\u044b\\u0445 \\u0441 \\u041a\\u0438\\u0442\\u0430\\u0435\\u043c \\u043e\\u0441\\u0442\\u0440\\u043e\\u0432\\u043e\\u0432 \\u0412 \\u0420\\u0443\\u043c\\u044b\\u043d\\u0438\\u0438 \\u043e\\u0442\\u0432\\u0435\\u0442\\u0438\\u043b\\u0438 \\u043d\\u0430 \\u0441\\u043b\\u0443\\u0445\\u0438 \\u043e \\u0441\\u0435\\u043a\\u0440\\u0435\\u0442\\u043d\\u043e\\u0439 \\u0431\\u043e\\u0435\\u0432\\u043e\\u0439 \\u043c\\u0438\\u0441\\u0441\\u0438\\u0438 F-16 \\u043d\\u0430 \\u0423\\u043a\\u0440\\u0430\\u0438\\u043d\\u0435 \\u041e\\u0446\\u0435\\u043d\\u0435\\u043d \\u0443\\u0449\\u0435\\u0440\\u0431 \\u0421\\u0428\\u0410 \\u043e\\u0442 \\u0430\\u0442\\u0430\\u043a \\u0439\\u0435\\u043c\\u0435\\u043d\\u0441\\u043a\\u0438\\u0445 \\u0445\\u0443\\u0441\\u0438\\u0442\\u043e\\u0432 \\u041d\\u0430\\u0437\\u0432\\u0430\\u043d\\u043e \\u043e\\u0431\\u0449\\u0435\\u0435 \\u0447\\u0438\\u0441\\u043b\\u043e \\u0441\\u043e\\u0431\\u0440\\u0430\\u043d\\u043d\\u044b\\u0445 \\u043f\\u043e\\u0434\\u043f\\u0438\\u0441\\u0435\\u0439 \\u0437\\u0430 \\u0432\\u044b\\u0434\\u0432\\u0438\\u0436\\u0435\\u043d\\u0438\\u0435 \\u041f\\u0443\\u0442\\u0438\\u043d\\u0430 \\u043d\\u0430 \\u0432\\u044b\\u0431\\u043e\\u0440\\u044b \\u0412 \\u0418\\u0437\\u0440\\u0430\\u0438\\u043b\\u0435 \\u043f\\u0440\\u0438\\u0437\\u0432\\u0430\\u043b\\u0438 \\u043f\\u0435\\u0440\\u0435\\u0441\\u043c\\u043e\\u0442\\u0440\\u0435\\u0442\\u044c \\u043e\\u0442\\u043d\\u043e\\u0448\\u0435\\u043d\\u0438\\u044f \\u0441 \\u0420\\u043e\\u0441\\u0441\\u0438\\u0435\\u0439 \\u041f\\u043e\\u044f\\u0432\\u0438\\u043b\\u0438\\u0441\\u044c \\u0441\\u043b\\u0443\\u0445\\u0438 \\u043e\\u0431 \\u0443\\u0434\\u0430\\u0440\\u0435 \\u0440\\u0443\\u043c\\u044b\\u043d\\u0441\\u043a\\u043e\\u0433\\u043e F-16 \\u043f\\u043e \\u0440\\u043e\\u0441\\u0441\\u0438\\u0439\\u0441\\u043a\\u0438\\u043c \\u0432\\u043e\\u0439\\u0441\\u043a\\u0430\\u043c \\u0432 \\u0437\\u043e\\u043d\\u0435 \\u0421\\u0412\\u041e. \\u0412 \\u0420\\u0443\\u043c\\u044b\\u043d\\u0438\\u0438 \\u043e\\u0431\\u044a\\u044f\\u0441\\u043d\\u0438\\u043b\\u0438, \\u043f\\u043e\\u0447\\u0435\\u043c\\u0443 \\u044d\\u0442\\u043e \\u043b\\u043e\\u0436\\u044c \\u0412\\u0435\\u043b\\u0438\\u043a\\u043e\\u0431\\u0440\\u0438\\u0442\\u0430\\u043d\\u0438\\u044f \\u043d\\u0430\\u0434\\u0430\\u0432\\u0438\\u0442 \\u043d\\u0430 \\u041e\\u041e\\u041d \\u0441 \\u0446\\u0435\\u043b\\u044c\\u044e \\u043f\\u0440\\u0438\\u0437\\u043d\\u0430\\u043d\\u0438\\u044f \\u041f\\u0430\\u043b\\u0435\\u0441\\u0442\\u0438\\u043d\\u044b \\u041f\\u043e\\u043b\\u044c\\u0448\\u0430 \\u043d\\u0430\\u0437\\u0432\\u0430\\u043b\\u0430 \\u041e\\u0440\\u0431\\u0430\\u043d\\u0430 \\u0435\\u0434\\u0438\\u043d\\u0441\\u0442\\u0432\\u0435\\u043d\\u043d\\u044b\\u043c \\u0430\\u043d\\u0442\\u0438\\u0443\\u043a\\u0440\\u0430\\u0438\\u043d\\u0441\\u043a\\u0438\\u043c \\u043f\\u043e\\u043b\\u0438\\u0442\\u0438\\u043a\\u043e\\u043c \\u0432 \\u0415\\u0421 \\u0412 \\u0415\\u0432\\u0440\\u043e\\u043f\\u0435 \\u043f\\u0440\\u0435\\u0434\\u043b\\u043e\\u0436\\u0438\\u043b\\u0438 \\u043f\\u0435\\u0440\\u0435\\u0441\\u0435\\u043b\\u044f\\u0442\\u044c \\u0443\\u043a\\u0440\\u0430\\u0438\\u043d\\u0441\\u043a\\u0438\\u0445 \\u0431\\u0435\\u0436\\u0435\\u043d\\u0446\\u0435\\u0432 \\u043d\\u0430 \\u0437\\u0430\\u043f\\u0430\\u0434 \\u0423\\u043a\\u0440\\u0430\\u0438\\u043d\\u044b \\u041f\\u0440\\u0435\\u043c\\u044c\\u0435\\u0440 \\u041f\\u043e\\u043b\\u044c\\u0448\\u0438 \\u043f\\u0440\\u0438\\u0433\\u0440\\u043e\\u0437\\u0438\\u043b \\u0414\\u0443\\u0434\\u0435 \\u0434\\u043e\\u0441\\u0440\\u043e\\u0447\\u043d\\u044b\\u043c\\u0438 \\u043f\\u0430\\u0440\\u043b\\u0430\\u043c\\u0435\\u043d\\u0442\\u0441\\u043a\\u0438\\u043c\\u0438 \\u0432\\u044b\\u0431\\u043e\\u0440\\u0430\\u043c\\u0438 \\u041f\\u043e\\u043b\\u044c\\u0448\\u0430 \\u043f\\u043e\\u043f\\u0440\\u043e\\u0441\\u0438\\u043b\\u0430 \\u0413\\u0435\\u0440\\u043c\\u0430\\u043d\\u0438\\u044e \\u043a\\u0440\\u0435\\u0430\\u0442\\u0438\\u0432\\u043d\\u043e \\u0432\\u043e\\u0437\\u043c\\u0435\\u0441\\u0442\\u0438\\u0442\\u044c \\u043f\\u043e\\u0442\\u0435\\u0440\\u0438 \\u0412\\u0442\\u043e\\u0440\\u043e\\u0439 \\u043c\\u0438\\u0440\\u043e\\u0432\\u043e\\u0439 \\u0421\\u0428\\u0410 \\u043f\\u043e\\u0434\\u0442\\u0432\\u0435\\u0440\\u0434\\u0438\\u043b\\u0438 \\u043d\\u0430\\u043c\\u0435\\u0440\\u0435\\u043d\\u0438\\u0435 \\u043f\\u0435\\u0440\\u0435\\u0434\\u0430\\u0442\\u044c \\u0423\\u043a\\u0440\\u0430\\u0438\\u043d\\u0435 \\u0440\\u0435\\u0430\\u043a\\u0442\\u0438\\u0432\\u043d\\u044b\\u0435 \\u0441\\u043d\\u0430\\u0440\\u044f\\u0434\\u044b GLSDB \\u041f\\u043e\\u044f\\u0432\\u0438\\u043b\\u0438\\u0441\\u044c \\u043f\\u043e\\u0434\\u0440\\u043e\\u0431\\u043d\\u043e\\u0441\\u0442\\u0438 \\u043e \\u043c\\u0430\\u0440\\u0448\\u0440\\u0443\\u0442\\u0435 \\u043f\\u044b\\u0442\\u0430\\u0432\\u0448\\u0438\\u0445\\u0441\\u044f \\u0430\\u0442\\u0430\\u043a\\u043e\\u0432\\u0430\\u0442\\u044c \\u042f\\u0440\\u043e\\u0441\\u043b\\u0430\\u0432\\u043b\\u044c \\u0434\\u0440\\u043e\\u043d\\u043e\\u0432 \\u0412\\u0421\\u0423 \\u041c\\u043e\\u0441\\u043a\\u0432\\u0430 \\u043e\\u0431\\u044a\\u044f\\u0441\\u043d\\u0438\\u043b\\u0430 \\u043e\\u0442\\u043a\\u0430\\u0437 \\u043f\\u0440\\u0438\\u0433\\u043b\\u0430\\u0448\\u0430\\u0442\\u044c \\u043d\\u0430\\u0431\\u043b\\u044e\\u0434\\u0430\\u0442\\u0435\\u043b\\u0435\\u0439 \\u041e\\u0411\\u0421\\u0415 \\u043d\\u0430 \\u0432\\u044b\\u0431\\u043e\\u0440\\u044b \\u043f\\u0440\\u0435\\u0437\\u0438\\u0434\\u0435\\u043d\\u0442\\u0430 \\u0421\\u044b\\u043d\\u0430 \\u0431\\u044b\\u0432\\u0448\\u0435\\u0433\\u043e \\u043f\\u0440\\u0435\\u0437\\u0438\\u0434\\u0435\\u043d\\u0442\\u0430 \\u0411\\u0440\\u0430\\u0437\\u0438\\u043b\\u0438\\u0438 \\u0411\\u043e\\u043b\\u0441\\u043e\\u043d\\u0430\\u0440\\u0443 \\u0437\\u0430\\u043f\\u043e\\u0434\\u043e\\u0437\\u0440\\u0438\\u043b\\u0438 \\u0432 \\u0448\\u043f\\u0438\\u043e\\u043d\\u0430\\u0436\\u0435 \\u0410\\u0433\\u0435\\u043d\\u0442\\u0441\\u0442\\u0432\\u043e \\u041e\\u041e\\u041d \\u043b\\u0438\\u0448\\u0438\\u043b\\u043e\\u0441\\u044c \\u043f\\u043e\\u043b\\u043e\\u0432\\u0438\\u043d\\u044b \\u0431\\u044e\\u0434\\u0436\\u0435\\u0442\\u0430 \\u0438\\u0437-\\u0437\\u0430 \\u043f\\u0440\\u0435\\u0434\\u043f\\u043e\\u043b\\u0430\\u0433\\u0430\\u0435\\u043c\\u043e\\u0439 \\u043f\\u043e\\u0434\\u0434\\u0435\\u0440\\u0436\\u043a\\u0438 \\u0425\\u0410\\u041c\\u0410\\u0421 \\u0412 \\u0413\\u043e\\u0441\\u0434\\u0443\\u043c\\u0435 \\u043f\\u0440\\u0435\\u0434\\u0443\\u043f\\u0440\\u0435\\u0434\\u0438\\u043b\\u0438 \\u043e\\u0431 \\u043e\\u043f\\u0430\\u0441\\u043d\\u043e\\u0441\\u0442\\u0438 \\u0434\\u043b\\u044f \\u0417\\u0430\\u043b\\u0443\\u0436\\u043d\\u043e\\u0433\\u043e \\u043f\\u043e\\u0441\\u043b\\u0435 \\u0434\\u0430\\u043d\\u043d\\u044b\\u0445 \\u043e \\u0435\\u0433\\u043e \\u043e\\u0442\\u0441\\u0442\\u0430\\u0432\\u043a\\u0435 \\u0412 \\u0420\\u043e\\u0441\\u0441\\u0438\\u0438 \\u043e\\u0442\\u0440\\u0435\\u0430\\u0433\\u0438\\u0440\\u043e\\u0432\\u0430\\u043b\\u0438 \\u043d\\u0430 \\u0436\\u0435\\u043b\\u0430\\u043d\\u0438\\u0435 \\u042f\\u043f\\u043e\\u043d\\u0438\\u0438 \\u0437\\u0430\\u043a\\u043b\\u044e\\u0447\\u0438\\u0442\\u044c \\u043c\\u0438\\u0440\\u043d\\u044b\\u0439 \\u0434\\u043e\\u0433\\u043e\\u0432\\u043e\\u0440 \\u0413\\u0435\\u043d\\u0441\\u0435\\u043a \\u041d\\u0410\\u0422\\u041e \\u043d\\u0430\\u0437\\u0432\\u0430\\u043b \\u043f\\u043e\\u0441\\u0442\\u0430\\u0432\\u043a\\u0438 \\u043e\\u0440\\u0443\\u0436\\u0438\\u044f \\u0423\\u043a\\u0440\\u0430\\u0438\\u043d\\u0435 \\u043f\\u0443\\u0442\\u0435\\u043c \\u043a \\u043c\\u0438\\u0440\\u0443 \\u041f\\u0440\\u0435\\u0437\\u0438\\u0434\\u0435\\u043d\\u0442 \\u0421\\u0435\\u0440\\u0431\\u0438\\u0438 \\u0437\\u0430\\u044f\\u0432\\u0438\\u043b \\u043e \\u043f\\u043e\\u043b\\u0443\\u0447\\u0435\\u043d\\u0438\\u0438 \\u0432\\u043e\\u043e\\u0440\\u0443\\u0436\\u0435\\u043d\\u0438\\u0439 \\u0438\\u0437 \\u0420\\u043e\\u0441\\u0441\\u0438\\u0438 \\u0438 \\u041a\\u0438\\u0442\\u0430\\u044f \\u0411\\u0430\\u0439\\u0434\\u0435\\u043d \\u0430\\u043d\\u043e\\u043d\\u0441\\u0438\\u0440\\u043e\\u0432\\u0430\\u043b \\u043e\\u0442\\u0432\\u0435\\u0442 \\u0421\\u0428\\u0410 \\u043d\\u0430 \\u0430\\u0442\\u0430\\u043a\\u0438 \\u043f\\u043e \\u0431\\u0430\\u0437\\u0430\\u043c \\u043d\\u0430 \\u0411\\u043b\\u0438\\u0436\\u043d\\u0435\\u043c \\u0412\\u043e\\u0441\\u0442\\u043e\\u043a\\u0435 \\u041b\\u0438\\u0434\\u0435\\u0440\\u044b \\u0415\\u0421 \\u043f\\u043e\\u043e\\u0431\\u0435\\u0449\\u0430\\u044e\\u0442 \\u0423\\u043a\\u0440\\u0430\\u0438\\u043d\\u0435 \\u043f\\u0440\\u043e\\u0434\\u043e\\u043b\\u0436\\u0438\\u0442\\u044c \\u043e\\u043a\\u0430\\u0437\\u044b\\u0432\\u0430\\u0442\\u044c \\u0432\\u043e\\u0435\\u043d\\u043d\\u0443\\u044e \\u043f\\u043e\\u0434\\u0434\\u0435\\u0440\\u0436\\u043a\\u0443 \\u0412 \\u0413\\u043e\\u0441\\u0434\\u0435\\u043f\\u0435 \\u043f\\u0440\\u0435\\u0434\\u0443\\u043f\\u0440\\u0435\\u0434\\u0438\\u043b\\u0438 \\u043e \\u043f\\u043e\\u0442\\u0435\\u0440\\u0435 \\u041a\\u0438\\u0435\\u0432\\u043e\\u043c \\u0432\\u0441\\u0435\\u0445 \\u0432\\u043e\\u0435\\u043d\\u043d\\u044b\\u0445 \\u0434\\u043e\\u0441\\u0442\\u0438\\u0436\\u0435\\u043d\\u0438\\u0439 \\u041f\\u0440\\u0435\\u0437\\u0438\\u0434\\u0435\\u043d\\u0442 \\u0413\\u0430\\u043d\\u044b \\u043d\\u0430\\u0437\\u0432\\u0430\\u043b \\u0420\\u043e\\u0441\\u0441\\u0438\\u044e \\u0434\\u0440\\u0443\\u0433\\u043e\\u043c \\u0441\\u0432\\u043e\\u0435\\u0439 \\u0441\\u0442\\u0440\\u0430\\u043d\\u044b \\u0412 \\u0421\\u0428\\u0410 \\u043d\\u0430\\u0437\\u0432\\u0430\\u043b\\u0438 \\u0432\\u043e\\u0437\\u043c\\u043e\\u0436\\u043d\\u043e\\u0435 \\u0443\\u0441\\u043b\\u043e\\u0432\\u0438\\u0435 \\u0437\\u0430\\u043a\\u0440\\u044b\\u0442\\u0438\\u044f \\u0433\\u0440\\u0430\\u043d\\u0438\\u0446\\u044b \\u0441 \\u041c\\u0435\\u043a\\u0441\\u0438\\u043a\\u043e\\u0439\",\n          \"\\u041f\\u0443\\u0442\\u0438\\u043d \\u043f\\u0440\\u0438\\u0437\\u0432\\u0430\\u043b \\u0440\\u0430\\u0437\\u0431\\u043b\\u043e\\u043a\\u0438\\u0440\\u043e\\u0432\\u0430\\u0442\\u044c \\u0434\\u0435\\u043d\\u044c\\u0433\\u0438 \\u0430\\u0444\\u0433\\u0430\\u043d\\u0441\\u043a\\u043e\\u0433\\u043e \\u043f\\u0440\\u0430\\u0432\\u0438\\u0442\\u0435\\u043b\\u044c\\u0441\\u0442\\u0432\\u0430 \\u041f\\u0443\\u0442\\u0438\\u043d \\u043e\\u0431\\u044a\\u044f\\u0441\\u043d\\u0438\\u043b \\u0441\\u043c\\u044b\\u0441\\u043b \\u043d\\u0430\\u043b\\u0438\\u0447\\u0438\\u044f \\u0443 \\u043d\\u0435\\u0433\\u043e \\u043f\\u0440\\u0430\\u0432\\u0430 \\u0438\\u0437\\u0431\\u0440\\u0430\\u0442\\u044c\\u0441\\u044f \\u043d\\u0430 \\u043d\\u043e\\u0432\\u044b\\u0439 \\u0441\\u0440\\u043e\\u043a \\u0412 \\u0421\\u0428\\u0410 \\u0432\\u044b\\u0441\\u043a\\u0430\\u0437\\u0430\\u043b\\u0438\\u0441\\u044c \\u043e\\u0431 \\u0443\\u0447\\u0435\\u043d\\u0438\\u044f\\u0445 \\u0420\\u043e\\u0441\\u0441\\u0438\\u0438 \\u0438 \\u0411\\u0435\\u043b\\u043e\\u0440\\u0443\\u0441\\u0441\\u0438\\u0438 \\u043d\\u0430 \\u0433\\u0440\\u0430\\u043d\\u0438\\u0446\\u0435 \\u0441 \\u0423\\u043a\\u0440\\u0430\\u0438\\u043d\\u043e\\u0439 \\u041f\\u043e\\u0441\\u043e\\u043b \\u0420\\u043e\\u0441\\u0441\\u0438\\u0438 \\u043e\\u0442\\u0432\\u0435\\u0442\\u0438\\u043b \\u043d\\u0430 \\u043e\\u0442\\u043a\\u0430\\u0437 \\u0421\\u0428\\u0410 \\u0441\\u0447\\u0438\\u0442\\u0430\\u0442\\u044c \\u0432\\u044b\\u0441\\u044b\\u043b\\u043a\\u043e\\u0439 \\u043e\\u0442\\u044a\\u0435\\u0437\\u0434 \\u0440\\u043e\\u0441\\u0441\\u0438\\u0439\\u0441\\u043a\\u0438\\u0445 \\u0434\\u0438\\u043f\\u043b\\u043e\\u043c\\u0430\\u0442\\u043e\\u0432 \\u0420\\u043e\\u0441\\u0441\\u0438\\u044f\\u043d \\u043f\\u0440\\u0435\\u0434\\u0443\\u043f\\u0440\\u0435\\u0434\\u0438\\u043b\\u0438 \\u043e\\u0431 \\u0438\\u0437\\u043c\\u0435\\u043d\\u0435\\u043d\\u0438\\u044f\\u0445 \\u0432 \\u0437\\u0430\\u043a\\u043e\\u043d\\u0430\\u0445 \\u0441 1 \\u0434\\u0435\\u043a\\u0430\\u0431\\u0440\\u044f \\u0421\\u0428\\u0410 \\u0440\\u0430\\u0441\\u0448\\u0438\\u0440\\u044f\\u0442 \\u0432\\u043e\\u0435\\u043d\\u043d\\u0443\\u044e \\u0438\\u043d\\u0444\\u0440\\u0430\\u0441\\u0442\\u0440\\u0443\\u043a\\u0442\\u0443\\u0440\\u0443 \\u0432 \\u0410\\u0432\\u0441\\u0442\\u0440\\u0430\\u043b\\u0438\\u0438 \\u0412 \\u0421\\u0428\\u0410 \\u043f\\u0440\\u0435\\u0434\\u0443\\u043f\\u0440\\u0435\\u0434\\u0438\\u043b\\u0438 \\u043e \\u043a\\u0430\\u0442\\u0430\\u0441\\u0442\\u0440\\u043e\\u0444\\u0435 \\u0432 \\u0441\\u043b\\u0443\\u0447\\u0430\\u0435 \\u0432\\u043e\\u0439\\u043d\\u044b \\u0441 \\u0420\\u043e\\u0441\\u0441\\u0438\\u0435\\u0439 \\u0438\\u0437-\\u0437\\u0430 \\u0423\\u043a\\u0440\\u0430\\u0438\\u043d\\u044b \\u041f\\u043e\\u0441\\u043e\\u043b \\u0420\\u043e\\u0441\\u0441\\u0438\\u0438 \\u0432 \\u0421\\u0428\\u0410 \\u043e\\u0431\\u0432\\u0438\\u043d\\u0438\\u043b \\u0412\\u0430\\u0448\\u0438\\u043d\\u0433\\u0442\\u043e\\u043d \\u0432 \\u0432\\u044b\\u0434\\u0432\\u043e\\u0440\\u0435\\u043d\\u0438\\u0438 \\u0440\\u043e\\u0441\\u0441\\u0438\\u0439\\u0441\\u043a\\u0438\\u0445 \\u0434\\u0438\\u043f\\u043b\\u043e\\u043c\\u0430\\u0442\\u043e\\u0432 \\u0420\\u0435\\u0441\\u043f\\u0443\\u0431\\u043b\\u0438\\u043a\\u0430\\u043d\\u0446\\u044b \\u0437\\u0430\\u0431\\u043b\\u043e\\u043a\\u0438\\u0440\\u043e\\u0432\\u0430\\u043b\\u0438 \\u043f\\u0440\\u043e\\u0435\\u043a\\u0442 \\u043e\\u0431\\u043e\\u0440\\u043e\\u043d\\u043d\\u043e\\u0433\\u043e \\u0431\\u044e\\u0434\\u0436\\u0435\\u0442\\u0430 \\u0441 \\u0441\\u0430\\u043d\\u043a\\u0446\\u0438\\u044f\\u043c\\u0438 \\u043f\\u0440\\u043e\\u0442\\u0438\\u0432 \\u0420\\u043e\\u0441\\u0441\\u0438\\u0438 \\u0420\\u043e\\u0441\\u0441\\u0438\\u0439\\u0441\\u043a\\u0438\\u0439 \\u043f\\u043e\\u0441\\u043e\\u043b \\u043e\\u0431\\u0432\\u0438\\u043d\\u0438\\u043b \\u0421\\u0428\\u0410 \\u0432 \\u0438\\u0441\\u043a\\u0430\\u0436\\u0435\\u043d\\u0438\\u0438 \\u0444\\u0430\\u043a\\u0442\\u043e\\u0432 \\u043e \\u0432\\u044b\\u0434\\u0432\\u043e\\u0440\\u0435\\u043d\\u0438\\u0438 \\u0434\\u0438\\u043f\\u043b\\u043e\\u043c\\u0430\\u0442\\u043e\\u0432 \\u041f\\u043e\\u0441\\u043e\\u043b \\u0420\\u043e\\u0441\\u0441\\u0438\\u0438 \\u0432 \\u0421\\u0428\\u0410 \\u043f\\u0440\\u0438\\u0437\\u0432\\u0430\\u043b \\u043a \\u0432\\u0437\\u0430\\u0438\\u043c\\u043d\\u043e\\u043c\\u0443 \\u043e\\u0431\\u043d\\u0443\\u043b\\u0435\\u043d\\u0438\\u044e \\u0432\\u0441\\u0435\\u0445 \\u0432\\u0438\\u0437\\u043e\\u0432\\u044b\\u0445 \\u0440\\u0435\\u0441\\u0442\\u0440\\u0438\\u043a\\u0446\\u0438\\u0439 \\u0441 \\u0421\\u0428\\u0410 \\u0412 \\u041f\\u0435\\u043d\\u0442\\u0430\\u0433\\u043e\\u043d\\u0435 \\u0437\\u0430\\u0445\\u043e\\u0442\\u0435\\u043b\\u0438 \\u0443\\u043a\\u0440\\u0435\\u043f\\u0438\\u0442\\u044c \\u0441\\u0434\\u0435\\u0440\\u0436\\u0438\\u0432\\u0430\\u043d\\u0438\\u0435 \\u0420\\u043e\\u0441\\u0441\\u0438\\u0438 \\u0432 \\u0415\\u0432\\u0440\\u043e\\u043f\\u0435 \\u0411\\u0430\\u0440\\u0431\\u0430\\u0434\\u043e\\u0441 \\u043e\\u0444\\u0438\\u0446\\u0438\\u0430\\u043b\\u044c\\u043d\\u043e \\u0432\\u044b\\u0448\\u0435\\u043b \\u0438\\u0437-\\u043f\\u043e\\u0434 \\u0432\\u043b\\u0430\\u0441\\u0442\\u0438 \\u0431\\u0440\\u0438\\u0442\\u0430\\u043d\\u0441\\u043a\\u043e\\u0439 \\u043a\\u043e\\u0440\\u043e\\u043d\\u044b \\u041d\\u0438\\u0434\\u0435\\u0440\\u043b\\u0430\\u043d\\u0434\\u044b \\u0437\\u0430\\u0434\\u0443\\u043c\\u0430\\u043b\\u0438\\u0441\\u044c \\u043e \\u043d\\u043e\\u0432\\u043e\\u043c \\u0440\\u0430\\u0437\\u0431\\u0438\\u0440\\u0430\\u0442\\u0435\\u043b\\u044c\\u0441\\u0442\\u0432\\u0435 \\u043f\\u0440\\u043e\\u0442\\u0438\\u0432 \\u0420\\u043e\\u0441\\u0441\\u0438\\u0438 \\u043f\\u043e \\u0434\\u0435\\u043b\\u0443 MH17 \\u0417\\u0430\\u0445\\u0430\\u0440\\u043e\\u0432\\u0430 \\u043e\\u0446\\u0435\\u043d\\u0438\\u043b\\u0430 \\u043f\\u043b\\u0430\\u043d\\u044b \\u0421\\u0428\\u0410 \\u0440\\u0430\\u0441\\u0448\\u0438\\u0440\\u0438\\u0442\\u044c \\u0432\\u043e\\u0435\\u043d\\u043d\\u0443\\u044e \\u0438\\u043d\\u0444\\u0440\\u0430\\u0441\\u0442\\u0440\\u0443\\u043a\\u0442\\u0443\\u0440\\u0443 \\u0432 \\u0410\\u0432\\u0441\\u0442\\u0440\\u0430\\u043b\\u0438\\u0438 \\u0421\\u0428\\u0410 \\u043e\\u0431\\u0432\\u0438\\u043d\\u0438\\u043b\\u0438 \\u0420\\u043e\\u0441\\u0441\\u0438\\u044e \\u0432 \\u043f\\u0440\\u043e\\u0434\\u043e\\u043b\\u0436\\u0435\\u043d\\u0438\\u0438 \\u043d\\u0430\\u0440\\u0430\\u0449\\u0438\\u0432\\u0430\\u043d\\u0438\\u044f \\u0432\\u043e\\u0439\\u0441\\u043a \\u0443 \\u0433\\u0440\\u0430\\u043d\\u0438\\u0446 \\u0423\\u043a\\u0440\\u0430\\u0438\\u043d\\u044b \\u041f\\u0443\\u0442\\u0438\\u043d \\u043f\\u0440\\u043e\\u043a\\u043e\\u043c\\u043c\\u0435\\u043d\\u0442\\u0438\\u0440\\u043e\\u0432\\u0430\\u043b \\u043f\\u043e\\u044f\\u0432\\u043b\\u0435\\u043d\\u0438\\u0435 \\u043e\\u043c\\u0438\\u043a\\u0440\\u043e\\u043d-\\u0448\\u0442\\u0430\\u043c\\u043c\\u0430 \\u043a\\u043e\\u0440\\u043e\\u043d\\u0430\\u0432\\u0438\\u0440\\u0443\\u0441\\u0430 \\u041a\\u0430\\u0434\\u044b\\u0440\\u043e\\u0432 \\u043f\\u0440\\u0438\\u0437\\u0432\\u0430\\u043b \\u00ab\\u0441\\u0443\\u0440\\u043e\\u0432\\u044b\\u0445 \\u0438 \\u0441\\u0442\\u0440\\u043e\\u0433\\u0438\\u0445 \\u0434\\u0436\\u0438\\u0433\\u0438\\u0442\\u043e\\u0432\\u00bb \\u043f\\u0440\\u043e\\u044f\\u0432\\u043b\\u044f\\u0442\\u044c \\u0443\\u0432\\u0430\\u0436\\u0435\\u043d\\u0438\\u0435 \\u043a \\u0436\\u0435\\u043d\\u0449\\u0438\\u043d\\u0430\\u043c \\u041b\\u0430\\u0432\\u0440\\u043e\\u0432 \\u043e\\u0431\\u0432\\u0438\\u043d\\u0438\\u043b \\u0421\\u0428\\u0410 \\u0432 \\u043d\\u0430\\u0433\\u043d\\u0435\\u0442\\u0430\\u043d\\u0438\\u0438 \\u0432\\u043e\\u0435\\u043d\\u043d\\u043e\\u0439 \\u0438\\u0441\\u0442\\u0435\\u0440\\u0438\\u0438 \\u0412 \\u0427\\u0435\\u0445\\u0438\\u0438 \\u043f\\u0440\\u0438\\u0437\\u0432\\u0430\\u043b\\u0438 \\u041d\\u0410\\u0422\\u041e \\u0438 \\u0420\\u043e\\u0441\\u0441\\u0438\\u044e \\u0432\\u0435\\u0440\\u043d\\u0443\\u0442\\u044c\\u0441\\u044f \\u0437\\u0430 \\u0441\\u0442\\u043e\\u043b \\u043f\\u0435\\u0440\\u0435\\u0433\\u043e\\u0432\\u043e\\u0440\\u043e\\u0432 \\u041b\\u0438\\u0448\\u0435\\u043d\\u043d\\u044b\\u0439 \\u0434\\u0435\\u043f\\u0443\\u0442\\u0430\\u0442\\u0441\\u043a\\u043e\\u0439 \\u043d\\u0435\\u043f\\u0440\\u0438\\u043a\\u043e\\u0441\\u043d\\u043e\\u0432\\u0435\\u043d\\u043d\\u043e\\u0441\\u0442\\u0438 \\u0420\\u0430\\u0448\\u043a\\u0438\\u043d \\u043f\\u043e\\u043f\\u0430\\u043b \\u0432 \\u0431\\u043e\\u043b\\u044c\\u043d\\u0438\\u0446\\u0443 \\u0412 \\u0421\\u043e\\u0432\\u0444\\u0435\\u0434\\u0435 \\u0437\\u0430\\u044f\\u0432\\u0438\\u043b\\u0438 \\u043e \\u043d\\u0430\\u0440\\u0443\\u0448\\u0435\\u043d\\u0438\\u0438 \\u0421\\u0428\\u0410 \\u0434\\u043e\\u0433\\u043e\\u0432\\u043e\\u0440\\u0435\\u043d\\u043d\\u043e\\u0441\\u0442\\u0435\\u0439 \\u043f\\u0440\\u0438 \\u0432\\u044b\\u0441\\u044b\\u043b\\u043a\\u0435 \\u0434\\u0438\\u043f\\u043b\\u043e\\u043c\\u0430\\u0442\\u043e\\u0432 \\u0412 \\u0413\\u0440\\u0435\\u0446\\u0438\\u0438 \\u0440\\u0435\\u0448\\u0438\\u043b\\u0438 \\u0448\\u0442\\u0440\\u0430\\u0444\\u043e\\u0432\\u0430\\u0442\\u044c \\u043d\\u0435\\u043f\\u0440\\u0438\\u0432\\u0438\\u0442\\u044b\\u0445 \\u0441\\u0442\\u0430\\u0440\\u0448\\u0435 60 \\u043b\\u0435\\u0442 \\u041f\\u043e\\u043f\\u0430\\u0432\\u0448\\u0435\\u043c\\u0443 \\u0432 \\u0431\\u043e\\u043b\\u044c\\u043d\\u0438\\u0446\\u0443 \\u0420\\u0430\\u0448\\u043a\\u0438\\u043d\\u0443 \\u043f\\u0440\\u043e\\u0432\\u0435\\u043b\\u0438 \\u043e\\u043f\\u0435\\u0440\\u0430\\u0446\\u0438\\u044e \\u041b\\u0430\\u0432\\u0440\\u043e\\u0432 \\u043d\\u0430\\u0437\\u0432\\u0430\\u043b \\u043a\\u043e\\u043d\\u0444\\u0440\\u043e\\u043d\\u0442\\u0430\\u0446\\u0438\\u043e\\u043d\\u043d\\u044b\\u043c\\u0438 \\u0441\\u0445\\u0435\\u043c\\u044b \\u0421\\u0428\\u0410 \\u043f\\u043e \\u0441\\u0434\\u0435\\u0440\\u0436\\u0438\\u0432\\u0430\\u043d\\u0438\\u044e \\u0434\\u0440\\u0443\\u0433\\u0438\\u0445 \\u0441\\u0442\\u0440\\u0430\\u043d \\u041b\\u0430\\u0432\\u0440\\u043e\\u0432 \\u043e\\u0431\\u0432\\u0438\\u043d\\u0438\\u043b \\u0417\\u0430\\u043f\\u0430\\u0434 \\u0432 \\u043f\\u043e\\u0434\\u043c\\u0435\\u043d\\u0435 \\u0434\\u0435\\u043c\\u043e\\u043a\\u0440\\u0430\\u0442\\u0438\\u0438 \\u0441\\u0432\\u043e\\u0438\\u043c \\u0434\\u0438\\u043a\\u0442\\u0430\\u0442\\u043e\\u043c \\u041a\\u0440\\u0435\\u043c\\u043b\\u044c \\u0432\\u043d\\u0435\\u0441 \\u044f\\u0441\\u043d\\u043e\\u0441\\u0442\\u044c \\u0432 \\u0432\\u043e\\u043f\\u0440\\u043e\\u0441 \\u0432\\u0432\\u0435\\u0434\\u0435\\u043d\\u0438\\u044f \\u043a\\u0440\\u0443\\u043f\\u043d\\u044b\\u0445 \\u0448\\u0442\\u0440\\u0430\\u0444\\u043e\\u0432 \\u0437\\u0430 \\u043e\\u0442\\u043a\\u0430\\u0437 \\u043e\\u0442 \\u0432\\u0430\\u043a\\u0446\\u0438\\u043d\\u0430\\u0446\\u0438\\u0438 \\u0412 \\u041c\\u0418\\u0414 \\u0440\\u0430\\u0441\\u0441\\u043a\\u0430\\u0437\\u0430\\u043b\\u0438 \\u043e \\u0434\\u0435\\u0441\\u044f\\u0442\\u043a\\u0430\\u0445 \\u0441\\u0430\\u043c\\u043e\\u043b\\u0435\\u0442\\u043e\\u0432 \\u041d\\u0410\\u0422\\u041e \\u0443 \\u0433\\u0440\\u0430\\u043d\\u0438\\u0446 \\u0420\\u043e\\u0441\\u0441\\u0438\\u0438 \\u041b\\u0430\\u0432\\u0440\\u043e\\u0432 \\u043e\\u0446\\u0435\\u043d\\u0438\\u043b \\u0447\\u043b\\u0435\\u043d\\u0441\\u0442\\u0432\\u043e \\u0411\\u0440\\u0430\\u0437\\u0438\\u043b\\u0438\\u0438 \\u0432 \\u0421\\u043e\\u0432\\u0431\\u0435\\u0437\\u0435 \\u041e\\u041e\\u041d \\u0420\\u043e\\u0441\\u0441\\u0438\\u0439\\u0441\\u043a\\u0438\\u0435 \\u0434\\u0435\\u043f\\u0443\\u0442\\u0430\\u0442\\u044b \\u0441\\u043e\\u0447\\u043b\\u0438 \\u0441\\u043c\\u0435\\u0448\\u043d\\u043e\\u0439 \\u0437\\u0430\\u0440\\u043f\\u043b\\u0430\\u0442\\u0443 \\u043c\\u044d\\u0440\\u0430 \\u0432 250 \\u0442\\u044b\\u0441\\u044f\\u0447 \\u0440\\u0443\\u0431\\u043b\\u0435\\u0439 \\u0438 \\u043f\\u043e\\u0434\\u043d\\u044f\\u043b\\u0438 \\u0435\\u0435 \\u041f\\u0443\\u0442\\u0438\\u043d \\u043f\\u043e\\u0441\\u0435\\u0442\\u043e\\u0432\\u0430\\u043b \\u043d\\u0430 \\u043e\\u0442\\u0441\\u0443\\u0442\\u0441\\u0442\\u0432\\u0438\\u0435 \\u0437\\u0434\\u0440\\u0430\\u0432\\u043e\\u0433\\u043e \\u043e\\u0442\\u0432\\u0435\\u0442\\u0430 \\u043d\\u0430 \\u0432\\u043e\\u043f\\u0440\\u043e\\u0441 \\u043e \\u0440\\u0430\\u0441\\u0448\\u0438\\u0440\\u0435\\u043d\\u0438\\u0438 \\u041d\\u0410\\u0422\\u041e \\u041b\\u0430\\u0432\\u0440\\u043e\\u0432 \\u043e\\u0431\\u0432\\u0438\\u043d\\u0438\\u043b \\u0437\\u0430\\u043f\\u0430\\u0434 \\u0432 \\u043f\\u0440\\u043e\\u0432\\u043e\\u0446\\u0438\\u0440\\u043e\\u0432\\u0430\\u043d\\u0438\\u0438 \\u0423\\u043a\\u0440\\u0430\\u0438\\u043d\\u044b \\u041b\\u0430\\u0432\\u0440\\u043e\\u0432 \\u0434\\u043e\\u043f\\u0443\\u0441\\u0442\\u0438\\u043b \\u0432\\u043e\\u0435\\u043d\\u043d\\u044b\\u0435 \\u0430\\u0432\\u0430\\u043d\\u0442\\u044e\\u0440\\u044b \\u0441\\u043e \\u0441\\u0442\\u043e\\u0440\\u043e\\u043d\\u044b \\u0423\\u043a\\u0440\\u0430\\u0438\\u043d\\u044b \\u0412 \\u0413\\u043e\\u0441\\u0434\\u0443\\u043c\\u0435 \\u0437\\u0430\\u044f\\u0432\\u0438\\u043b\\u0438 \\u043e \\u0434\\u0435\\u0441\\u0442\\u0430\\u0431\\u0438\\u043b\\u0438\\u0437\\u0430\\u0446\\u0438\\u0438 \\u0423\\u043a\\u0440\\u0430\\u0438\\u043d\\u044b \\u0432 \\u0441\\u0430\\u043c\\u043e\\u043c \\u041a\\u0438\\u0435\\u0432\\u0435 \\u041f\\u0443\\u0442\\u0438\\u043d \\u043e\\u0442\\u0432\\u0435\\u0442\\u0438\\u043b \\u043d\\u0430 \\u0432\\u043e\\u043f\\u0440\\u043e\\u0441 \\u043e \\u0432\\u0432\\u043e\\u0434\\u0435 \\u0440\\u043e\\u0441\\u0441\\u0438\\u0439\\u0441\\u043a\\u0438\\u0445 \\u0432\\u043e\\u0439\\u0441\\u043a \\u043d\\u0430 \\u0423\\u043a\\u0440\\u0430\\u0438\\u043d\\u0443 \\u0417\\u0430\\u0445\\u0430\\u0440\\u043e\\u0432\\u0430 \\u0440\\u0430\\u0441\\u043a\\u0440\\u0438\\u0442\\u0438\\u043a\\u043e\\u0432\\u0430\\u043b\\u0430 \\u043d\\u0435\\u043c\\u0435\\u0446\\u043a\\u0443\\u044e \\u0434\\u0438\\u043f\\u043b\\u043e\\u043c\\u0430\\u0442\\u0438\\u044e \\u0438\\u0437-\\u0437\\u0430 \\u0423\\u043a\\u0440\\u0430\\u0438\\u043d\\u044b \\u0412 \\u0421\\u043e\\u0432\\u0444\\u0435\\u0434\\u0435 \\u043f\\u043e\\u0434\\u0434\\u0435\\u0440\\u0436\\u0430\\u043b\\u0438 \\u0437\\u0430\\u043a\\u043e\\u043d\\u043e\\u043f\\u0440\\u043e\\u0435\\u043a\\u0442 \\u043e QR-\\u043a\\u043e\\u0434\\u0430\\u0445 \\u0428\\u0432\\u0435\\u0446\\u0438\\u044f \\u043e\\u0442\\u043a\\u0430\\u0437\\u0430\\u043b\\u0430\\u0441\\u044c \\u043e\\u0442 \\u0447\\u043b\\u0435\\u043d\\u0441\\u0442\\u0432\\u0430 \\u0432 \\u041d\\u0410\\u0422\\u041e \\u0412 \\u0428\\u0432\\u0435\\u0446\\u0438\\u0438 \\u0432\\u043f\\u0435\\u0440\\u0432\\u044b\\u0435 \\u043d\\u0430\\u0437\\u043d\\u0430\\u0447\\u0438\\u043b\\u0438 \\u043c\\u0438\\u043d\\u0438\\u0441\\u0442\\u0440\\u043e\\u043c \\u0442\\u0440\\u0430\\u043d\\u0441\\u0433\\u0435\\u043d\\u0434\\u0435\\u0440\\u0430 \\u0420\\u0430\\u0434\\u0438\\u043a\\u0430\\u043b\\u044c\\u043d\\u044b\\u0439 \\u0436\\u0443\\u0440\\u043d\\u0430\\u043b\\u0438\\u0441\\u0442 \\u0432\\u044b\\u0434\\u0432\\u0438\\u043d\\u0443\\u043b \\u043a\\u0430\\u043d\\u0434\\u0438\\u0434\\u0430\\u0442\\u0443\\u0440\\u0443 \\u043d\\u0430 \\u043f\\u043e\\u0441\\u0442 \\u043f\\u0440\\u0435\\u0437\\u0438\\u0434\\u0435\\u043d\\u0442\\u0430 \\u0424\\u0440\\u0430\\u043d\\u0446\\u0438\\u0438 \\u041b\\u0430\\u0432\\u0440\\u043e\\u0432 \\u0437\\u0430\\u044f\\u0432\\u0438\\u043b \\u043e \\u043f\\u0435\\u0440\\u0435\\u0431\\u0440\\u043e\\u0441\\u043a\\u0435 \\u0432\\u043e\\u0435\\u043d\\u043d\\u043e\\u0439 \\u0442\\u0435\\u0445\\u043d\\u0438\\u043a\\u0438 \\u041d\\u0410\\u0422\\u041e \\u043a \\u0440\\u043e\\u0441\\u0441\\u0438\\u0439\\u0441\\u043a\\u0438\\u043c \\u0433\\u0440\\u0430\\u043d\\u0438\\u0446\\u0430\\u043c \\u0412 \\u0413\\u043e\\u0441\\u0434\\u0443\\u043c\\u0435 \\u043d\\u0430\\u0437\\u0432\\u0430\\u043b\\u0438 \\u0433\\u043b\\u0430\\u0432\\u0443 \\u041c\\u0418\\u0414 \\u0423\\u043a\\u0440\\u0430\\u0438\\u043d\\u044b \\u041a\\u0443\\u043b\\u0435\\u0431\\u0443 \\u0448\\u0442\\u0430\\u0442\\u043d\\u044b\\u043c \\u043f\\u0440\\u043e\\u043f\\u0430\\u0433\\u0430\\u043d\\u0434\\u0438\\u0441\\u0442\\u043e\\u043c \\u041f\\u0443\\u0442\\u0438\\u043d \\u043f\\u043e\\u0440\\u0443\\u0447\\u0438\\u043b \\u043e\\u0431\\u043d\\u043e\\u0432\\u0438\\u0442\\u044c \\u043f\\u043b\\u0430\\u043d \\u0434\\u0435\\u0439\\u0441\\u0442\\u0432\\u0438\\u0439 \\u0438\\u0437-\\u0437\\u0430 \\u043e\\u043c\\u0438\\u043a\\u0440\\u043e\\u043d-\\u0448\\u0442\\u0430\\u043c\\u043c\\u0430 \\u0412 \\u041a\\u041f\\u0420\\u0424 \\u043e\\u043f\\u0440\\u043e\\u0432\\u0435\\u0440\\u0433\\u043b\\u0438 \\u0441\\u043e\\u043e\\u0431\\u0449\\u0435\\u043d\\u0438\\u044f \\u043e \\u0433\\u043e\\u0441\\u043f\\u0438\\u0442\\u0430\\u043b\\u0438\\u0437\\u0430\\u0446\\u0438\\u0438 \\u0420\\u0430\\u0448\\u043a\\u0438\\u043d\\u0430 \\u041f\\u0443\\u0442\\u0438\\u043d \\u043e\\u043f\\u0440\\u043e\\u0432\\u0435\\u0440\\u0433 \\u0441\\u0442\\u0440\\u0435\\u043c\\u043b\\u0435\\u043d\\u0438\\u0435 \\u0420\\u043e\\u0441\\u0441\\u0438\\u0438 \\u0436\\u0438\\u0442\\u044c \\u00ab\\u0437\\u0430 \\u043a\\u0440\\u0435\\u043f\\u043e\\u0441\\u0442\\u043d\\u044b\\u043c\\u0438 \\u0441\\u0442\\u0435\\u043d\\u0430\\u043c\\u0438\\u00bb \\u0412 \\u0426\\u0410\\u0420 \\u0440\\u0430\\u0441\\u0441\\u043a\\u0430\\u0437\\u0430\\u043b\\u0438 \\u043e \\u043f\\u043e\\u043b\\u044c\\u0437\\u0435 \\u0438\\u0437\\u0443\\u0447\\u0435\\u043d\\u0438\\u044f \\u0440\\u0443\\u0441\\u0441\\u043a\\u043e\\u0433\\u043e \\u044f\\u0437\\u044b\\u043a\\u0430 \\u0412 \\u0413\\u043e\\u0441\\u0434\\u0443\\u043c\\u0435 \\u043e\\u0442\\u0432\\u0435\\u0442\\u0438\\u043b\\u0438 \\u043d\\u0430 \\u0438\\u0441\\u043a \\u0420\\u0430\\u0448\\u043a\\u0438\\u043d\\u0430 \\u0412 \\u0421\\u0428\\u0410 \\u043f\\u043e\\u043e\\u0431\\u0435\\u0449\\u0430\\u043b\\u0438 \\u0420\\u043e\\u0441\\u0441\\u0438\\u0438 \\u043f\\u043e\\u0441\\u043b\\u0435\\u0434\\u0441\\u0442\\u0432\\u0438\\u044f \\u0437\\u0430 \\u0430\\u0433\\u0440\\u0435\\u0441\\u0441\\u0438\\u044e \\u043f\\u0440\\u043e\\u0442\\u0438\\u0432 \\u0423\\u043a\\u0440\\u0430\\u0438\\u043d\\u044b \\u0412 \\u0415\\u041a \\u043f\\u0440\\u0438\\u0437\\u043d\\u0430\\u043b\\u0438 \\u043d\\u0435\\u0432\\u043e\\u0437\\u043c\\u043e\\u0436\\u043d\\u043e\\u0441\\u0442\\u044c \\u043f\\u0440\\u0435\\u0434\\u043e\\u0442\\u0432\\u0440\\u0430\\u0449\\u0435\\u043d\\u0438\\u044f \\u0440\\u0430\\u0441\\u043f\\u0440\\u043e\\u0441\\u0442\\u0440\\u0430\\u043d\\u0435\\u043d\\u0438\\u044f \\u043e\\u043c\\u0438\\u043a\\u0440\\u043e\\u043d-\\u0448\\u0442\\u0430\\u043c\\u043c\\u0430 \\u041f\\u0443\\u0442\\u0438\\u043d \\u0432\\u044b\\u0441\\u043a\\u0430\\u0437\\u0430\\u043b\\u0441\\u044f \\u043e \\u043a\\u0440\\u0430\\u0441\\u043d\\u044b\\u0445 \\u043b\\u0438\\u043d\\u0438\\u044f\\u0445 \\u0432 \\u043e\\u0442\\u043d\\u043e\\u0448\\u0435\\u043d\\u0438\\u044f\\u0445 \\u0441 \\u0423\\u043a\\u0440\\u0430\\u0438\\u043d\\u043e\\u0439 \\u041f\\u0443\\u0442\\u0438\\u043d \\u043e\\u0442\\u0432\\u0435\\u0442\\u0438\\u043b \\u043d\\u0430 \\u0432\\u043e\\u043f\\u0440\\u043e\\u0441 \\u043e \\u043f\\u0435\\u0440\\u0435\\u0438\\u0437\\u0431\\u0440\\u0430\\u043d\\u0438\\u0438 \\u043d\\u0430 \\u043f\\u043e\\u0441\\u0442 \\u043f\\u0440\\u0435\\u0437\\u0438\\u0434\\u0435\\u043d\\u0442\\u0430 \\u0420\\u043e\\u0441\\u0441\\u0438\\u0438 \\u0421\\u0412\\u0420 \\u043e\\u0431\\u0432\\u0438\\u043d\\u0438\\u043b\\u0430 \\u0421\\u0428\\u0410 \\u0438 \\u0412\\u0435\\u043b\\u0438\\u043a\\u043e\\u0431\\u0440\\u0438\\u0442\\u0430\\u043d\\u0438\\u044e \\u0432 \\u0440\\u0430\\u0437\\u0434\\u0443\\u0432\\u0430\\u043d\\u0438\\u0438 \\u0438\\u0441\\u0442\\u0435\\u0440\\u0438\\u0438 \\u043d\\u0430 \\u0432\\u0441\\u0442\\u0440\\u0435\\u0447\\u0435 \\u0432 \\u041a\\u0438\\u0435\\u0432\\u0435 \\u041f\\u0443\\u0442\\u0438\\u043d \\u043e\\u0442\\u0432\\u0435\\u0442\\u0438\\u043b \\u043d\\u0430 \\u0432\\u043e\\u043f\\u0440\\u043e\\u0441 \\u043e \\u0441\\u0442\\u0440\\u0430\\u0445\\u0435 \\u0420\\u043e\\u0441\\u0441\\u0438\\u0438 \\u043f\\u0435\\u0440\\u0435\\u0434 \\u041a\\u0438\\u0442\\u0430\\u0435\\u043c \\u0420\\u043e\\u0441\\u0441\\u0438\\u044f\\u043d \\u043f\\u0440\\u0435\\u0434\\u0443\\u043f\\u0440\\u0435\\u0434\\u0438\\u043b\\u0438 \\u043e\\u0431 \\u0438\\u0437\\u043c\\u0435\\u043d\\u0435\\u043d\\u0438\\u044f\\u0445 \\u0432 \\u0437\\u0430\\u043a\\u043e\\u043d\\u0430\\u0445 \\u0441 1 \\u0434\\u0435\\u043a\\u0430\\u0431\\u0440\\u044f \\u0413\\u043b\\u0430\\u0432\\u0430 \\u041d\\u0410\\u0422\\u041e \\u0437\\u0430\\u044f\\u0432\\u0438\\u043b \\u043e \\u043f\\u043e\\u0434\\u0433\\u043e\\u0442\\u043e\\u0432\\u043a\\u0435 \\u0417\\u0430\\u043f\\u0430\\u0434\\u0430 \\u043a \\u043d\\u0430\\u043f\\u0430\\u0434\\u0435\\u043d\\u0438\\u044e \\u0420\\u043e\\u0441\\u0441\\u0438\\u0438 \\u043d\\u0430 \\u0423\\u043a\\u0440\\u0430\\u0438\\u043d\\u0443 \\u0413\\u0435\\u043d\\u0441\\u0435\\u043a \\u041d\\u0410\\u0422\\u041e \\u043d\\u0430\\u0437\\u0432\\u0430\\u043b \\u0443\\u0441\\u043b\\u043e\\u0432\\u0438\\u0435 \\u0434\\u043b\\u044f \\u0432\\u0441\\u0442\\u0443\\u043f\\u043b\\u0435\\u043d\\u0438\\u044f \\u0423\\u043a\\u0440\\u0430\\u0438\\u043d\\u044b \\u0432 \\u0430\\u043b\\u044c\\u044f\\u043d\\u0441 \\u0421\\u0428\\u0410 \\u0432\\u0432\\u0435\\u043b\\u0438 \\u0441\\u0430\\u043d\\u043a\\u0446\\u0438\\u0438 \\u043f\\u0440\\u043e\\u0442\\u0438\\u0432 \\u0447\\u0438\\u043d\\u043e\\u0432\\u043d\\u0438\\u043a\\u043e\\u0432 \\u041a\\u0443\\u0431\\u044b \\u0421\\u0442\\u0430\\u043b\\u043e \\u0438\\u0437\\u0432\\u0435\\u0441\\u0442\\u043d\\u043e \\u043e \\u0441\\u0435\\u043a\\u0441\\u0443\\u0430\\u043b\\u044c\\u043d\\u044b\\u0445 \\u0434\\u043e\\u043c\\u043e\\u0433\\u0430\\u0442\\u0435\\u043b\\u044c\\u0441\\u0442\\u0432\\u0430\\u0445 \\u0432 \\u043f\\u0430\\u0440\\u043b\\u0430\\u043c\\u0435\\u043d\\u0442\\u0435 \\u0410\\u0432\\u0441\\u0442\\u0440\\u0430\\u043b\\u0438\\u0438 \\u041f\\u0430\\u0442\\u0440\\u0443\\u0448\\u0435\\u0432 \\u0437\\u0430\\u044f\\u0432\\u0438\\u043b \\u043e \\u0442\\u0449\\u0430\\u0442\\u0435\\u043b\\u044c\\u043d\\u043e\\u043c \\u043d\\u0430\\u0431\\u043b\\u044e\\u0434\\u0435\\u043d\\u0438\\u0438 \\u0420\\u043e\\u0441\\u0441\\u0438\\u0438 \\u0437\\u0430 \\u0434\\u0435\\u0439\\u0441\\u0442\\u0432\\u0438\\u044f\\u043c\\u0438 \\u041d\\u0410\\u0422\\u041e \\u0443 \\u0433\\u0440\\u0430\\u043d\\u0438\\u0446\\u044b \\u0413\\u043b\\u0430\\u0432\\u0430 \\u041a\\u0440\\u044b\\u043c\\u0430 \\u043e\\u0446\\u0435\\u043d\\u0438\\u043b \\u0440\\u0430\\u0437\\u0440\\u0435\\u0448\\u0435\\u043d\\u0438\\u0435 \\u0423\\u043a\\u0440\\u0430\\u0438\\u043d\\u044b \\u0437\\u0430\\u0434\\u0435\\u0440\\u0436\\u0430\\u0442\\u044c \\u0435\\u0433\\u043e \\u0441\\u043b\\u043e\\u0432\\u0430\\u043c\\u0438 \\u00ab\\u0431\\u0443\\u0434\\u0443 \\u0436\\u0434\\u0430\\u0442\\u044c\\u00bb \\u0411\\u0435\\u043b\\u044b\\u0439 \\u0434\\u043e\\u043c \\u043e\\u0442\\u0432\\u0435\\u0442\\u0438\\u043b \\u043d\\u0430 \\u0432\\u043e\\u043f\\u0440\\u043e\\u0441 \\u043e \\u043d\\u043e\\u0432\\u044b\\u0445 \\u043a\\u043e\\u043d\\u0442\\u0430\\u043a\\u0442\\u0430\\u0445 \\u041f\\u0443\\u0442\\u0438\\u043d\\u0430 \\u0438 \\u0411\\u0430\\u0439\\u0434\\u0435\\u043d\\u0430 \\u0412 \\u0413\\u043e\\u0441\\u0434\\u0443\\u043c\\u0435 \\u0440\\u0430\\u0441\\u043a\\u0440\\u0438\\u0442\\u0438\\u043a\\u043e\\u0432\\u0430\\u043b\\u0438 \\u0437\\u0430\\u043f\\u0440\\u0435\\u0442 \\u043d\\u0430 \\u0443\\u043f\\u043e\\u043c\\u0438\\u043d\\u0430\\u043d\\u0438\\u0435 \\u043d\\u0430\\u0446\\u0438\\u043e\\u043d\\u0430\\u043b\\u044c\\u043d\\u043e\\u0441\\u0442\\u0438 \\u043f\\u0440\\u0435\\u0441\\u0442\\u0443\\u043f\\u043d\\u0438\\u043a\\u043e\\u0432 \\u0412 \\u0421\\u0428\\u0410 \\u0437\\u0430\\u044f\\u0432\\u0438\\u043b\\u0438 \\u043e \\u043f\\u0440\\u0438\\u0431\\u043b\\u0438\\u0436\\u0435\\u043d\\u0438\\u0438 \\u043a \\u0440\\u0430\\u0437\\u0432\\u0430\\u043b\\u0443 \\u0441\\u0442\\u0440\\u0430\\u043d\\u044b \\u0412 \\u0420\\u043e\\u0441\\u0441\\u0438\\u0438 \\u043e\\u0442\\u043a\\u0430\\u0437\\u0430\\u043b\\u0438\\u0441\\u044c \\u0441\\u0447\\u0438\\u0442\\u0430\\u0442\\u044c \\u0441\\u0430\\u043d\\u043a\\u0446\\u0438\\u0438 \\u0421\\u0428\\u0410 \\u043f\\u0440\\u043e\\u0431\\u043b\\u0435\\u043c\\u043e\\u0439 \\u0434\\u043b\\u044f \\u00ab\\u0421\\u0435\\u0432\\u0435\\u0440\\u043d\\u043e\\u0433\\u043e \\u043f\\u043e\\u0442\\u043e\\u043a\\u0430-2\\u00bb \\u041d\\u0430\\u0437\\u0432\\u0430\\u043d\\u0430 \\u0435\\u0449\\u0435 \\u043e\\u0434\\u043d\\u0430 \\u0446\\u0435\\u043b\\u044c \\u0432\\u0438\\u0437\\u0438\\u0442\\u0430 \\u0448\\u0435\\u0444\\u0430 \\u0426\\u0420\\u0423 \\u0432 \\u041c\\u043e\\u0441\\u043a\\u0432\\u0443 \\u0427\\u043b\\u0435\\u043d \\u041a\\u041f\\u0420\\u0424 \\u043f\\u0440\\u0438 \\u043e\\u0431\\u0441\\u0443\\u0436\\u0434\\u0435\\u043d\\u0438\\u0438 \\u0437\\u0430\\u043a\\u043e\\u043d\\u043e\\u043f\\u0440\\u043e\\u0435\\u043a\\u0442\\u0430 \\u0441 \\u0447\\u043b\\u0435\\u043d\\u043e\\u043c \\u041a\\u041f\\u0421\\u0421 \\u0440\\u0435\\u0448\\u0438\\u043b \\u0441\\u043b\\u043e\\u043c\\u0430\\u0442\\u044c \\u0435\\u043c\\u0443 \\u043d\\u043e\\u0441 \\u0420\\u0430\\u043a\\u0435\\u0442\\u043d\\u044b\\u0439 \\u044d\\u0441\\u043c\\u0438\\u043d\\u0435\\u0446 \\u0421\\u0428\\u0410 \\u0432\\u043e\\u0437\\u043e\\u0431\\u043d\\u043e\\u0432\\u0438\\u043b \\u043e\\u043f\\u0435\\u0440\\u0430\\u0446\\u0438\\u044e \\u0432 \\u0427\\u0435\\u0440\\u043d\\u043e\\u043c \\u043c\\u043e\\u0440\\u0435 \\u0412 \\u0411\\u0440\\u0438\\u0442\\u0430\\u043d\\u0438\\u0438 \\u043d\\u0430\\u0437\\u0432\\u0430\\u043b\\u0438 \\u0441\\u043f\\u043e\\u0441\\u043e\\u0431 \\u043f\\u0440\\u043e\\u0442\\u0438\\u0432\\u043e\\u0441\\u0442\\u043e\\u044f\\u0442\\u044c \\u0443\\u0433\\u0440\\u043e\\u0437\\u0430\\u043c \\u0420\\u043e\\u0441\\u0441\\u0438\\u0438 \\u0438 \\u041a\\u0438\\u0442\\u0430\\u044f \\u0412 \\u0413\\u043e\\u0441\\u0434\\u0443\\u043c\\u0435 \\u043f\\u0440\\u043e\\u043a\\u043e\\u043c\\u043c\\u0435\\u043d\\u0442\\u0438\\u0440\\u043e\\u0432\\u0430\\u043b\\u0438 \\u043f\\u043b\\u0430\\u043d\\u044b \\u00ab\\u0420\\u043e\\u0441\\u043a\\u043e\\u0441\\u043c\\u043e\\u0441\\u0430\\u00bb \\u0432\\u044b\\u0440\\u0430\\u0449\\u0438\\u0432\\u0430\\u0442\\u044c \\u0440\\u0430\\u0441\\u0442\\u0435\\u043d\\u0438\\u044f \\u043d\\u0430 \\u043e\\u0440\\u0431\\u0438\\u0442\\u0435 \\u041b\\u0438\\u0448\\u0435\\u043d\\u043d\\u044b\\u0439 \\u0434\\u0435\\u043f\\u0443\\u0442\\u0430\\u0442\\u0441\\u043a\\u043e\\u0439 \\u043d\\u0435\\u043f\\u0440\\u0438\\u043a\\u043e\\u0441\\u043d\\u043e\\u0432\\u0435\\u043d\\u043d\\u043e\\u0441\\u0442\\u0438 \\u0420\\u0430\\u0448\\u043a\\u0438\\u043d \\u043f\\u043e\\u0434\\u0430\\u043b \\u0438\\u0441\\u043a \\u043a \\u0413\\u043e\\u0441\\u0434\\u0443\\u043c\\u0435 \\u0417\\u044e\\u0433\\u0430\\u043d\\u043e\\u0432 \\u0440\\u0430\\u0441\\u0441\\u043a\\u0430\\u0437\\u0430\\u043b \\u043f\\u043e\\u0434\\u0440\\u043e\\u0431\\u043d\\u043e\\u0441\\u0442\\u0438 \\u0433\\u043e\\u0441\\u043f\\u0438\\u0442\\u0430\\u043b\\u0438\\u0437\\u0430\\u0446\\u0438\\u0438 \\u0420\\u0430\\u0448\\u043a\\u0438\\u043d\\u0430 \\u0411\\u0443\\u0434\\u0443\\u0449\\u0438\\u0439 \\u043a\\u0430\\u043d\\u0446\\u043b\\u0435\\u0440 \\u0413\\u0435\\u0440\\u043c\\u0430\\u043d\\u0438\\u0438 \\u0432\\u044b\\u0441\\u0442\\u0443\\u043f\\u0438\\u043b \\u0437\\u0430 \\u043e\\u0431\\u044f\\u0437\\u0430\\u0442\\u0435\\u043b\\u044c\\u043d\\u0443\\u044e \\u0432\\u0430\\u043a\\u0446\\u0438\\u043d\\u0430\\u0446\\u0438\\u044e \\u0412 \\u0421\\u0428\\u0410 \\u043f\\u0440\\u0435\\u0434\\u043b\\u043e\\u0436\\u0438\\u043b\\u0438 \\u043d\\u0430\\u0434\\u0430\\u0432\\u0438\\u0442\\u044c \\u043d\\u0430 \\u0420\\u043e\\u0441\\u0441\\u0438\\u044e \\u0438\\u0437-\\u0437\\u0430 \\u0432\\u043e\\u0439\\u0441\\u043a \\u0443 \\u0433\\u0440\\u0430\\u043d\\u0438\\u0446\\u044b \\u0441 \\u0423\\u043a\\u0440\\u0430\\u0438\\u043d\\u043e\\u0439 \\u0411\\u0430\\u0439\\u0434\\u0435\\u043d \\u043e\\u0448\\u0438\\u0431\\u0441\\u044f \\u0432 \\u043d\\u0430\\u0437\\u0432\\u0430\\u043d\\u0438\\u0438 \\u043d\\u043e\\u0432\\u043e\\u0433\\u043e \\u043e\\u043c\\u0438\\u043a\\u0440\\u043e\\u043d-\\u0448\\u0442\\u0430\\u043c\\u043c\\u0430 \\u043a\\u043e\\u0440\\u043e\\u043d\\u0430\\u0432\\u0438\\u0440\\u0443\\u0441\\u0430\"\n        ],\n        \"semantic_type\": \"\",\n        \"description\": \"\"\n      }\n    },\n    {\n      \"column\": \"label\",\n      \"properties\": {\n        \"dtype\": \"number\",\n        \"std\": 0,\n        \"min\": 0,\n        \"max\": 1,\n        \"num_unique_values\": 2,\n        \"samples\": [\n          1,\n          0\n        ],\n        \"semantic_type\": \"\",\n        \"description\": \"\"\n      }\n    }\n  ]\n}"
            }
          },
          "metadata": {},
          "execution_count": 47
        }
      ]
    },
    {
      "cell_type": "code",
      "source": [
        "from transformers import AutoTokenizer\n",
        "\n",
        "tokenizer = AutoTokenizer.from_pretrained(\"sberbank-ai/ruBert-base\")\n",
        "\n",
        "from transformers import BertForSequenceClassification\n",
        "model = BertForSequenceClassification.from_pretrained(\"sberbank-ai/ruBert-base\", num_labels=2)\n",
        "\n",
        "from sklearn.metrics import precision_recall_fscore_support, accuracy_score\n",
        "\n",
        "def compute_metrics(pred):\n",
        "    labels = pred.label_ids\n",
        "    preds = np.argmax(pred.predictions, axis=1)\n",
        "    precision, recall, f1, _ = precision_recall_fscore_support(labels, preds, average=\"binary\")\n",
        "    acc = accuracy_score(labels, preds)\n",
        "    return {\n",
        "        \"accuracy\": acc,\n",
        "        \"precision\": precision,\n",
        "        \"recall\": recall,\n",
        "        \"f1\": f1,\n",
        "    }"
      ],
      "metadata": {
        "colab": {
          "base_uri": "https://localhost:8080/"
        },
        "id": "aadFP99U0RAF",
        "outputId": "3c689a33-c858-4a2e-f137-60323f9969a0"
      },
      "execution_count": 48,
      "outputs": [
        {
          "output_type": "stream",
          "name": "stderr",
          "text": [
            "Some weights of BertForSequenceClassification were not initialized from the model checkpoint at sberbank-ai/ruBert-base and are newly initialized: ['classifier.bias', 'classifier.weight']\n",
            "You should probably TRAIN this model on a down-stream task to be able to use it for predictions and inference.\n"
          ]
        }
      ]
    },
    {
      "cell_type": "code",
      "source": [
        "from datasets import Dataset\n",
        "\n",
        "# Преобразуем датафрейм в Dataset\n",
        "raw_ds = Dataset.from_pandas(df_text)\n",
        "\n",
        "def tokenize_function(example):\n",
        "    return tokenizer(\n",
        "        example[\"text\"],\n",
        "        truncation=True,\n",
        "        padding=\"max_length\",\n",
        "        max_length=128\n",
        "    )\n",
        "\n",
        "# Токенизация\n",
        "tokenized_ds = raw_ds.map(tokenize_function, batched=True)\n",
        "tokenized_ds = tokenized_ds.rename_column(\"label\", \"labels\")\n",
        "tokenized_ds.set_format(\"torch\", columns=[\"input_ids\", \"attention_mask\", \"labels\"])\n",
        "\n",
        "# Делим на train/test\n",
        "split = len(tokenized_ds) - 200\n",
        "train_ds = tokenized_ds.select(range(split))\n",
        "test_ds = tokenized_ds.select(range(split, len(tokenized_ds)))\n"
      ],
      "metadata": {
        "colab": {
          "base_uri": "https://localhost:8080/",
          "height": 49,
          "referenced_widgets": [
            "8fecefdfbe7b4384b783c1e82f9e7b24",
            "793e4e9b150040a09143d710f30111c8",
            "57b6795dbcfd45a4b13082cbc36da0e7",
            "f615a1f037e04b4589af5cc36b84e94b",
            "a543bc8e9c044859bd815dd4e7154af3",
            "a83001c821a644aca1b8d9cf47146a78",
            "704c0482b97c42cb9aa8bbbdd1d6edf0",
            "b417a746563845ada213fb50df6a6da8",
            "cb9b2d0363ab438c973cb96704b6be06",
            "de25853fada84e5bb3856d93fd565b0e",
            "4fa98e9e6a7f48d0bedf77c8eca2389c"
          ]
        },
        "id": "k38XRMf4GEtz",
        "outputId": "d4c553ea-850b-481d-fca4-c7c543bbc26d"
      },
      "execution_count": 49,
      "outputs": [
        {
          "output_type": "display_data",
          "data": {
            "text/plain": [
              "Map:   0%|          | 0/803 [00:00<?, ? examples/s]"
            ],
            "application/vnd.jupyter.widget-view+json": {
              "version_major": 2,
              "version_minor": 0,
              "model_id": "8fecefdfbe7b4384b783c1e82f9e7b24"
            }
          },
          "metadata": {}
        }
      ]
    },
    {
      "cell_type": "code",
      "source": [
        "training_args = TrainingArguments(\n",
        "    output_dir=\"./results\",\n",
        "    num_train_epochs=3,\n",
        "    per_device_train_batch_size=8,\n",
        "    per_device_eval_batch_size=8,\n",
        "    warmup_steps=10,\n",
        "    weight_decay=0.01,\n",
        "    logging_dir=\"./logs\",\n",
        "    logging_steps=10,\n",
        "    eval_strategy=\"epoch\",\n",
        "    report_to=\"none\",\n",
        ")"
      ],
      "metadata": {
        "id": "G2hQFcL23D03"
      },
      "execution_count": 50,
      "outputs": []
    },
    {
      "cell_type": "code",
      "source": [
        "trainer = Trainer(\n",
        "    model=model,\n",
        "    args=training_args,\n",
        "    train_dataset=train_ds,\n",
        "    eval_dataset=test_ds,\n",
        "    compute_metrics=compute_metrics,\n",
        ")\n",
        "\n",
        "trainer.train()"
      ],
      "metadata": {
        "colab": {
          "base_uri": "https://localhost:8080/",
          "height": 221
        },
        "id": "D7qW5NIG0Zs7",
        "outputId": "cfe464b9-e66e-415a-d3b2-d4eb564973f3"
      },
      "execution_count": 51,
      "outputs": [
        {
          "output_type": "display_data",
          "data": {
            "text/plain": [
              "<IPython.core.display.HTML object>"
            ],
            "text/html": [
              "\n",
              "    <div>\n",
              "      \n",
              "      <progress value='228' max='228' style='width:300px; height:20px; vertical-align: middle;'></progress>\n",
              "      [228/228 52:38, Epoch 3/3]\n",
              "    </div>\n",
              "    <table border=\"1\" class=\"dataframe\">\n",
              "  <thead>\n",
              " <tr style=\"text-align: left;\">\n",
              "      <th>Epoch</th>\n",
              "      <th>Training Loss</th>\n",
              "      <th>Validation Loss</th>\n",
              "      <th>Accuracy</th>\n",
              "      <th>Precision</th>\n",
              "      <th>Recall</th>\n",
              "      <th>F1</th>\n",
              "    </tr>\n",
              "  </thead>\n",
              "  <tbody>\n",
              "    <tr>\n",
              "      <td>1</td>\n",
              "      <td>0.793700</td>\n",
              "      <td>0.686549</td>\n",
              "      <td>0.560000</td>\n",
              "      <td>0.560000</td>\n",
              "      <td>1.000000</td>\n",
              "      <td>0.717949</td>\n",
              "    </tr>\n",
              "    <tr>\n",
              "      <td>2</td>\n",
              "      <td>0.692600</td>\n",
              "      <td>0.708373</td>\n",
              "      <td>0.470000</td>\n",
              "      <td>0.625000</td>\n",
              "      <td>0.133929</td>\n",
              "      <td>0.220588</td>\n",
              "    </tr>\n",
              "    <tr>\n",
              "      <td>3</td>\n",
              "      <td>0.705100</td>\n",
              "      <td>0.692912</td>\n",
              "      <td>0.470000</td>\n",
              "      <td>0.625000</td>\n",
              "      <td>0.133929</td>\n",
              "      <td>0.220588</td>\n",
              "    </tr>\n",
              "  </tbody>\n",
              "</table><p>"
            ]
          },
          "metadata": {}
        },
        {
          "output_type": "execute_result",
          "data": {
            "text/plain": [
              "TrainOutput(global_step=228, training_loss=0.7088936776445623, metrics={'train_runtime': 3183.9734, 'train_samples_per_second': 0.568, 'train_steps_per_second': 0.072, 'total_flos': 118991974786560.0, 'train_loss': 0.7088936776445623, 'epoch': 3.0})"
            ]
          },
          "metadata": {},
          "execution_count": 51
        }
      ]
    },
    {
      "cell_type": "code",
      "source": [
        "# === 8. ОЦЕНКА ===\n",
        "\n",
        "preds = trainer.predict(test_ds)\n",
        "y_true = preds.label_ids\n",
        "y_pred = np.argmax(preds.predictions, axis=1)\n",
        "\n",
        "print(\"\\n📋 Classification Report:\\n\")\n",
        "print(classification_report(y_true, y_pred, digits=3))"
      ],
      "metadata": {
        "colab": {
          "base_uri": "https://localhost:8080/",
          "height": 225
        },
        "id": "N1OVMi21qjKx",
        "outputId": "7e6ffa35-6ac1-4169-8598-aa8c44f01040"
      },
      "execution_count": 52,
      "outputs": [
        {
          "output_type": "display_data",
          "data": {
            "text/plain": [
              "<IPython.core.display.HTML object>"
            ],
            "text/html": []
          },
          "metadata": {}
        },
        {
          "output_type": "stream",
          "name": "stdout",
          "text": [
            "\n",
            "📋 Classification Report:\n",
            "\n",
            "              precision    recall  f1-score   support\n",
            "\n",
            "           0      0.449     0.898     0.598        88\n",
            "           1      0.625     0.134     0.221       112\n",
            "\n",
            "    accuracy                          0.470       200\n",
            "   macro avg      0.537     0.516     0.410       200\n",
            "weighted avg      0.547     0.470     0.387       200\n",
            "\n"
          ]
        }
      ]
    },
    {
      "cell_type": "code",
      "source": [
        "# === 9. CONFUSION MATRIX ===\n",
        "cm = confusion_matrix(y_true, y_pred)\n",
        "plt.figure(figsize=(5,4))\n",
        "sns.heatmap(cm, annot=True, fmt=\"d\", cmap=\"Blues\", xticklabels=[\"0 (↓)\", \"1 (↑)\"], yticklabels=[\"0 (↓)\", \"1 (↑)\"])\n",
        "plt.xlabel(\"Predicted\")\n",
        "plt.ylabel(\"Actual\")\n",
        "plt.title(\"Confusion Matrix (Test Set)\")\n",
        "plt.show()"
      ],
      "metadata": {
        "id": "ssopthrDqk0f"
      },
      "execution_count": null,
      "outputs": []
    },
    {
      "cell_type": "code",
      "execution_count": 54,
      "metadata": {
        "colab": {
          "base_uri": "https://localhost:8080/"
        },
        "id": "rE9ZEds9oPZc",
        "outputId": "5a9a8f9f-d44a-441a-ab7a-1fad33a8cc59"
      },
      "outputs": [
        {
          "output_type": "execute_result",
          "data": {
            "text/plain": [
              "('./finetuned-rubert/tokenizer_config.json',\n",
              " './finetuned-rubert/special_tokens_map.json',\n",
              " './finetuned-rubert/vocab.txt',\n",
              " './finetuned-rubert/added_tokens.json',\n",
              " './finetuned-rubert/tokenizer.json')"
            ]
          },
          "metadata": {},
          "execution_count": 54
        }
      ],
      "source": [
        "# === 10. СОХРАНЕНИЕ МОДЕЛИ ===\n",
        "trainer.save_model(\"./finetuned-rubert\")\n",
        "tokenizer.save_pretrained(\"./finetuned-rubert\")"
      ]
    }
  ]
}